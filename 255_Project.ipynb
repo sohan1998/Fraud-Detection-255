{
  "nbformat": 4,
  "nbformat_minor": 0,
  "metadata": {
    "colab": {
      "name": "255_Project.ipynb",
      "provenance": [],
      "collapsed_sections": [],
      "machine_shape": "hm"
    },
    "kernelspec": {
      "name": "python3",
      "display_name": "Python 3"
    },
    "language_info": {
      "name": "python"
    },
    "accelerator": "GPU"
  },
  "cells": [
    {
      "cell_type": "markdown",
      "metadata": {
        "id": "KuAE6agpnpbb"
      },
      "source": [
        "# Fraud Detection in Electricity and Gas Consumption"
      ]
    },
    {
      "cell_type": "code",
      "metadata": {
        "id": "jrhSaPfFL4WS",
        "colab": {
          "resources": {
            "http://localhost:8080/nbextensions/google.colab/files.js": {
              "data": "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",
              "ok": true,
              "headers": [
                [
                  "content-type",
                  "application/javascript"
                ]
              ],
              "status": 200,
              "status_text": ""
            }
          },
          "base_uri": "https://localhost:8080/",
          "height": 549
        },
        "outputId": "60a5fc88-3ade-4af4-b24f-c6e99a567a24"
      },
      "source": [
        "!pip install kaggle\n",
        "!pip install --upgrade --force-reinstall --no-deps kaggle\n",
        "from google.colab import files\n",
        "files.upload()\n",
        "!mkdir -p ~/.kaggle\n",
        "!cp kaggle.json ~/.kaggle/\n",
        "!chmod 600 ~/.kaggle/kaggle.json\n",
        "!kaggle datasets download -d mrmorj/fraud-detection-in-electricity-and-gas-consumption\n",
        "from zipfile import ZipFile as zp\n",
        "file_name = \"fraud-detection-in-electricity-and-gas-consumption.zip\"\n",
        "with zp(file_name,'r') as z_p:\n",
        "  z_p.extractall()\n",
        "  print('Done.')"
      ],
      "execution_count": null,
      "outputs": [
        {
          "output_type": "stream",
          "text": [
            "Requirement already satisfied: kaggle in /usr/local/lib/python3.7/dist-packages (1.5.12)\n",
            "Requirement already satisfied: six>=1.10 in /usr/local/lib/python3.7/dist-packages (from kaggle) (1.15.0)\n",
            "Requirement already satisfied: requests in /usr/local/lib/python3.7/dist-packages (from kaggle) (2.23.0)\n",
            "Requirement already satisfied: tqdm in /usr/local/lib/python3.7/dist-packages (from kaggle) (4.41.1)\n",
            "Requirement already satisfied: python-slugify in /usr/local/lib/python3.7/dist-packages (from kaggle) (4.0.1)\n",
            "Requirement already satisfied: python-dateutil in /usr/local/lib/python3.7/dist-packages (from kaggle) (2.8.1)\n",
            "Requirement already satisfied: urllib3 in /usr/local/lib/python3.7/dist-packages (from kaggle) (1.24.3)\n",
            "Requirement already satisfied: certifi in /usr/local/lib/python3.7/dist-packages (from kaggle) (2020.12.5)\n",
            "Requirement already satisfied: idna<3,>=2.5 in /usr/local/lib/python3.7/dist-packages (from requests->kaggle) (2.10)\n",
            "Requirement already satisfied: chardet<4,>=3.0.2 in /usr/local/lib/python3.7/dist-packages (from requests->kaggle) (3.0.4)\n",
            "Requirement already satisfied: text-unidecode>=1.3 in /usr/local/lib/python3.7/dist-packages (from python-slugify->kaggle) (1.3)\n",
            "Collecting kaggle\n",
            "\u001b[?25l  Downloading https://files.pythonhosted.org/packages/3a/e7/3bac01547d2ed3d308ac92a0878fbdb0ed0f3d41fb1906c319ccbba1bfbc/kaggle-1.5.12.tar.gz (58kB)\n",
            "\u001b[K     |████████████████████████████████| 61kB 2.4MB/s \n",
            "\u001b[?25hBuilding wheels for collected packages: kaggle\n",
            "  Building wheel for kaggle (setup.py) ... \u001b[?25l\u001b[?25hdone\n",
            "  Created wheel for kaggle: filename=kaggle-1.5.12-cp37-none-any.whl size=73053 sha256=a986f01aea282d882b43509d658f7a896486b0fc0905e445a1ffe49204125b51\n",
            "  Stored in directory: /root/.cache/pip/wheels/a1/6a/26/d30b7499ff85a4a4593377a87ecf55f7d08af42f0de9b60303\n",
            "Successfully built kaggle\n",
            "Installing collected packages: kaggle\n",
            "  Found existing installation: kaggle 1.5.12\n",
            "    Uninstalling kaggle-1.5.12:\n",
            "      Successfully uninstalled kaggle-1.5.12\n",
            "Successfully installed kaggle-1.5.12\n"
          ],
          "name": "stdout"
        },
        {
          "output_type": "display_data",
          "data": {
            "text/html": [
              "\n",
              "     <input type=\"file\" id=\"files-ca1ea066-a85d-4712-ac81-94663df72fb8\" name=\"files[]\" multiple disabled\n",
              "        style=\"border:none\" />\n",
              "     <output id=\"result-ca1ea066-a85d-4712-ac81-94663df72fb8\">\n",
              "      Upload widget is only available when the cell has been executed in the\n",
              "      current browser session. Please rerun this cell to enable.\n",
              "      </output>\n",
              "      <script src=\"/nbextensions/google.colab/files.js\"></script> "
            ],
            "text/plain": [
              "<IPython.core.display.HTML object>"
            ]
          },
          "metadata": {
            "tags": []
          }
        },
        {
          "output_type": "stream",
          "text": [
            "Saving kaggle.json to kaggle.json\n",
            "Downloading fraud-detection-in-electricity-and-gas-consumption.zip to /content\n",
            " 75% 65.0M/87.2M [00:00<00:00, 56.7MB/s]\n",
            "100% 87.2M/87.2M [00:00<00:00, 179MB/s] \n",
            "Done.\n"
          ],
          "name": "stdout"
        }
      ]
    },
    {
      "cell_type": "code",
      "metadata": {
        "id": "4kx4r5JhMa0V",
        "colab": {
          "base_uri": "https://localhost:8080/"
        },
        "outputId": "eecc3dc3-f055-4e2a-ad5d-684fb55bd6f8"
      },
      "source": [
        "import pandas as pd\n",
        "import numpy as np\n",
        "from matplotlib import pyplot as plt\n",
        "%matplotlib inline\n",
        "from matplotlib import cm \n",
        "import seaborn as sns\n",
        "from IPython.display import set_matplotlib_formats\n",
        "set_matplotlib_formats('retina')\n",
        "from yellowbrick.target.feature_correlation import feature_correlation\n",
        "from sklearn.model_selection import train_test_split\n",
        "import imblearn\n",
        "from collections import Counter\n",
        "from imblearn.under_sampling import RandomUnderSampler\n",
        "from sklearn.linear_model import LogisticRegression\n",
        "from sklearn.svm import LinearSVC, SVC\n",
        "from sklearn.ensemble import RandomForestClassifier\n",
        "import xgboost as xgb\n",
        "from sklearn.preprocessing import StandardScaler\n",
        "from sklearn.metrics import classification_report\n",
        "from sklearn.metrics import confusion_matrix\n",
        "from sklearn.metrics import accuracy_score\n",
        "from sklearn import metrics"
      ],
      "execution_count": null,
      "outputs": [
        {
          "output_type": "stream",
          "text": [
            "/usr/local/lib/python3.7/dist-packages/sklearn/utils/deprecation.py:144: FutureWarning: The sklearn.metrics.classification module is  deprecated in version 0.22 and will be removed in version 0.24. The corresponding classes / functions should instead be imported from sklearn.metrics. Anything that cannot be imported from sklearn.metrics is now part of the private API.\n",
            "  warnings.warn(message, FutureWarning)\n",
            "/usr/local/lib/python3.7/dist-packages/sklearn/externals/six.py:31: FutureWarning: The module is deprecated in version 0.21 and will be removed in version 0.23 since we've dropped support for Python 2.7. Please rely on the official version of six (https://pypi.org/project/six/).\n",
            "  \"(https://pypi.org/project/six/).\", FutureWarning)\n",
            "/usr/local/lib/python3.7/dist-packages/sklearn/utils/deprecation.py:144: FutureWarning: The sklearn.neighbors.base module is  deprecated in version 0.22 and will be removed in version 0.24. The corresponding classes / functions should instead be imported from sklearn.neighbors. Anything that cannot be imported from sklearn.neighbors is now part of the private API.\n",
            "  warnings.warn(message, FutureWarning)\n"
          ],
          "name": "stderr"
        }
      ]
    },
    {
      "cell_type": "markdown",
      "metadata": {
        "id": "VGV2JcpAoIN9"
      },
      "source": [
        "## Importing the Datasets."
      ]
    },
    {
      "cell_type": "code",
      "metadata": {
        "colab": {
          "base_uri": "https://localhost:8080/"
        },
        "id": "S9jyFSvFMgfj",
        "outputId": "cbe3644f-870b-4f50-d6df-1456f5b56a26"
      },
      "source": [
        "invoice_train = pd.read_csv(f'/content/invoice_train.csv',low_memory=False)\n",
        "client_train = pd.read_csv(f'/content/client_train.csv',low_memory=False)\n",
        "print(\"The shape of client_train: \",client_train.shape,\"\\n\")\n",
        "print(\"The shape of invoice_train: \",invoice_train.shape,\"\\n\")"
      ],
      "execution_count": null,
      "outputs": [
        {
          "output_type": "stream",
          "text": [
            "The shape of client_train:  (135493, 6) \n",
            "\n",
            "The shape of invoice_train:  (4476749, 16) \n",
            "\n"
          ],
          "name": "stdout"
        }
      ]
    },
    {
      "cell_type": "code",
      "metadata": {
        "colab": {
          "base_uri": "https://localhost:8080/"
        },
        "id": "JupobpCyAl9s",
        "outputId": "297b37f0-3f91-4503-ba69-65ec7cdd6b96"
      },
      "source": [
        "print('Client Dataset:\\n')\n",
        "print(client_train.describe())"
      ],
      "execution_count": null,
      "outputs": [
        {
          "output_type": "stream",
          "text": [
            "Client Dataset:\n",
            "\n",
            "             disrict    client_catg         region         target\n",
            "count  135493.000000  135493.000000  135493.000000  135493.000000\n",
            "mean       63.511222      11.512506     206.159809       0.055841\n",
            "std         3.354400       4.423761     104.207044       0.229614\n",
            "min        60.000000      11.000000     101.000000       0.000000\n",
            "25%        62.000000      11.000000     103.000000       0.000000\n",
            "50%        62.000000      11.000000     107.000000       0.000000\n",
            "75%        69.000000      11.000000     307.000000       0.000000\n",
            "max        69.000000      51.000000     399.000000       1.000000\n"
          ],
          "name": "stdout"
        }
      ]
    },
    {
      "cell_type": "code",
      "metadata": {
        "colab": {
          "base_uri": "https://localhost:8080/",
          "height": 235
        },
        "id": "Yxy_luGpN1bs",
        "outputId": "c9a0ff2a-bd6a-4a88-f16f-5347170dbf90"
      },
      "source": [
        "\n",
        "client_train.head().T"
      ],
      "execution_count": null,
      "outputs": [
        {
          "output_type": "execute_result",
          "data": {
            "text/html": [
              "<div>\n",
              "<style scoped>\n",
              "    .dataframe tbody tr th:only-of-type {\n",
              "        vertical-align: middle;\n",
              "    }\n",
              "\n",
              "    .dataframe tbody tr th {\n",
              "        vertical-align: top;\n",
              "    }\n",
              "\n",
              "    .dataframe thead th {\n",
              "        text-align: right;\n",
              "    }\n",
              "</style>\n",
              "<table border=\"1\" class=\"dataframe\">\n",
              "  <thead>\n",
              "    <tr style=\"text-align: right;\">\n",
              "      <th></th>\n",
              "      <th>0</th>\n",
              "      <th>1</th>\n",
              "      <th>2</th>\n",
              "      <th>3</th>\n",
              "      <th>4</th>\n",
              "    </tr>\n",
              "  </thead>\n",
              "  <tbody>\n",
              "    <tr>\n",
              "      <th>disrict</th>\n",
              "      <td>60</td>\n",
              "      <td>69</td>\n",
              "      <td>62</td>\n",
              "      <td>69</td>\n",
              "      <td>62</td>\n",
              "    </tr>\n",
              "    <tr>\n",
              "      <th>client_id</th>\n",
              "      <td>train_Client_0</td>\n",
              "      <td>train_Client_1</td>\n",
              "      <td>train_Client_10</td>\n",
              "      <td>train_Client_100</td>\n",
              "      <td>train_Client_1000</td>\n",
              "    </tr>\n",
              "    <tr>\n",
              "      <th>client_catg</th>\n",
              "      <td>11</td>\n",
              "      <td>11</td>\n",
              "      <td>11</td>\n",
              "      <td>11</td>\n",
              "      <td>11</td>\n",
              "    </tr>\n",
              "    <tr>\n",
              "      <th>region</th>\n",
              "      <td>101</td>\n",
              "      <td>107</td>\n",
              "      <td>301</td>\n",
              "      <td>105</td>\n",
              "      <td>303</td>\n",
              "    </tr>\n",
              "    <tr>\n",
              "      <th>creation_date</th>\n",
              "      <td>31/12/1994</td>\n",
              "      <td>29/05/2002</td>\n",
              "      <td>13/03/1986</td>\n",
              "      <td>11/07/1996</td>\n",
              "      <td>14/10/2014</td>\n",
              "    </tr>\n",
              "    <tr>\n",
              "      <th>target</th>\n",
              "      <td>0</td>\n",
              "      <td>0</td>\n",
              "      <td>0</td>\n",
              "      <td>0</td>\n",
              "      <td>0</td>\n",
              "    </tr>\n",
              "  </tbody>\n",
              "</table>\n",
              "</div>"
            ],
            "text/plain": [
              "                            0  ...                  4\n",
              "disrict                    60  ...                 62\n",
              "client_id      train_Client_0  ...  train_Client_1000\n",
              "client_catg                11  ...                 11\n",
              "region                    101  ...                303\n",
              "creation_date      31/12/1994  ...         14/10/2014\n",
              "target                      0  ...                  0\n",
              "\n",
              "[6 rows x 5 columns]"
            ]
          },
          "metadata": {
            "tags": []
          },
          "execution_count": 63
        }
      ]
    },
    {
      "cell_type": "code",
      "metadata": {
        "colab": {
          "base_uri": "https://localhost:8080/",
          "height": 545
        },
        "id": "Au98X3PxOGJ8",
        "outputId": "83c16ade-c379-42b3-9b3d-85def20c70e8"
      },
      "source": [
        "invoice_train.head().T"
      ],
      "execution_count": null,
      "outputs": [
        {
          "output_type": "execute_result",
          "data": {
            "text/html": [
              "<div>\n",
              "<style scoped>\n",
              "    .dataframe tbody tr th:only-of-type {\n",
              "        vertical-align: middle;\n",
              "    }\n",
              "\n",
              "    .dataframe tbody tr th {\n",
              "        vertical-align: top;\n",
              "    }\n",
              "\n",
              "    .dataframe thead th {\n",
              "        text-align: right;\n",
              "    }\n",
              "</style>\n",
              "<table border=\"1\" class=\"dataframe\">\n",
              "  <thead>\n",
              "    <tr style=\"text-align: right;\">\n",
              "      <th></th>\n",
              "      <th>0</th>\n",
              "      <th>1</th>\n",
              "      <th>2</th>\n",
              "      <th>3</th>\n",
              "      <th>4</th>\n",
              "    </tr>\n",
              "  </thead>\n",
              "  <tbody>\n",
              "    <tr>\n",
              "      <th>client_id</th>\n",
              "      <td>train_Client_0</td>\n",
              "      <td>train_Client_0</td>\n",
              "      <td>train_Client_0</td>\n",
              "      <td>train_Client_0</td>\n",
              "      <td>train_Client_0</td>\n",
              "    </tr>\n",
              "    <tr>\n",
              "      <th>invoice_date</th>\n",
              "      <td>2014-03-24</td>\n",
              "      <td>2013-03-29</td>\n",
              "      <td>2015-03-23</td>\n",
              "      <td>2015-07-13</td>\n",
              "      <td>2016-11-17</td>\n",
              "    </tr>\n",
              "    <tr>\n",
              "      <th>tarif_type</th>\n",
              "      <td>11</td>\n",
              "      <td>11</td>\n",
              "      <td>11</td>\n",
              "      <td>11</td>\n",
              "      <td>11</td>\n",
              "    </tr>\n",
              "    <tr>\n",
              "      <th>counter_number</th>\n",
              "      <td>1335667</td>\n",
              "      <td>1335667</td>\n",
              "      <td>1335667</td>\n",
              "      <td>1335667</td>\n",
              "      <td>1335667</td>\n",
              "    </tr>\n",
              "    <tr>\n",
              "      <th>counter_statue</th>\n",
              "      <td>0</td>\n",
              "      <td>0</td>\n",
              "      <td>0</td>\n",
              "      <td>0</td>\n",
              "      <td>0</td>\n",
              "    </tr>\n",
              "    <tr>\n",
              "      <th>counter_code</th>\n",
              "      <td>203</td>\n",
              "      <td>203</td>\n",
              "      <td>203</td>\n",
              "      <td>207</td>\n",
              "      <td>207</td>\n",
              "    </tr>\n",
              "    <tr>\n",
              "      <th>reading_remarque</th>\n",
              "      <td>8</td>\n",
              "      <td>6</td>\n",
              "      <td>8</td>\n",
              "      <td>8</td>\n",
              "      <td>9</td>\n",
              "    </tr>\n",
              "    <tr>\n",
              "      <th>counter_coefficient</th>\n",
              "      <td>1</td>\n",
              "      <td>1</td>\n",
              "      <td>1</td>\n",
              "      <td>1</td>\n",
              "      <td>1</td>\n",
              "    </tr>\n",
              "    <tr>\n",
              "      <th>consommation_level_1</th>\n",
              "      <td>82</td>\n",
              "      <td>1200</td>\n",
              "      <td>123</td>\n",
              "      <td>102</td>\n",
              "      <td>572</td>\n",
              "    </tr>\n",
              "    <tr>\n",
              "      <th>consommation_level_2</th>\n",
              "      <td>0</td>\n",
              "      <td>184</td>\n",
              "      <td>0</td>\n",
              "      <td>0</td>\n",
              "      <td>0</td>\n",
              "    </tr>\n",
              "    <tr>\n",
              "      <th>consommation_level_3</th>\n",
              "      <td>0</td>\n",
              "      <td>0</td>\n",
              "      <td>0</td>\n",
              "      <td>0</td>\n",
              "      <td>0</td>\n",
              "    </tr>\n",
              "    <tr>\n",
              "      <th>consommation_level_4</th>\n",
              "      <td>0</td>\n",
              "      <td>0</td>\n",
              "      <td>0</td>\n",
              "      <td>0</td>\n",
              "      <td>0</td>\n",
              "    </tr>\n",
              "    <tr>\n",
              "      <th>old_index</th>\n",
              "      <td>14302</td>\n",
              "      <td>12294</td>\n",
              "      <td>14624</td>\n",
              "      <td>14747</td>\n",
              "      <td>15066</td>\n",
              "    </tr>\n",
              "    <tr>\n",
              "      <th>new_index</th>\n",
              "      <td>14384</td>\n",
              "      <td>13678</td>\n",
              "      <td>14747</td>\n",
              "      <td>14849</td>\n",
              "      <td>15638</td>\n",
              "    </tr>\n",
              "    <tr>\n",
              "      <th>months_number</th>\n",
              "      <td>4</td>\n",
              "      <td>4</td>\n",
              "      <td>4</td>\n",
              "      <td>4</td>\n",
              "      <td>12</td>\n",
              "    </tr>\n",
              "    <tr>\n",
              "      <th>counter_type</th>\n",
              "      <td>ELEC</td>\n",
              "      <td>ELEC</td>\n",
              "      <td>ELEC</td>\n",
              "      <td>ELEC</td>\n",
              "      <td>ELEC</td>\n",
              "    </tr>\n",
              "  </tbody>\n",
              "</table>\n",
              "</div>"
            ],
            "text/plain": [
              "                                   0  ...               4\n",
              "client_id             train_Client_0  ...  train_Client_0\n",
              "invoice_date              2014-03-24  ...      2016-11-17\n",
              "tarif_type                        11  ...              11\n",
              "counter_number               1335667  ...         1335667\n",
              "counter_statue                     0  ...               0\n",
              "counter_code                     203  ...             207\n",
              "reading_remarque                   8  ...               9\n",
              "counter_coefficient                1  ...               1\n",
              "consommation_level_1              82  ...             572\n",
              "consommation_level_2               0  ...               0\n",
              "consommation_level_3               0  ...               0\n",
              "consommation_level_4               0  ...               0\n",
              "old_index                      14302  ...           15066\n",
              "new_index                      14384  ...           15638\n",
              "months_number                      4  ...              12\n",
              "counter_type                    ELEC  ...            ELEC\n",
              "\n",
              "[16 rows x 5 columns]"
            ]
          },
          "metadata": {
            "tags": []
          },
          "execution_count": 64
        }
      ]
    },
    {
      "cell_type": "code",
      "metadata": {
        "colab": {
          "base_uri": "https://localhost:8080/",
          "height": 421
        },
        "id": "4bQyEmpUA08n",
        "outputId": "8ffb874c-122f-4de9-b6f6-1edf4aa8e217"
      },
      "source": [
        "invoice_train.describe().T"
      ],
      "execution_count": null,
      "outputs": [
        {
          "output_type": "execute_result",
          "data": {
            "text/html": [
              "<div>\n",
              "<style scoped>\n",
              "    .dataframe tbody tr th:only-of-type {\n",
              "        vertical-align: middle;\n",
              "    }\n",
              "\n",
              "    .dataframe tbody tr th {\n",
              "        vertical-align: top;\n",
              "    }\n",
              "\n",
              "    .dataframe thead th {\n",
              "        text-align: right;\n",
              "    }\n",
              "</style>\n",
              "<table border=\"1\" class=\"dataframe\">\n",
              "  <thead>\n",
              "    <tr style=\"text-align: right;\">\n",
              "      <th></th>\n",
              "      <th>count</th>\n",
              "      <th>mean</th>\n",
              "      <th>std</th>\n",
              "      <th>min</th>\n",
              "      <th>25%</th>\n",
              "      <th>50%</th>\n",
              "      <th>75%</th>\n",
              "      <th>max</th>\n",
              "    </tr>\n",
              "  </thead>\n",
              "  <tbody>\n",
              "    <tr>\n",
              "      <th>tarif_type</th>\n",
              "      <td>4476749.0</td>\n",
              "      <td>2.012804e+01</td>\n",
              "      <td>1.347256e+01</td>\n",
              "      <td>8.0</td>\n",
              "      <td>11.0</td>\n",
              "      <td>11.0</td>\n",
              "      <td>40.0</td>\n",
              "      <td>4.500000e+01</td>\n",
              "    </tr>\n",
              "    <tr>\n",
              "      <th>counter_number</th>\n",
              "      <td>4476749.0</td>\n",
              "      <td>1.230587e+11</td>\n",
              "      <td>1.657267e+12</td>\n",
              "      <td>0.0</td>\n",
              "      <td>121108.0</td>\n",
              "      <td>494561.0</td>\n",
              "      <td>1115161.0</td>\n",
              "      <td>2.798115e+13</td>\n",
              "    </tr>\n",
              "    <tr>\n",
              "      <th>counter_code</th>\n",
              "      <td>4476749.0</td>\n",
              "      <td>1.724884e+02</td>\n",
              "      <td>1.338871e+02</td>\n",
              "      <td>0.0</td>\n",
              "      <td>5.0</td>\n",
              "      <td>203.0</td>\n",
              "      <td>207.0</td>\n",
              "      <td>6.000000e+02</td>\n",
              "    </tr>\n",
              "    <tr>\n",
              "      <th>reading_remarque</th>\n",
              "      <td>4476749.0</td>\n",
              "      <td>7.321702e+00</td>\n",
              "      <td>1.571654e+00</td>\n",
              "      <td>5.0</td>\n",
              "      <td>6.0</td>\n",
              "      <td>8.0</td>\n",
              "      <td>9.0</td>\n",
              "      <td>4.130000e+02</td>\n",
              "    </tr>\n",
              "    <tr>\n",
              "      <th>counter_coefficient</th>\n",
              "      <td>4476749.0</td>\n",
              "      <td>1.003040e+00</td>\n",
              "      <td>3.083466e-01</td>\n",
              "      <td>0.0</td>\n",
              "      <td>1.0</td>\n",
              "      <td>1.0</td>\n",
              "      <td>1.0</td>\n",
              "      <td>5.000000e+01</td>\n",
              "    </tr>\n",
              "    <tr>\n",
              "      <th>consommation_level_1</th>\n",
              "      <td>4476749.0</td>\n",
              "      <td>4.109795e+02</td>\n",
              "      <td>7.573080e+02</td>\n",
              "      <td>0.0</td>\n",
              "      <td>79.0</td>\n",
              "      <td>274.0</td>\n",
              "      <td>600.0</td>\n",
              "      <td>9.999100e+05</td>\n",
              "    </tr>\n",
              "    <tr>\n",
              "      <th>consommation_level_2</th>\n",
              "      <td>4476749.0</td>\n",
              "      <td>1.093225e+02</td>\n",
              "      <td>1.220123e+03</td>\n",
              "      <td>0.0</td>\n",
              "      <td>0.0</td>\n",
              "      <td>0.0</td>\n",
              "      <td>0.0</td>\n",
              "      <td>9.990730e+05</td>\n",
              "    </tr>\n",
              "    <tr>\n",
              "      <th>consommation_level_3</th>\n",
              "      <td>4476749.0</td>\n",
              "      <td>2.030620e+01</td>\n",
              "      <td>1.574239e+02</td>\n",
              "      <td>0.0</td>\n",
              "      <td>0.0</td>\n",
              "      <td>0.0</td>\n",
              "      <td>0.0</td>\n",
              "      <td>6.449200e+04</td>\n",
              "    </tr>\n",
              "    <tr>\n",
              "      <th>consommation_level_4</th>\n",
              "      <td>4476749.0</td>\n",
              "      <td>5.292588e+01</td>\n",
              "      <td>8.754725e+02</td>\n",
              "      <td>0.0</td>\n",
              "      <td>0.0</td>\n",
              "      <td>0.0</td>\n",
              "      <td>0.0</td>\n",
              "      <td>5.479460e+05</td>\n",
              "    </tr>\n",
              "    <tr>\n",
              "      <th>old_index</th>\n",
              "      <td>4476749.0</td>\n",
              "      <td>1.776700e+04</td>\n",
              "      <td>4.036693e+04</td>\n",
              "      <td>0.0</td>\n",
              "      <td>1791.0</td>\n",
              "      <td>7690.0</td>\n",
              "      <td>21660.0</td>\n",
              "      <td>2.800280e+06</td>\n",
              "    </tr>\n",
              "    <tr>\n",
              "      <th>new_index</th>\n",
              "      <td>4476749.0</td>\n",
              "      <td>1.834970e+04</td>\n",
              "      <td>4.095321e+04</td>\n",
              "      <td>0.0</td>\n",
              "      <td>2056.0</td>\n",
              "      <td>8192.0</td>\n",
              "      <td>22343.0</td>\n",
              "      <td>2.870972e+06</td>\n",
              "    </tr>\n",
              "    <tr>\n",
              "      <th>months_number</th>\n",
              "      <td>4476749.0</td>\n",
              "      <td>4.483095e+01</td>\n",
              "      <td>3.128335e+03</td>\n",
              "      <td>0.0</td>\n",
              "      <td>4.0</td>\n",
              "      <td>4.0</td>\n",
              "      <td>4.0</td>\n",
              "      <td>6.366240e+05</td>\n",
              "    </tr>\n",
              "  </tbody>\n",
              "</table>\n",
              "</div>"
            ],
            "text/plain": [
              "                          count          mean  ...        75%           max\n",
              "tarif_type            4476749.0  2.012804e+01  ...       40.0  4.500000e+01\n",
              "counter_number        4476749.0  1.230587e+11  ...  1115161.0  2.798115e+13\n",
              "counter_code          4476749.0  1.724884e+02  ...      207.0  6.000000e+02\n",
              "reading_remarque      4476749.0  7.321702e+00  ...        9.0  4.130000e+02\n",
              "counter_coefficient   4476749.0  1.003040e+00  ...        1.0  5.000000e+01\n",
              "consommation_level_1  4476749.0  4.109795e+02  ...      600.0  9.999100e+05\n",
              "consommation_level_2  4476749.0  1.093225e+02  ...        0.0  9.990730e+05\n",
              "consommation_level_3  4476749.0  2.030620e+01  ...        0.0  6.449200e+04\n",
              "consommation_level_4  4476749.0  5.292588e+01  ...        0.0  5.479460e+05\n",
              "old_index             4476749.0  1.776700e+04  ...    21660.0  2.800280e+06\n",
              "new_index             4476749.0  1.834970e+04  ...    22343.0  2.870972e+06\n",
              "months_number         4476749.0  4.483095e+01  ...        4.0  6.366240e+05\n",
              "\n",
              "[12 rows x 8 columns]"
            ]
          },
          "metadata": {
            "tags": []
          },
          "execution_count": 6
        }
      ]
    },
    {
      "cell_type": "code",
      "metadata": {
        "colab": {
          "base_uri": "https://localhost:8080/"
        },
        "id": "e_fUou1HBwli",
        "outputId": "38136156-512e-4123-bf6b-5b506eb41bfb"
      },
      "source": [
        "invoice_train.invoice_date.unique()"
      ],
      "execution_count": null,
      "outputs": [
        {
          "output_type": "execute_result",
          "data": {
            "text/plain": [
              "array(['2014-03-24', '2013-03-29', '2015-03-23', ..., '1995-11-28',\n",
              "       '1982-07-04', '1996-09-02'], dtype=object)"
            ]
          },
          "metadata": {
            "tags": []
          },
          "execution_count": 10
        }
      ]
    },
    {
      "cell_type": "markdown",
      "metadata": {
        "id": "t0RJFNu2oUG3"
      },
      "source": [
        "## Checking NULL values"
      ]
    },
    {
      "cell_type": "code",
      "metadata": {
        "colab": {
          "base_uri": "https://localhost:8080/"
        },
        "id": "W_h8JvGQMm5l",
        "outputId": "6e2674e9-f4d0-413c-b409-fd490952a6cc"
      },
      "source": [
        "print(\"Null values in client_train:\",client_train.isna().sum().sum(),\"\\n\")\n",
        "print(\"Null values in invoice_train:\",invoice_train.isna().sum().sum(),\"\\n\")"
      ],
      "execution_count": null,
      "outputs": [
        {
          "output_type": "stream",
          "text": [
            "Null values in client_train: 0 \n",
            "\n",
            "Null values in invoice_train: 0 \n",
            "\n"
          ],
          "name": "stdout"
        }
      ]
    },
    {
      "cell_type": "markdown",
      "metadata": {
        "id": "duTi2mAmohru"
      },
      "source": [
        "## Checking Duplicates"
      ]
    },
    {
      "cell_type": "code",
      "metadata": {
        "colab": {
          "base_uri": "https://localhost:8080/"
        },
        "id": "l7WSpJbyMyKo",
        "outputId": "0281a7c3-48bd-4024-9243-08ffdff8bb82"
      },
      "source": [
        "client_train.drop_duplicates(inplace = True)\n",
        "print(\"The shape of client_train: \",client_train.shape,\"\\n\")\n",
        "invoice_train.drop_duplicates(inplace = True)\n",
        "print(\"The shape of invoice_train: \",invoice_train.shape,\"\\n\")"
      ],
      "execution_count": null,
      "outputs": [
        {
          "output_type": "stream",
          "text": [
            "The shape of client_train:  (135493, 6) \n",
            "\n",
            "The shape of invoice_train:  (4476738, 16) \n",
            "\n"
          ],
          "name": "stdout"
        }
      ]
    },
    {
      "cell_type": "markdown",
      "metadata": {
        "id": "BpJt8MnXooQ8"
      },
      "source": [
        "## Displaying the datasets"
      ]
    },
    {
      "cell_type": "code",
      "metadata": {
        "colab": {
          "base_uri": "https://localhost:8080/",
          "height": 204
        },
        "id": "hHgMeyLRM8Df",
        "outputId": "90e8ec26-e561-4c83-db29-fd618bb4a81a"
      },
      "source": [
        "client_train.head(5)"
      ],
      "execution_count": null,
      "outputs": [
        {
          "output_type": "execute_result",
          "data": {
            "text/html": [
              "<div>\n",
              "<style scoped>\n",
              "    .dataframe tbody tr th:only-of-type {\n",
              "        vertical-align: middle;\n",
              "    }\n",
              "\n",
              "    .dataframe tbody tr th {\n",
              "        vertical-align: top;\n",
              "    }\n",
              "\n",
              "    .dataframe thead th {\n",
              "        text-align: right;\n",
              "    }\n",
              "</style>\n",
              "<table border=\"1\" class=\"dataframe\">\n",
              "  <thead>\n",
              "    <tr style=\"text-align: right;\">\n",
              "      <th></th>\n",
              "      <th>disrict</th>\n",
              "      <th>client_id</th>\n",
              "      <th>client_catg</th>\n",
              "      <th>region</th>\n",
              "      <th>creation_date</th>\n",
              "      <th>target</th>\n",
              "    </tr>\n",
              "  </thead>\n",
              "  <tbody>\n",
              "    <tr>\n",
              "      <th>0</th>\n",
              "      <td>60</td>\n",
              "      <td>train_Client_0</td>\n",
              "      <td>11</td>\n",
              "      <td>101</td>\n",
              "      <td>31/12/1994</td>\n",
              "      <td>0.0</td>\n",
              "    </tr>\n",
              "    <tr>\n",
              "      <th>1</th>\n",
              "      <td>69</td>\n",
              "      <td>train_Client_1</td>\n",
              "      <td>11</td>\n",
              "      <td>107</td>\n",
              "      <td>29/05/2002</td>\n",
              "      <td>0.0</td>\n",
              "    </tr>\n",
              "    <tr>\n",
              "      <th>2</th>\n",
              "      <td>62</td>\n",
              "      <td>train_Client_10</td>\n",
              "      <td>11</td>\n",
              "      <td>301</td>\n",
              "      <td>13/03/1986</td>\n",
              "      <td>0.0</td>\n",
              "    </tr>\n",
              "    <tr>\n",
              "      <th>3</th>\n",
              "      <td>69</td>\n",
              "      <td>train_Client_100</td>\n",
              "      <td>11</td>\n",
              "      <td>105</td>\n",
              "      <td>11/07/1996</td>\n",
              "      <td>0.0</td>\n",
              "    </tr>\n",
              "    <tr>\n",
              "      <th>4</th>\n",
              "      <td>62</td>\n",
              "      <td>train_Client_1000</td>\n",
              "      <td>11</td>\n",
              "      <td>303</td>\n",
              "      <td>14/10/2014</td>\n",
              "      <td>0.0</td>\n",
              "    </tr>\n",
              "  </tbody>\n",
              "</table>\n",
              "</div>"
            ],
            "text/plain": [
              "   disrict          client_id  client_catg  region creation_date  target\n",
              "0       60     train_Client_0           11     101    31/12/1994     0.0\n",
              "1       69     train_Client_1           11     107    29/05/2002     0.0\n",
              "2       62    train_Client_10           11     301    13/03/1986     0.0\n",
              "3       69   train_Client_100           11     105    11/07/1996     0.0\n",
              "4       62  train_Client_1000           11     303    14/10/2014     0.0"
            ]
          },
          "metadata": {
            "tags": []
          },
          "execution_count": 13
        }
      ]
    },
    {
      "cell_type": "code",
      "metadata": {
        "colab": {
          "base_uri": "https://localhost:8080/",
          "height": 297
        },
        "id": "7iLYzZ1T0hgL",
        "outputId": "ed9ff868-249a-4dd2-978f-d26c69cbb9b7"
      },
      "source": [
        "client_train.describe()"
      ],
      "execution_count": null,
      "outputs": [
        {
          "output_type": "execute_result",
          "data": {
            "text/html": [
              "<div>\n",
              "<style scoped>\n",
              "    .dataframe tbody tr th:only-of-type {\n",
              "        vertical-align: middle;\n",
              "    }\n",
              "\n",
              "    .dataframe tbody tr th {\n",
              "        vertical-align: top;\n",
              "    }\n",
              "\n",
              "    .dataframe thead th {\n",
              "        text-align: right;\n",
              "    }\n",
              "</style>\n",
              "<table border=\"1\" class=\"dataframe\">\n",
              "  <thead>\n",
              "    <tr style=\"text-align: right;\">\n",
              "      <th></th>\n",
              "      <th>disrict</th>\n",
              "      <th>client_catg</th>\n",
              "      <th>region</th>\n",
              "      <th>target</th>\n",
              "    </tr>\n",
              "  </thead>\n",
              "  <tbody>\n",
              "    <tr>\n",
              "      <th>count</th>\n",
              "      <td>135493.000000</td>\n",
              "      <td>135493.000000</td>\n",
              "      <td>135493.000000</td>\n",
              "      <td>135493.000000</td>\n",
              "    </tr>\n",
              "    <tr>\n",
              "      <th>mean</th>\n",
              "      <td>63.511222</td>\n",
              "      <td>11.512506</td>\n",
              "      <td>206.159809</td>\n",
              "      <td>0.055841</td>\n",
              "    </tr>\n",
              "    <tr>\n",
              "      <th>std</th>\n",
              "      <td>3.354400</td>\n",
              "      <td>4.423761</td>\n",
              "      <td>104.207044</td>\n",
              "      <td>0.229614</td>\n",
              "    </tr>\n",
              "    <tr>\n",
              "      <th>min</th>\n",
              "      <td>60.000000</td>\n",
              "      <td>11.000000</td>\n",
              "      <td>101.000000</td>\n",
              "      <td>0.000000</td>\n",
              "    </tr>\n",
              "    <tr>\n",
              "      <th>25%</th>\n",
              "      <td>62.000000</td>\n",
              "      <td>11.000000</td>\n",
              "      <td>103.000000</td>\n",
              "      <td>0.000000</td>\n",
              "    </tr>\n",
              "    <tr>\n",
              "      <th>50%</th>\n",
              "      <td>62.000000</td>\n",
              "      <td>11.000000</td>\n",
              "      <td>107.000000</td>\n",
              "      <td>0.000000</td>\n",
              "    </tr>\n",
              "    <tr>\n",
              "      <th>75%</th>\n",
              "      <td>69.000000</td>\n",
              "      <td>11.000000</td>\n",
              "      <td>307.000000</td>\n",
              "      <td>0.000000</td>\n",
              "    </tr>\n",
              "    <tr>\n",
              "      <th>max</th>\n",
              "      <td>69.000000</td>\n",
              "      <td>51.000000</td>\n",
              "      <td>399.000000</td>\n",
              "      <td>1.000000</td>\n",
              "    </tr>\n",
              "  </tbody>\n",
              "</table>\n",
              "</div>"
            ],
            "text/plain": [
              "             disrict    client_catg         region         target\n",
              "count  135493.000000  135493.000000  135493.000000  135493.000000\n",
              "mean       63.511222      11.512506     206.159809       0.055841\n",
              "std         3.354400       4.423761     104.207044       0.229614\n",
              "min        60.000000      11.000000     101.000000       0.000000\n",
              "25%        62.000000      11.000000     103.000000       0.000000\n",
              "50%        62.000000      11.000000     107.000000       0.000000\n",
              "75%        69.000000      11.000000     307.000000       0.000000\n",
              "max        69.000000      51.000000     399.000000       1.000000"
            ]
          },
          "metadata": {
            "tags": []
          },
          "execution_count": 14
        }
      ]
    },
    {
      "cell_type": "code",
      "metadata": {
        "colab": {
          "base_uri": "https://localhost:8080/",
          "height": 224
        },
        "id": "jAqhFS_mM-4A",
        "outputId": "794030fb-979a-4282-aeb3-7e66c893c2f3"
      },
      "source": [
        "invoice_train.head(5)"
      ],
      "execution_count": null,
      "outputs": [
        {
          "output_type": "execute_result",
          "data": {
            "text/html": [
              "<div>\n",
              "<style scoped>\n",
              "    .dataframe tbody tr th:only-of-type {\n",
              "        vertical-align: middle;\n",
              "    }\n",
              "\n",
              "    .dataframe tbody tr th {\n",
              "        vertical-align: top;\n",
              "    }\n",
              "\n",
              "    .dataframe thead th {\n",
              "        text-align: right;\n",
              "    }\n",
              "</style>\n",
              "<table border=\"1\" class=\"dataframe\">\n",
              "  <thead>\n",
              "    <tr style=\"text-align: right;\">\n",
              "      <th></th>\n",
              "      <th>client_id</th>\n",
              "      <th>invoice_date</th>\n",
              "      <th>tarif_type</th>\n",
              "      <th>counter_number</th>\n",
              "      <th>counter_statue</th>\n",
              "      <th>counter_code</th>\n",
              "      <th>reading_remarque</th>\n",
              "      <th>counter_coefficient</th>\n",
              "      <th>consommation_level_1</th>\n",
              "      <th>consommation_level_2</th>\n",
              "      <th>consommation_level_3</th>\n",
              "      <th>consommation_level_4</th>\n",
              "      <th>old_index</th>\n",
              "      <th>new_index</th>\n",
              "      <th>months_number</th>\n",
              "      <th>counter_type</th>\n",
              "    </tr>\n",
              "  </thead>\n",
              "  <tbody>\n",
              "    <tr>\n",
              "      <th>0</th>\n",
              "      <td>train_Client_0</td>\n",
              "      <td>2014-03-24</td>\n",
              "      <td>11</td>\n",
              "      <td>1335667</td>\n",
              "      <td>0</td>\n",
              "      <td>203</td>\n",
              "      <td>8</td>\n",
              "      <td>1</td>\n",
              "      <td>82</td>\n",
              "      <td>0</td>\n",
              "      <td>0</td>\n",
              "      <td>0</td>\n",
              "      <td>14302</td>\n",
              "      <td>14384</td>\n",
              "      <td>4</td>\n",
              "      <td>ELEC</td>\n",
              "    </tr>\n",
              "    <tr>\n",
              "      <th>1</th>\n",
              "      <td>train_Client_0</td>\n",
              "      <td>2013-03-29</td>\n",
              "      <td>11</td>\n",
              "      <td>1335667</td>\n",
              "      <td>0</td>\n",
              "      <td>203</td>\n",
              "      <td>6</td>\n",
              "      <td>1</td>\n",
              "      <td>1200</td>\n",
              "      <td>184</td>\n",
              "      <td>0</td>\n",
              "      <td>0</td>\n",
              "      <td>12294</td>\n",
              "      <td>13678</td>\n",
              "      <td>4</td>\n",
              "      <td>ELEC</td>\n",
              "    </tr>\n",
              "    <tr>\n",
              "      <th>2</th>\n",
              "      <td>train_Client_0</td>\n",
              "      <td>2015-03-23</td>\n",
              "      <td>11</td>\n",
              "      <td>1335667</td>\n",
              "      <td>0</td>\n",
              "      <td>203</td>\n",
              "      <td>8</td>\n",
              "      <td>1</td>\n",
              "      <td>123</td>\n",
              "      <td>0</td>\n",
              "      <td>0</td>\n",
              "      <td>0</td>\n",
              "      <td>14624</td>\n",
              "      <td>14747</td>\n",
              "      <td>4</td>\n",
              "      <td>ELEC</td>\n",
              "    </tr>\n",
              "    <tr>\n",
              "      <th>3</th>\n",
              "      <td>train_Client_0</td>\n",
              "      <td>2015-07-13</td>\n",
              "      <td>11</td>\n",
              "      <td>1335667</td>\n",
              "      <td>0</td>\n",
              "      <td>207</td>\n",
              "      <td>8</td>\n",
              "      <td>1</td>\n",
              "      <td>102</td>\n",
              "      <td>0</td>\n",
              "      <td>0</td>\n",
              "      <td>0</td>\n",
              "      <td>14747</td>\n",
              "      <td>14849</td>\n",
              "      <td>4</td>\n",
              "      <td>ELEC</td>\n",
              "    </tr>\n",
              "    <tr>\n",
              "      <th>4</th>\n",
              "      <td>train_Client_0</td>\n",
              "      <td>2016-11-17</td>\n",
              "      <td>11</td>\n",
              "      <td>1335667</td>\n",
              "      <td>0</td>\n",
              "      <td>207</td>\n",
              "      <td>9</td>\n",
              "      <td>1</td>\n",
              "      <td>572</td>\n",
              "      <td>0</td>\n",
              "      <td>0</td>\n",
              "      <td>0</td>\n",
              "      <td>15066</td>\n",
              "      <td>15638</td>\n",
              "      <td>12</td>\n",
              "      <td>ELEC</td>\n",
              "    </tr>\n",
              "  </tbody>\n",
              "</table>\n",
              "</div>"
            ],
            "text/plain": [
              "        client_id invoice_date  ...  months_number  counter_type\n",
              "0  train_Client_0   2014-03-24  ...              4          ELEC\n",
              "1  train_Client_0   2013-03-29  ...              4          ELEC\n",
              "2  train_Client_0   2015-03-23  ...              4          ELEC\n",
              "3  train_Client_0   2015-07-13  ...              4          ELEC\n",
              "4  train_Client_0   2016-11-17  ...             12          ELEC\n",
              "\n",
              "[5 rows x 16 columns]"
            ]
          },
          "metadata": {
            "tags": []
          },
          "execution_count": 15
        }
      ]
    },
    {
      "cell_type": "code",
      "metadata": {
        "colab": {
          "base_uri": "https://localhost:8080/",
          "height": 421
        },
        "id": "mXWJh9480kqj",
        "outputId": "467382f6-a531-4cf5-ae22-e8e53c0af066"
      },
      "source": [
        "invoice_train.describe().T"
      ],
      "execution_count": null,
      "outputs": [
        {
          "output_type": "execute_result",
          "data": {
            "text/html": [
              "<div>\n",
              "<style scoped>\n",
              "    .dataframe tbody tr th:only-of-type {\n",
              "        vertical-align: middle;\n",
              "    }\n",
              "\n",
              "    .dataframe tbody tr th {\n",
              "        vertical-align: top;\n",
              "    }\n",
              "\n",
              "    .dataframe thead th {\n",
              "        text-align: right;\n",
              "    }\n",
              "</style>\n",
              "<table border=\"1\" class=\"dataframe\">\n",
              "  <thead>\n",
              "    <tr style=\"text-align: right;\">\n",
              "      <th></th>\n",
              "      <th>count</th>\n",
              "      <th>mean</th>\n",
              "      <th>std</th>\n",
              "      <th>min</th>\n",
              "      <th>25%</th>\n",
              "      <th>50%</th>\n",
              "      <th>75%</th>\n",
              "      <th>max</th>\n",
              "    </tr>\n",
              "  </thead>\n",
              "  <tbody>\n",
              "    <tr>\n",
              "      <th>tarif_type</th>\n",
              "      <td>4476738.0</td>\n",
              "      <td>2.012804e+01</td>\n",
              "      <td>1.347256e+01</td>\n",
              "      <td>8.0</td>\n",
              "      <td>11.0</td>\n",
              "      <td>11.0</td>\n",
              "      <td>40.0</td>\n",
              "      <td>4.500000e+01</td>\n",
              "    </tr>\n",
              "    <tr>\n",
              "      <th>counter_number</th>\n",
              "      <td>4476738.0</td>\n",
              "      <td>1.230590e+11</td>\n",
              "      <td>1.657269e+12</td>\n",
              "      <td>0.0</td>\n",
              "      <td>121108.0</td>\n",
              "      <td>494561.0</td>\n",
              "      <td>1115161.0</td>\n",
              "      <td>2.798115e+13</td>\n",
              "    </tr>\n",
              "    <tr>\n",
              "      <th>counter_code</th>\n",
              "      <td>4476738.0</td>\n",
              "      <td>1.724882e+02</td>\n",
              "      <td>1.338869e+02</td>\n",
              "      <td>0.0</td>\n",
              "      <td>5.0</td>\n",
              "      <td>203.0</td>\n",
              "      <td>207.0</td>\n",
              "      <td>6.000000e+02</td>\n",
              "    </tr>\n",
              "    <tr>\n",
              "      <th>reading_remarque</th>\n",
              "      <td>4476738.0</td>\n",
              "      <td>7.321705e+00</td>\n",
              "      <td>1.571655e+00</td>\n",
              "      <td>5.0</td>\n",
              "      <td>6.0</td>\n",
              "      <td>8.0</td>\n",
              "      <td>9.0</td>\n",
              "      <td>4.130000e+02</td>\n",
              "    </tr>\n",
              "    <tr>\n",
              "      <th>counter_coefficient</th>\n",
              "      <td>4476738.0</td>\n",
              "      <td>1.003040e+00</td>\n",
              "      <td>3.083470e-01</td>\n",
              "      <td>0.0</td>\n",
              "      <td>1.0</td>\n",
              "      <td>1.0</td>\n",
              "      <td>1.0</td>\n",
              "      <td>5.000000e+01</td>\n",
              "    </tr>\n",
              "    <tr>\n",
              "      <th>consommation_level_1</th>\n",
              "      <td>4476738.0</td>\n",
              "      <td>4.109805e+02</td>\n",
              "      <td>7.573087e+02</td>\n",
              "      <td>0.0</td>\n",
              "      <td>79.0</td>\n",
              "      <td>274.0</td>\n",
              "      <td>600.0</td>\n",
              "      <td>9.999100e+05</td>\n",
              "    </tr>\n",
              "    <tr>\n",
              "      <th>consommation_level_2</th>\n",
              "      <td>4476738.0</td>\n",
              "      <td>1.093227e+02</td>\n",
              "      <td>1.220125e+03</td>\n",
              "      <td>0.0</td>\n",
              "      <td>0.0</td>\n",
              "      <td>0.0</td>\n",
              "      <td>0.0</td>\n",
              "      <td>9.990730e+05</td>\n",
              "    </tr>\n",
              "    <tr>\n",
              "      <th>consommation_level_3</th>\n",
              "      <td>4476738.0</td>\n",
              "      <td>2.030625e+01</td>\n",
              "      <td>1.574241e+02</td>\n",
              "      <td>0.0</td>\n",
              "      <td>0.0</td>\n",
              "      <td>0.0</td>\n",
              "      <td>0.0</td>\n",
              "      <td>6.449200e+04</td>\n",
              "    </tr>\n",
              "    <tr>\n",
              "      <th>consommation_level_4</th>\n",
              "      <td>4476738.0</td>\n",
              "      <td>5.292601e+01</td>\n",
              "      <td>8.754735e+02</td>\n",
              "      <td>0.0</td>\n",
              "      <td>0.0</td>\n",
              "      <td>0.0</td>\n",
              "      <td>0.0</td>\n",
              "      <td>5.479460e+05</td>\n",
              "    </tr>\n",
              "    <tr>\n",
              "      <th>old_index</th>\n",
              "      <td>4476738.0</td>\n",
              "      <td>1.776701e+04</td>\n",
              "      <td>4.036695e+04</td>\n",
              "      <td>0.0</td>\n",
              "      <td>1791.0</td>\n",
              "      <td>7690.0</td>\n",
              "      <td>21660.0</td>\n",
              "      <td>2.800280e+06</td>\n",
              "    </tr>\n",
              "    <tr>\n",
              "      <th>new_index</th>\n",
              "      <td>4476738.0</td>\n",
              "      <td>1.834972e+04</td>\n",
              "      <td>4.095323e+04</td>\n",
              "      <td>0.0</td>\n",
              "      <td>2056.0</td>\n",
              "      <td>8192.0</td>\n",
              "      <td>22343.0</td>\n",
              "      <td>2.870972e+06</td>\n",
              "    </tr>\n",
              "    <tr>\n",
              "      <th>months_number</th>\n",
              "      <td>4476738.0</td>\n",
              "      <td>4.483105e+01</td>\n",
              "      <td>3.128339e+03</td>\n",
              "      <td>0.0</td>\n",
              "      <td>4.0</td>\n",
              "      <td>4.0</td>\n",
              "      <td>4.0</td>\n",
              "      <td>6.366240e+05</td>\n",
              "    </tr>\n",
              "  </tbody>\n",
              "</table>\n",
              "</div>"
            ],
            "text/plain": [
              "                          count          mean  ...        75%           max\n",
              "tarif_type            4476738.0  2.012804e+01  ...       40.0  4.500000e+01\n",
              "counter_number        4476738.0  1.230590e+11  ...  1115161.0  2.798115e+13\n",
              "counter_code          4476738.0  1.724882e+02  ...      207.0  6.000000e+02\n",
              "reading_remarque      4476738.0  7.321705e+00  ...        9.0  4.130000e+02\n",
              "counter_coefficient   4476738.0  1.003040e+00  ...        1.0  5.000000e+01\n",
              "consommation_level_1  4476738.0  4.109805e+02  ...      600.0  9.999100e+05\n",
              "consommation_level_2  4476738.0  1.093227e+02  ...        0.0  9.990730e+05\n",
              "consommation_level_3  4476738.0  2.030625e+01  ...        0.0  6.449200e+04\n",
              "consommation_level_4  4476738.0  5.292601e+01  ...        0.0  5.479460e+05\n",
              "old_index             4476738.0  1.776701e+04  ...    21660.0  2.800280e+06\n",
              "new_index             4476738.0  1.834972e+04  ...    22343.0  2.870972e+06\n",
              "months_number         4476738.0  4.483105e+01  ...        4.0  6.366240e+05\n",
              "\n",
              "[12 rows x 8 columns]"
            ]
          },
          "metadata": {
            "tags": []
          },
          "execution_count": 16
        }
      ]
    },
    {
      "cell_type": "markdown",
      "metadata": {
        "id": "mDU3kZvno_Ab"
      },
      "source": [
        "## Merging the client and invoice dataset on client ID"
      ]
    },
    {
      "cell_type": "code",
      "metadata": {
        "colab": {
          "base_uri": "https://localhost:8080/",
          "height": 258
        },
        "id": "KwD2hgYlNCoZ",
        "outputId": "c716acb4-cad0-4713-c5c0-6314da989ba1"
      },
      "source": [
        "invoice_train_copy = invoice_train.copy()\n",
        "merged_df = pd.merge(invoice_train_copy, client_train, on='client_id')\n",
        "print(\"The shape of the merged dataframe:\",merged_df.shape,\"\\n\")\n",
        "merged_df.head(5)"
      ],
      "execution_count": null,
      "outputs": [
        {
          "output_type": "stream",
          "text": [
            "The shape of the merged dataframe: (4476738, 21) \n",
            "\n"
          ],
          "name": "stdout"
        },
        {
          "output_type": "execute_result",
          "data": {
            "text/html": [
              "<div>\n",
              "<style scoped>\n",
              "    .dataframe tbody tr th:only-of-type {\n",
              "        vertical-align: middle;\n",
              "    }\n",
              "\n",
              "    .dataframe tbody tr th {\n",
              "        vertical-align: top;\n",
              "    }\n",
              "\n",
              "    .dataframe thead th {\n",
              "        text-align: right;\n",
              "    }\n",
              "</style>\n",
              "<table border=\"1\" class=\"dataframe\">\n",
              "  <thead>\n",
              "    <tr style=\"text-align: right;\">\n",
              "      <th></th>\n",
              "      <th>client_id</th>\n",
              "      <th>invoice_date</th>\n",
              "      <th>tarif_type</th>\n",
              "      <th>counter_number</th>\n",
              "      <th>counter_statue</th>\n",
              "      <th>counter_code</th>\n",
              "      <th>reading_remarque</th>\n",
              "      <th>counter_coefficient</th>\n",
              "      <th>consommation_level_1</th>\n",
              "      <th>consommation_level_2</th>\n",
              "      <th>consommation_level_3</th>\n",
              "      <th>consommation_level_4</th>\n",
              "      <th>old_index</th>\n",
              "      <th>new_index</th>\n",
              "      <th>months_number</th>\n",
              "      <th>counter_type</th>\n",
              "      <th>disrict</th>\n",
              "      <th>client_catg</th>\n",
              "      <th>region</th>\n",
              "      <th>creation_date</th>\n",
              "      <th>target</th>\n",
              "    </tr>\n",
              "  </thead>\n",
              "  <tbody>\n",
              "    <tr>\n",
              "      <th>0</th>\n",
              "      <td>train_Client_0</td>\n",
              "      <td>2014-03-24</td>\n",
              "      <td>11</td>\n",
              "      <td>1335667</td>\n",
              "      <td>0</td>\n",
              "      <td>203</td>\n",
              "      <td>8</td>\n",
              "      <td>1</td>\n",
              "      <td>82</td>\n",
              "      <td>0</td>\n",
              "      <td>0</td>\n",
              "      <td>0</td>\n",
              "      <td>14302</td>\n",
              "      <td>14384</td>\n",
              "      <td>4</td>\n",
              "      <td>ELEC</td>\n",
              "      <td>60</td>\n",
              "      <td>11</td>\n",
              "      <td>101</td>\n",
              "      <td>31/12/1994</td>\n",
              "      <td>0.0</td>\n",
              "    </tr>\n",
              "    <tr>\n",
              "      <th>1</th>\n",
              "      <td>train_Client_0</td>\n",
              "      <td>2013-03-29</td>\n",
              "      <td>11</td>\n",
              "      <td>1335667</td>\n",
              "      <td>0</td>\n",
              "      <td>203</td>\n",
              "      <td>6</td>\n",
              "      <td>1</td>\n",
              "      <td>1200</td>\n",
              "      <td>184</td>\n",
              "      <td>0</td>\n",
              "      <td>0</td>\n",
              "      <td>12294</td>\n",
              "      <td>13678</td>\n",
              "      <td>4</td>\n",
              "      <td>ELEC</td>\n",
              "      <td>60</td>\n",
              "      <td>11</td>\n",
              "      <td>101</td>\n",
              "      <td>31/12/1994</td>\n",
              "      <td>0.0</td>\n",
              "    </tr>\n",
              "    <tr>\n",
              "      <th>2</th>\n",
              "      <td>train_Client_0</td>\n",
              "      <td>2015-03-23</td>\n",
              "      <td>11</td>\n",
              "      <td>1335667</td>\n",
              "      <td>0</td>\n",
              "      <td>203</td>\n",
              "      <td>8</td>\n",
              "      <td>1</td>\n",
              "      <td>123</td>\n",
              "      <td>0</td>\n",
              "      <td>0</td>\n",
              "      <td>0</td>\n",
              "      <td>14624</td>\n",
              "      <td>14747</td>\n",
              "      <td>4</td>\n",
              "      <td>ELEC</td>\n",
              "      <td>60</td>\n",
              "      <td>11</td>\n",
              "      <td>101</td>\n",
              "      <td>31/12/1994</td>\n",
              "      <td>0.0</td>\n",
              "    </tr>\n",
              "    <tr>\n",
              "      <th>3</th>\n",
              "      <td>train_Client_0</td>\n",
              "      <td>2015-07-13</td>\n",
              "      <td>11</td>\n",
              "      <td>1335667</td>\n",
              "      <td>0</td>\n",
              "      <td>207</td>\n",
              "      <td>8</td>\n",
              "      <td>1</td>\n",
              "      <td>102</td>\n",
              "      <td>0</td>\n",
              "      <td>0</td>\n",
              "      <td>0</td>\n",
              "      <td>14747</td>\n",
              "      <td>14849</td>\n",
              "      <td>4</td>\n",
              "      <td>ELEC</td>\n",
              "      <td>60</td>\n",
              "      <td>11</td>\n",
              "      <td>101</td>\n",
              "      <td>31/12/1994</td>\n",
              "      <td>0.0</td>\n",
              "    </tr>\n",
              "    <tr>\n",
              "      <th>4</th>\n",
              "      <td>train_Client_0</td>\n",
              "      <td>2016-11-17</td>\n",
              "      <td>11</td>\n",
              "      <td>1335667</td>\n",
              "      <td>0</td>\n",
              "      <td>207</td>\n",
              "      <td>9</td>\n",
              "      <td>1</td>\n",
              "      <td>572</td>\n",
              "      <td>0</td>\n",
              "      <td>0</td>\n",
              "      <td>0</td>\n",
              "      <td>15066</td>\n",
              "      <td>15638</td>\n",
              "      <td>12</td>\n",
              "      <td>ELEC</td>\n",
              "      <td>60</td>\n",
              "      <td>11</td>\n",
              "      <td>101</td>\n",
              "      <td>31/12/1994</td>\n",
              "      <td>0.0</td>\n",
              "    </tr>\n",
              "  </tbody>\n",
              "</table>\n",
              "</div>"
            ],
            "text/plain": [
              "        client_id invoice_date  tarif_type  ...  region creation_date  target\n",
              "0  train_Client_0   2014-03-24          11  ...     101    31/12/1994     0.0\n",
              "1  train_Client_0   2013-03-29          11  ...     101    31/12/1994     0.0\n",
              "2  train_Client_0   2015-03-23          11  ...     101    31/12/1994     0.0\n",
              "3  train_Client_0   2015-07-13          11  ...     101    31/12/1994     0.0\n",
              "4  train_Client_0   2016-11-17          11  ...     101    31/12/1994     0.0\n",
              "\n",
              "[5 rows x 21 columns]"
            ]
          },
          "metadata": {
            "tags": []
          },
          "execution_count": 29
        }
      ]
    },
    {
      "cell_type": "code",
      "metadata": {
        "id": "NSRsIBcEC31v"
      },
      "source": [
        "fraud = merged_df[merged_df.target==1.0].copy()"
      ],
      "execution_count": null,
      "outputs": []
    },
    {
      "cell_type": "code",
      "metadata": {
        "colab": {
          "base_uri": "https://localhost:8080/"
        },
        "id": "IysT1dABDA31",
        "outputId": "44a9ee44-1afa-4ec0-a5dd-7cf645949c0d"
      },
      "source": [
        "fraud.invoice_date.value_counts()"
      ],
      "execution_count": null,
      "outputs": [
        {
          "output_type": "execute_result",
          "data": {
            "text/plain": [
              "2017-05-09    614\n",
              "2017-03-05    565\n",
              "2019-03-09    496\n",
              "2017-02-08    489\n",
              "2017-04-07    469\n",
              "             ... \n",
              "2005-07-15      2\n",
              "2005-07-22      2\n",
              "2011-06-25      1\n",
              "2011-01-14      1\n",
              "2011-01-17      1\n",
              "Name: invoice_date, Length: 3281, dtype: int64"
            ]
          },
          "metadata": {
            "tags": []
          },
          "execution_count": 32
        }
      ]
    },
    {
      "cell_type": "code",
      "metadata": {
        "colab": {
          "base_uri": "https://localhost:8080/",
          "height": 894
        },
        "id": "KYPgE9HPJTNw",
        "outputId": "fbee0c0d-dcd9-4121-cc45-6a94795efab4"
      },
      "source": [
        "fraud.hist(bins=20, color='green', grid=False, figsize=(12,10))"
      ],
      "execution_count": null,
      "outputs": [
        {
          "output_type": "execute_result",
          "data": {
            "text/plain": [
              "array([[<matplotlib.axes._subplots.AxesSubplot object at 0x7fc15526d7d0>,\n",
              "        <matplotlib.axes._subplots.AxesSubplot object at 0x7fc1550edb10>,\n",
              "        <matplotlib.axes._subplots.AxesSubplot object at 0x7fc154f9bc10>,\n",
              "        <matplotlib.axes._subplots.AxesSubplot object at 0x7fc154f371d0>],\n",
              "       [<matplotlib.axes._subplots.AxesSubplot object at 0x7fc154eeb690>,\n",
              "        <matplotlib.axes._subplots.AxesSubplot object at 0x7fc154e9fb90>,\n",
              "        <matplotlib.axes._subplots.AxesSubplot object at 0x7fc154e21110>,\n",
              "        <matplotlib.axes._subplots.AxesSubplot object at 0x7fc154e56650>],\n",
              "       [<matplotlib.axes._subplots.AxesSubplot object at 0x7fc154e566d0>,\n",
              "        <matplotlib.axes._subplots.AxesSubplot object at 0x7fc154e09cd0>,\n",
              "        <matplotlib.axes._subplots.AxesSubplot object at 0x7fc154d83790>,\n",
              "        <matplotlib.axes._subplots.AxesSubplot object at 0x7fc154d36d10>],\n",
              "       [<matplotlib.axes._subplots.AxesSubplot object at 0x7fc154cf92d0>,\n",
              "        <matplotlib.axes._subplots.AxesSubplot object at 0x7fc154cae810>,\n",
              "        <matplotlib.axes._subplots.AxesSubplot object at 0x7fc154c64d90>,\n",
              "        <matplotlib.axes._subplots.AxesSubplot object at 0x7fc154c27350>]],\n",
              "      dtype=object)"
            ]
          },
          "metadata": {
            "tags": []
          },
          "execution_count": 35
        },
        {
          "output_type": "display_data",
          "data": {
            "image/png": "[encoded data removed]",
            "text/plain": [
              "<Figure size 864x720 with 16 Axes>"
            ]
          },
          "metadata": {
            "tags": [],
            "image/png": {
              "width": 725,
              "height": 588
            }
          }
        }
      ]
    },
    {
      "cell_type": "code",
      "metadata": {
        "id": "50vtTHgkJqS8"
      },
      "source": [
        ""
      ],
      "execution_count": null,
      "outputs": []
    },
    {
      "cell_type": "markdown",
      "metadata": {
        "id": "7kibiQx2pdVJ"
      },
      "source": [
        "## Storing the target variable and dropping it from merged dataset"
      ]
    },
    {
      "cell_type": "code",
      "metadata": {
        "id": "Urptop4tNJYt"
      },
      "source": [
        "merged_df_target = merged_df['target']\n",
        "merged_df = merged_df.drop(columns=['target'])"
      ],
      "execution_count": null,
      "outputs": []
    },
    {
      "cell_type": "markdown",
      "metadata": {
        "id": "i_nUtp1QppON"
      },
      "source": [
        "## Checking for null values in merged dataset"
      ]
    },
    {
      "cell_type": "code",
      "metadata": {
        "colab": {
          "base_uri": "https://localhost:8080/"
        },
        "id": "XlOoibqcNGk5",
        "outputId": "69a85f5d-6512-42a2-eeb5-cf9602a887e5"
      },
      "source": [
        "print(\"Number of null values in the merged df:\", merged_df.isna().sum().sum())"
      ],
      "execution_count": null,
      "outputs": [
        {
          "output_type": "stream",
          "text": [
            "Number of null values in the merged df: 0\n"
          ],
          "name": "stdout"
        }
      ]
    },
    {
      "cell_type": "markdown",
      "metadata": {
        "id": "PmncdWR9pxoK"
      },
      "source": [
        "## Describing merged dataset"
      ]
    },
    {
      "cell_type": "code",
      "metadata": {
        "colab": {
          "base_uri": "https://localhost:8080/",
          "height": 514
        },
        "id": "Of8fAPeUNVCj",
        "outputId": "9a6af90c-2511-43fe-b8ff-b8d2add28f88"
      },
      "source": [
        "merged_df.describe().apply(lambda s: s.apply('{0:.3f}'.format)).T"
      ],
      "execution_count": null,
      "outputs": [
        {
          "output_type": "execute_result",
          "data": {
            "text/html": [
              "<div>\n",
              "<style scoped>\n",
              "    .dataframe tbody tr th:only-of-type {\n",
              "        vertical-align: middle;\n",
              "    }\n",
              "\n",
              "    .dataframe tbody tr th {\n",
              "        vertical-align: top;\n",
              "    }\n",
              "\n",
              "    .dataframe thead th {\n",
              "        text-align: right;\n",
              "    }\n",
              "</style>\n",
              "<table border=\"1\" class=\"dataframe\">\n",
              "  <thead>\n",
              "    <tr style=\"text-align: right;\">\n",
              "      <th></th>\n",
              "      <th>count</th>\n",
              "      <th>mean</th>\n",
              "      <th>std</th>\n",
              "      <th>min</th>\n",
              "      <th>25%</th>\n",
              "      <th>50%</th>\n",
              "      <th>75%</th>\n",
              "      <th>max</th>\n",
              "    </tr>\n",
              "  </thead>\n",
              "  <tbody>\n",
              "    <tr>\n",
              "      <th>tarif_type</th>\n",
              "      <td>4476738.000</td>\n",
              "      <td>20.128</td>\n",
              "      <td>13.473</td>\n",
              "      <td>8.000</td>\n",
              "      <td>11.000</td>\n",
              "      <td>11.000</td>\n",
              "      <td>40.000</td>\n",
              "      <td>45.000</td>\n",
              "    </tr>\n",
              "    <tr>\n",
              "      <th>counter_number</th>\n",
              "      <td>4476738.000</td>\n",
              "      <td>123059001435.461</td>\n",
              "      <td>1657269299110.165</td>\n",
              "      <td>0.000</td>\n",
              "      <td>121108.000</td>\n",
              "      <td>494561.000</td>\n",
              "      <td>1115161.000</td>\n",
              "      <td>27981145458733.000</td>\n",
              "    </tr>\n",
              "    <tr>\n",
              "      <th>counter_code</th>\n",
              "      <td>4476738.000</td>\n",
              "      <td>172.488</td>\n",
              "      <td>133.887</td>\n",
              "      <td>0.000</td>\n",
              "      <td>5.000</td>\n",
              "      <td>203.000</td>\n",
              "      <td>207.000</td>\n",
              "      <td>600.000</td>\n",
              "    </tr>\n",
              "    <tr>\n",
              "      <th>reading_remarque</th>\n",
              "      <td>4476738.000</td>\n",
              "      <td>7.322</td>\n",
              "      <td>1.572</td>\n",
              "      <td>5.000</td>\n",
              "      <td>6.000</td>\n",
              "      <td>8.000</td>\n",
              "      <td>9.000</td>\n",
              "      <td>413.000</td>\n",
              "    </tr>\n",
              "    <tr>\n",
              "      <th>counter_coefficient</th>\n",
              "      <td>4476738.000</td>\n",
              "      <td>1.003</td>\n",
              "      <td>0.308</td>\n",
              "      <td>0.000</td>\n",
              "      <td>1.000</td>\n",
              "      <td>1.000</td>\n",
              "      <td>1.000</td>\n",
              "      <td>50.000</td>\n",
              "    </tr>\n",
              "    <tr>\n",
              "      <th>consommation_level_1</th>\n",
              "      <td>4476738.000</td>\n",
              "      <td>410.981</td>\n",
              "      <td>757.309</td>\n",
              "      <td>0.000</td>\n",
              "      <td>79.000</td>\n",
              "      <td>274.000</td>\n",
              "      <td>600.000</td>\n",
              "      <td>999910.000</td>\n",
              "    </tr>\n",
              "    <tr>\n",
              "      <th>consommation_level_2</th>\n",
              "      <td>4476738.000</td>\n",
              "      <td>109.323</td>\n",
              "      <td>1220.125</td>\n",
              "      <td>0.000</td>\n",
              "      <td>0.000</td>\n",
              "      <td>0.000</td>\n",
              "      <td>0.000</td>\n",
              "      <td>999073.000</td>\n",
              "    </tr>\n",
              "    <tr>\n",
              "      <th>consommation_level_3</th>\n",
              "      <td>4476738.000</td>\n",
              "      <td>20.306</td>\n",
              "      <td>157.424</td>\n",
              "      <td>0.000</td>\n",
              "      <td>0.000</td>\n",
              "      <td>0.000</td>\n",
              "      <td>0.000</td>\n",
              "      <td>64492.000</td>\n",
              "    </tr>\n",
              "    <tr>\n",
              "      <th>consommation_level_4</th>\n",
              "      <td>4476738.000</td>\n",
              "      <td>52.926</td>\n",
              "      <td>875.474</td>\n",
              "      <td>0.000</td>\n",
              "      <td>0.000</td>\n",
              "      <td>0.000</td>\n",
              "      <td>0.000</td>\n",
              "      <td>547946.000</td>\n",
              "    </tr>\n",
              "    <tr>\n",
              "      <th>old_index</th>\n",
              "      <td>4476738.000</td>\n",
              "      <td>17767.007</td>\n",
              "      <td>40366.951</td>\n",
              "      <td>0.000</td>\n",
              "      <td>1791.000</td>\n",
              "      <td>7690.000</td>\n",
              "      <td>21660.000</td>\n",
              "      <td>2800280.000</td>\n",
              "    </tr>\n",
              "    <tr>\n",
              "      <th>new_index</th>\n",
              "      <td>4476738.000</td>\n",
              "      <td>18349.715</td>\n",
              "      <td>40953.232</td>\n",
              "      <td>0.000</td>\n",
              "      <td>2056.000</td>\n",
              "      <td>8192.000</td>\n",
              "      <td>22343.000</td>\n",
              "      <td>2870972.000</td>\n",
              "    </tr>\n",
              "    <tr>\n",
              "      <th>months_number</th>\n",
              "      <td>4476738.000</td>\n",
              "      <td>44.831</td>\n",
              "      <td>3128.339</td>\n",
              "      <td>0.000</td>\n",
              "      <td>4.000</td>\n",
              "      <td>4.000</td>\n",
              "      <td>4.000</td>\n",
              "      <td>636624.000</td>\n",
              "    </tr>\n",
              "    <tr>\n",
              "      <th>disrict</th>\n",
              "      <td>4476738.000</td>\n",
              "      <td>63.482</td>\n",
              "      <td>3.273</td>\n",
              "      <td>60.000</td>\n",
              "      <td>62.000</td>\n",
              "      <td>62.000</td>\n",
              "      <td>63.000</td>\n",
              "      <td>69.000</td>\n",
              "    </tr>\n",
              "    <tr>\n",
              "      <th>client_catg</th>\n",
              "      <td>4476738.000</td>\n",
              "      <td>11.944</td>\n",
              "      <td>6.022</td>\n",
              "      <td>11.000</td>\n",
              "      <td>11.000</td>\n",
              "      <td>11.000</td>\n",
              "      <td>11.000</td>\n",
              "      <td>51.000</td>\n",
              "    </tr>\n",
              "    <tr>\n",
              "      <th>region</th>\n",
              "      <td>4476738.000</td>\n",
              "      <td>210.358</td>\n",
              "      <td>103.583</td>\n",
              "      <td>101.000</td>\n",
              "      <td>103.000</td>\n",
              "      <td>301.000</td>\n",
              "      <td>309.000</td>\n",
              "      <td>399.000</td>\n",
              "    </tr>\n",
              "  </tbody>\n",
              "</table>\n",
              "</div>"
            ],
            "text/plain": [
              "                            count  ...                 max\n",
              "tarif_type            4476738.000  ...              45.000\n",
              "counter_number        4476738.000  ...  27981145458733.000\n",
              "counter_code          4476738.000  ...             600.000\n",
              "reading_remarque      4476738.000  ...             413.000\n",
              "counter_coefficient   4476738.000  ...              50.000\n",
              "consommation_level_1  4476738.000  ...          999910.000\n",
              "consommation_level_2  4476738.000  ...          999073.000\n",
              "consommation_level_3  4476738.000  ...           64492.000\n",
              "consommation_level_4  4476738.000  ...          547946.000\n",
              "old_index             4476738.000  ...         2800280.000\n",
              "new_index             4476738.000  ...         2870972.000\n",
              "months_number         4476738.000  ...          636624.000\n",
              "disrict               4476738.000  ...              69.000\n",
              "client_catg           4476738.000  ...              51.000\n",
              "region                4476738.000  ...             399.000\n",
              "\n",
              "[15 rows x 8 columns]"
            ]
          },
          "metadata": {
            "tags": []
          },
          "execution_count": 38
        }
      ]
    },
    {
      "cell_type": "markdown",
      "metadata": {
        "id": "R8Qgozn6p4Zz"
      },
      "source": [
        "## Number of unique values in merged dataset"
      ]
    },
    {
      "cell_type": "code",
      "metadata": {
        "colab": {
          "base_uri": "https://localhost:8080/"
        },
        "id": "raPW-kPRNVAR",
        "outputId": "2cc27e2f-912d-4707-ce44-e543cdadd4f9"
      },
      "source": [
        "print('Number of unique values in merged_df:\\n')\n",
        "for col in merged_df.columns:\n",
        "    print(f\"{col} - {merged_df[col].nunique()}\")"
      ],
      "execution_count": null,
      "outputs": [
        {
          "output_type": "stream",
          "text": [
            "Number of unique values in merged_df:\n",
            "\n",
            "client_id - 135493\n",
            "invoice_date - 8275\n",
            "tarif_type - 17\n",
            "counter_number - 201893\n",
            "counter_statue - 12\n",
            "counter_code - 42\n",
            "reading_remarque - 8\n",
            "counter_coefficient - 16\n",
            "consommation_level_1 - 8295\n",
            "consommation_level_2 - 12576\n",
            "consommation_level_3 - 2253\n",
            "consommation_level_4 - 12075\n",
            "old_index - 155648\n",
            "new_index - 157980\n",
            "months_number - 1370\n",
            "counter_type - 2\n",
            "disrict - 4\n",
            "client_catg - 3\n",
            "region - 25\n",
            "creation_date - 8088\n"
          ],
          "name": "stdout"
        }
      ]
    },
    {
      "cell_type": "markdown",
      "metadata": {
        "id": "_jkTTPIrqUcA"
      },
      "source": [
        "## Unique values in merged dataset"
      ]
    },
    {
      "cell_type": "code",
      "metadata": {
        "colab": {
          "base_uri": "https://localhost:8080/"
        },
        "id": "Hl_Vtuw2NU9r",
        "outputId": "89e1ed23-8381-4955-f7f5-d1c7ddfba009"
      },
      "source": [
        "print('Unique values in merged_df:\\n')\n",
        "for col in merged_df.columns:\n",
        "    print(f\"{col} - {merged_df[col].unique()}\\n\")"
      ],
      "execution_count": null,
      "outputs": [
        {
          "output_type": "stream",
          "text": [
            "Unique values in merged_df:\n",
            "\n",
            "client_id - ['train_Client_0' 'train_Client_1' 'train_Client_10' ...\n",
            " 'train_Client_99997' 'train_Client_99998' 'train_Client_99999']\n",
            "\n",
            "invoice_date - ['2014-03-24' '2013-03-29' '2015-03-23' ... '1995-11-28' '1982-07-04'\n",
            " '1996-09-02']\n",
            "\n",
            "tarif_type - [11 40 15 10 12 14 13 45 29  9 30  8 21 42 27 18 24]\n",
            "\n",
            "counter_number - [1335667  678902  572765 ... 4811719  262195  560948]\n",
            "\n",
            "counter_statue - ['0' '1' '5' '4' '3' '2' '769' 'A' '618' '269375' '46' '420']\n",
            "\n",
            "counter_code - [203 207 413   5 467 202 420 410  10 483  25 433 407 204 214 442 453 506\n",
            " 450 403 333 201 102 305 210 101 532  40 310 565 600 307 303 222  65   0\n",
            " 227 325  16 317 367   1]\n",
            "\n",
            "reading_remarque - [  8   6   9   7 207 413 203   5]\n",
            "\n",
            "counter_coefficient - [ 1  3  0 10  4 33 50 20  2  6 40  9 30  5 11  8]\n",
            "\n",
            "consommation_level_1 - [   82  1200   123 ... 43053  4824  8314]\n",
            "\n",
            "consommation_level_2 - [    0   184   186 ... 46017 29019 32001]\n",
            "\n",
            "consommation_level_3 - [   0  800   43 ... 1710 1750 1390]\n",
            "\n",
            "consommation_level_4 - [    0   382   132 ...  8613  8859 12645]\n",
            "\n",
            "old_index - [ 14302  12294  14624 ... 141551 110850  86004]\n",
            "\n",
            "new_index - [ 14384  13678  14747 ... 168700 127495  83410]\n",
            "\n",
            "months_number - [     4     12      8 ... 367445 459733 463554]\n",
            "\n",
            "counter_type - ['ELEC' 'GAZ']\n",
            "\n",
            "disrict - [60 69 62 63]\n",
            "\n",
            "client_catg - [11 12 51]\n",
            "\n",
            "region - [101 107 301 105 303 103 309 311 304 104 312 305 306 308 372 307 313 310\n",
            " 371 302 106 379 399 206 199]\n",
            "\n",
            "creation_date - ['31/12/1994' '29/05/2002' '13/03/1986' ... '16/08/2004' '30/08/1978'\n",
            " '25/05/1978']\n",
            "\n"
          ],
          "name": "stdout"
        }
      ]
    },
    {
      "cell_type": "markdown",
      "metadata": {
        "id": "E7ZO-rG0qZ1Q"
      },
      "source": [
        "## Feature Engineering and preprocessing data"
      ]
    },
    {
      "cell_type": "code",
      "metadata": {
        "id": "fTXA8a9uNkpy"
      },
      "source": [
        "def preprocess_data(merged_df):\n",
        "  merged_df['creation_date'] = pd.to_datetime(merged_df['creation_date'], dayfirst=True)\n",
        "  merged_df['creation_month'] = merged_df['creation_date'].dt.month\n",
        "  merged_df['creation_year'] = merged_df['creation_date'].dt.year\n",
        "  print(\"Maximum value in creation_year column:\\n\",merged_df['creation_year'].unique().max())\n",
        "  merged_df['acc_creation_time'] = (2019 - merged_df['creation_date'].dt.year)*12 - merged_df['creation_date'].dt.month # time in months since the creation of an account\n",
        "  merged_df['invoice_date'] = pd.to_datetime(merged_df['invoice_date'], dayfirst=True)\n",
        "  merged_df['invoice_month'] = merged_df['invoice_date'].dt.month\n",
        "  merged_df['invoice_year'] = merged_df['invoice_date'].dt.year\n",
        "  merged_df['change_in_index'] = merged_df['new_index'] - merged_df['old_index']\n",
        "  merged_df['tarif_type'] = merged_df['tarif_type'].astype('category')\n",
        "  merged_df['reading_remarque'] = merged_df['reading_remarque'].astype('category')\n",
        "  merged_df['disrict'] = merged_df['disrict'].astype('category')\n",
        "  merged_df['client_catg'] = merged_df['client_catg'].astype('category')\n",
        "  merged_df['delta_time'] = merged_df.sort_values(['client_id','invoice_date']).groupby('client_id')['invoice_date'].diff().dt.days.reset_index(drop=True)\n",
        "  print(\"\\nNull values in delta_time: \", merged_df['delta_time'].isnull().sum()) # amount of time between invoices for each user\n",
        "  merged_df['delta_time'] = merged_df['delta_time'].fillna(method='bfill')\n",
        "  print(\"\\nNull values in delta_time after imputation: \", merged_df['delta_time'].isnull().sum())\n",
        "  merged_df['counter_statue'] = merged_df['counter_statue'].map({'0':0, '1':1, '2':2, '3':3, '4':4, '5':5, '769':5, 'A':0, '618':5, '269375':5, '46':5, '420':5}).astype('category')\n",
        "  merged_df['counter_type'] = merged_df['counter_type'].map({'ELEC':0, 'GAZ':1}).astype('category')\n",
        "  merged_df['counter_coefficient'] = merged_df['counter_coefficient'].map({0:1, 1:1, 2:2, 3:3, 4:4, 40:4, 30:4, 6:4, 10:4, 20:4, 9:4, 11:4, 50:4, 33:4, 8:4, 5:4}).astype('category')\n",
        "  merged_df['consommation_levels_mean'] = merged_df.loc[:, 'consommation_level_1':'consommation_level_4'].mean(axis=1).reset_index(drop=True)\n",
        "  return merged_df"
      ],
      "execution_count": null,
      "outputs": []
    },
    {
      "cell_type": "code",
      "metadata": {
        "colab": {
          "base_uri": "https://localhost:8080/"
        },
        "id": "EYg6_Zb6Nknd",
        "outputId": "17ddf41a-99a5-4820-800e-34c284431a18"
      },
      "source": [
        "merged_df = preprocess_data(merged_df)"
      ],
      "execution_count": null,
      "outputs": [
        {
          "output_type": "stream",
          "text": [
            "Maximum value in creation_year column:\n",
            " 2019\n",
            "\n",
            "Null values in delta_time:  135493\n",
            "\n",
            "Null values in delta_time after imputation:  0\n"
          ],
          "name": "stdout"
        }
      ]
    },
    {
      "cell_type": "code",
      "metadata": {
        "id": "Ib-S9WGwCTJV"
      },
      "source": [
        "set(merged_df.invoice_year.unique())"
      ],
      "execution_count": null,
      "outputs": []
    },
    {
      "cell_type": "code",
      "metadata": {
        "colab": {
          "base_uri": "https://localhost:8080/",
          "height": 224
        },
        "id": "hbwMHaPaQZCf",
        "outputId": "a5fe7110-408d-4e0d-ff95-05920adb355d"
      },
      "source": [
        "merged_df.head(5)"
      ],
      "execution_count": null,
      "outputs": [
        {
          "output_type": "execute_result",
          "data": {
            "text/html": [
              "<div>\n",
              "<style scoped>\n",
              "    .dataframe tbody tr th:only-of-type {\n",
              "        vertical-align: middle;\n",
              "    }\n",
              "\n",
              "    .dataframe tbody tr th {\n",
              "        vertical-align: top;\n",
              "    }\n",
              "\n",
              "    .dataframe thead th {\n",
              "        text-align: right;\n",
              "    }\n",
              "</style>\n",
              "<table border=\"1\" class=\"dataframe\">\n",
              "  <thead>\n",
              "    <tr style=\"text-align: right;\">\n",
              "      <th></th>\n",
              "      <th>client_id</th>\n",
              "      <th>invoice_date</th>\n",
              "      <th>tarif_type</th>\n",
              "      <th>counter_number</th>\n",
              "      <th>counter_statue</th>\n",
              "      <th>counter_code</th>\n",
              "      <th>reading_remarque</th>\n",
              "      <th>counter_coefficient</th>\n",
              "      <th>consommation_level_1</th>\n",
              "      <th>consommation_level_2</th>\n",
              "      <th>consommation_level_3</th>\n",
              "      <th>consommation_level_4</th>\n",
              "      <th>old_index</th>\n",
              "      <th>new_index</th>\n",
              "      <th>months_number</th>\n",
              "      <th>counter_type</th>\n",
              "      <th>disrict</th>\n",
              "      <th>client_catg</th>\n",
              "      <th>region</th>\n",
              "      <th>creation_date</th>\n",
              "      <th>creation_month</th>\n",
              "      <th>creation_year</th>\n",
              "      <th>acc_creation_time</th>\n",
              "      <th>invoice_month</th>\n",
              "      <th>invoice_year</th>\n",
              "      <th>change_in_index</th>\n",
              "      <th>delta_time</th>\n",
              "      <th>consommation_levels_mean</th>\n",
              "    </tr>\n",
              "  </thead>\n",
              "  <tbody>\n",
              "    <tr>\n",
              "      <th>0</th>\n",
              "      <td>train_Client_0</td>\n",
              "      <td>2014-03-24</td>\n",
              "      <td>11</td>\n",
              "      <td>1335667</td>\n",
              "      <td>0</td>\n",
              "      <td>203</td>\n",
              "      <td>8</td>\n",
              "      <td>1</td>\n",
              "      <td>82</td>\n",
              "      <td>0</td>\n",
              "      <td>0</td>\n",
              "      <td>0</td>\n",
              "      <td>14302</td>\n",
              "      <td>14384</td>\n",
              "      <td>4</td>\n",
              "      <td>0</td>\n",
              "      <td>60</td>\n",
              "      <td>11</td>\n",
              "      <td>101</td>\n",
              "      <td>1994-12-31</td>\n",
              "      <td>12</td>\n",
              "      <td>1994</td>\n",
              "      <td>288</td>\n",
              "      <td>3</td>\n",
              "      <td>2014</td>\n",
              "      <td>82</td>\n",
              "      <td>130.0</td>\n",
              "      <td>20.50</td>\n",
              "    </tr>\n",
              "    <tr>\n",
              "      <th>1</th>\n",
              "      <td>train_Client_0</td>\n",
              "      <td>2013-03-29</td>\n",
              "      <td>11</td>\n",
              "      <td>1335667</td>\n",
              "      <td>0</td>\n",
              "      <td>203</td>\n",
              "      <td>6</td>\n",
              "      <td>1</td>\n",
              "      <td>1200</td>\n",
              "      <td>184</td>\n",
              "      <td>0</td>\n",
              "      <td>0</td>\n",
              "      <td>12294</td>\n",
              "      <td>13678</td>\n",
              "      <td>4</td>\n",
              "      <td>0</td>\n",
              "      <td>60</td>\n",
              "      <td>11</td>\n",
              "      <td>101</td>\n",
              "      <td>1994-12-31</td>\n",
              "      <td>12</td>\n",
              "      <td>1994</td>\n",
              "      <td>288</td>\n",
              "      <td>3</td>\n",
              "      <td>2013</td>\n",
              "      <td>1384</td>\n",
              "      <td>130.0</td>\n",
              "      <td>346.00</td>\n",
              "    </tr>\n",
              "    <tr>\n",
              "      <th>2</th>\n",
              "      <td>train_Client_0</td>\n",
              "      <td>2015-03-23</td>\n",
              "      <td>11</td>\n",
              "      <td>1335667</td>\n",
              "      <td>0</td>\n",
              "      <td>203</td>\n",
              "      <td>8</td>\n",
              "      <td>1</td>\n",
              "      <td>123</td>\n",
              "      <td>0</td>\n",
              "      <td>0</td>\n",
              "      <td>0</td>\n",
              "      <td>14624</td>\n",
              "      <td>14747</td>\n",
              "      <td>4</td>\n",
              "      <td>0</td>\n",
              "      <td>60</td>\n",
              "      <td>11</td>\n",
              "      <td>101</td>\n",
              "      <td>1994-12-31</td>\n",
              "      <td>12</td>\n",
              "      <td>1994</td>\n",
              "      <td>288</td>\n",
              "      <td>3</td>\n",
              "      <td>2015</td>\n",
              "      <td>123</td>\n",
              "      <td>119.0</td>\n",
              "      <td>30.75</td>\n",
              "    </tr>\n",
              "    <tr>\n",
              "      <th>3</th>\n",
              "      <td>train_Client_0</td>\n",
              "      <td>2015-07-13</td>\n",
              "      <td>11</td>\n",
              "      <td>1335667</td>\n",
              "      <td>0</td>\n",
              "      <td>207</td>\n",
              "      <td>8</td>\n",
              "      <td>1</td>\n",
              "      <td>102</td>\n",
              "      <td>0</td>\n",
              "      <td>0</td>\n",
              "      <td>0</td>\n",
              "      <td>14747</td>\n",
              "      <td>14849</td>\n",
              "      <td>4</td>\n",
              "      <td>0</td>\n",
              "      <td>60</td>\n",
              "      <td>11</td>\n",
              "      <td>101</td>\n",
              "      <td>1994-12-31</td>\n",
              "      <td>12</td>\n",
              "      <td>1994</td>\n",
              "      <td>288</td>\n",
              "      <td>7</td>\n",
              "      <td>2015</td>\n",
              "      <td>102</td>\n",
              "      <td>117.0</td>\n",
              "      <td>25.50</td>\n",
              "    </tr>\n",
              "    <tr>\n",
              "      <th>4</th>\n",
              "      <td>train_Client_0</td>\n",
              "      <td>2016-11-17</td>\n",
              "      <td>11</td>\n",
              "      <td>1335667</td>\n",
              "      <td>0</td>\n",
              "      <td>207</td>\n",
              "      <td>9</td>\n",
              "      <td>1</td>\n",
              "      <td>572</td>\n",
              "      <td>0</td>\n",
              "      <td>0</td>\n",
              "      <td>0</td>\n",
              "      <td>15066</td>\n",
              "      <td>15638</td>\n",
              "      <td>12</td>\n",
              "      <td>0</td>\n",
              "      <td>60</td>\n",
              "      <td>11</td>\n",
              "      <td>101</td>\n",
              "      <td>1994-12-31</td>\n",
              "      <td>12</td>\n",
              "      <td>1994</td>\n",
              "      <td>288</td>\n",
              "      <td>11</td>\n",
              "      <td>2016</td>\n",
              "      <td>572</td>\n",
              "      <td>131.0</td>\n",
              "      <td>143.00</td>\n",
              "    </tr>\n",
              "  </tbody>\n",
              "</table>\n",
              "</div>"
            ],
            "text/plain": [
              "        client_id invoice_date  ... delta_time  consommation_levels_mean\n",
              "0  train_Client_0   2014-03-24  ...      130.0                     20.50\n",
              "1  train_Client_0   2013-03-29  ...      130.0                    346.00\n",
              "2  train_Client_0   2015-03-23  ...      119.0                     30.75\n",
              "3  train_Client_0   2015-07-13  ...      117.0                     25.50\n",
              "4  train_Client_0   2016-11-17  ...      131.0                    143.00\n",
              "\n",
              "[5 rows x 28 columns]"
            ]
          },
          "metadata": {
            "tags": []
          },
          "execution_count": 44
        }
      ]
    },
    {
      "cell_type": "code",
      "metadata": {
        "colab": {
          "base_uri": "https://localhost:8080/"
        },
        "id": "TNjv5N6eQcPv",
        "outputId": "58656c8c-6850-4dda-dcd5-383ccf4042b2"
      },
      "source": [
        "merged_df.info()"
      ],
      "execution_count": null,
      "outputs": [
        {
          "output_type": "stream",
          "text": [
            "<class 'pandas.core.frame.DataFrame'>\n",
            "Int64Index: 4476738 entries, 0 to 4476737\n",
            "Data columns (total 28 columns):\n",
            " #   Column                    Dtype         \n",
            "---  ------                    -----         \n",
            " 0   client_id                 object        \n",
            " 1   invoice_date              datetime64[ns]\n",
            " 2   tarif_type                category      \n",
            " 3   counter_number            int64         \n",
            " 4   counter_statue            category      \n",
            " 5   counter_code              int64         \n",
            " 6   reading_remarque          category      \n",
            " 7   counter_coefficient       category      \n",
            " 8   consommation_level_1      int64         \n",
            " 9   consommation_level_2      int64         \n",
            " 10  consommation_level_3      int64         \n",
            " 11  consommation_level_4      int64         \n",
            " 12  old_index                 int64         \n",
            " 13  new_index                 int64         \n",
            " 14  months_number             int64         \n",
            " 15  counter_type              category      \n",
            " 16  disrict                   category      \n",
            " 17  client_catg               category      \n",
            " 18  region                    int64         \n",
            " 19  creation_date             datetime64[ns]\n",
            " 20  creation_month            int64         \n",
            " 21  creation_year             int64         \n",
            " 22  acc_creation_time         int64         \n",
            " 23  invoice_month             int64         \n",
            " 24  invoice_year              int64         \n",
            " 25  change_in_index           int64         \n",
            " 26  delta_time                float64       \n",
            " 27  consommation_levels_mean  float64       \n",
            "dtypes: category(7), datetime64[ns](2), float64(2), int64(16), object(1)\n",
            "memory usage: 781.3+ MB\n"
          ],
          "name": "stdout"
        }
      ]
    },
    {
      "cell_type": "code",
      "metadata": {
        "id": "ARYLwaAlCm6w"
      },
      "source": [
        "# merged_df[merged_df.target]"
      ],
      "execution_count": null,
      "outputs": []
    },
    {
      "cell_type": "markdown",
      "metadata": {
        "id": "Zew7-jSfq38f"
      },
      "source": [
        "## Dropping creation_date & invoice_date columns."
      ]
    },
    {
      "cell_type": "code",
      "metadata": {
        "colab": {
          "base_uri": "https://localhost:8080/"
        },
        "id": "ACOaa1edNkk_",
        "outputId": "955a97c4-8f7d-4f26-c020-c992436c3bf7"
      },
      "source": [
        "print(\"Shape before dropping columns:\", merged_df.shape)\n",
        "merged_df.drop(['creation_date','invoice_date'], axis=1, inplace=True)\n",
        "print(\"Shape after dropping columns:\", merged_df.shape)"
      ],
      "execution_count": null,
      "outputs": [
        {
          "output_type": "stream",
          "text": [
            "Shape before dropping columns: (4476738, 28)\n",
            "Shape after dropping columns: (4476738, 26)\n"
          ],
          "name": "stdout"
        }
      ]
    },
    {
      "cell_type": "markdown",
      "metadata": {
        "id": "V_sQKeXBrhz7"
      },
      "source": [
        "## Final dataset after cleaning"
      ]
    },
    {
      "cell_type": "code",
      "metadata": {
        "colab": {
          "base_uri": "https://localhost:8080/",
          "height": 379
        },
        "id": "rf9RTpWVNU69",
        "outputId": "e6c7b908-8167-417a-eb98-56b682599ddf"
      },
      "source": [
        "final_df = pd.concat([merged_df, merged_df_target], axis = 1)\n",
        "final_df.head(10)"
      ],
      "execution_count": null,
      "outputs": [
        {
          "output_type": "execute_result",
          "data": {
            "text/html": [
              "<div>\n",
              "<style scoped>\n",
              "    .dataframe tbody tr th:only-of-type {\n",
              "        vertical-align: middle;\n",
              "    }\n",
              "\n",
              "    .dataframe tbody tr th {\n",
              "        vertical-align: top;\n",
              "    }\n",
              "\n",
              "    .dataframe thead th {\n",
              "        text-align: right;\n",
              "    }\n",
              "</style>\n",
              "<table border=\"1\" class=\"dataframe\">\n",
              "  <thead>\n",
              "    <tr style=\"text-align: right;\">\n",
              "      <th></th>\n",
              "      <th>client_id</th>\n",
              "      <th>tarif_type</th>\n",
              "      <th>counter_number</th>\n",
              "      <th>counter_statue</th>\n",
              "      <th>counter_code</th>\n",
              "      <th>reading_remarque</th>\n",
              "      <th>counter_coefficient</th>\n",
              "      <th>consommation_level_1</th>\n",
              "      <th>consommation_level_2</th>\n",
              "      <th>consommation_level_3</th>\n",
              "      <th>consommation_level_4</th>\n",
              "      <th>old_index</th>\n",
              "      <th>new_index</th>\n",
              "      <th>months_number</th>\n",
              "      <th>counter_type</th>\n",
              "      <th>disrict</th>\n",
              "      <th>client_catg</th>\n",
              "      <th>region</th>\n",
              "      <th>creation_month</th>\n",
              "      <th>creation_year</th>\n",
              "      <th>acc_creation_time</th>\n",
              "      <th>invoice_month</th>\n",
              "      <th>invoice_year</th>\n",
              "      <th>change_in_index</th>\n",
              "      <th>delta_time</th>\n",
              "      <th>consommation_levels_mean</th>\n",
              "      <th>target</th>\n",
              "    </tr>\n",
              "  </thead>\n",
              "  <tbody>\n",
              "    <tr>\n",
              "      <th>0</th>\n",
              "      <td>train_Client_0</td>\n",
              "      <td>11</td>\n",
              "      <td>1335667</td>\n",
              "      <td>0</td>\n",
              "      <td>203</td>\n",
              "      <td>8</td>\n",
              "      <td>1</td>\n",
              "      <td>82</td>\n",
              "      <td>0</td>\n",
              "      <td>0</td>\n",
              "      <td>0</td>\n",
              "      <td>14302</td>\n",
              "      <td>14384</td>\n",
              "      <td>4</td>\n",
              "      <td>0</td>\n",
              "      <td>60</td>\n",
              "      <td>11</td>\n",
              "      <td>101</td>\n",
              "      <td>12</td>\n",
              "      <td>1994</td>\n",
              "      <td>288</td>\n",
              "      <td>3</td>\n",
              "      <td>2014</td>\n",
              "      <td>82</td>\n",
              "      <td>130.0</td>\n",
              "      <td>20.50</td>\n",
              "      <td>0.0</td>\n",
              "    </tr>\n",
              "    <tr>\n",
              "      <th>1</th>\n",
              "      <td>train_Client_0</td>\n",
              "      <td>11</td>\n",
              "      <td>1335667</td>\n",
              "      <td>0</td>\n",
              "      <td>203</td>\n",
              "      <td>6</td>\n",
              "      <td>1</td>\n",
              "      <td>1200</td>\n",
              "      <td>184</td>\n",
              "      <td>0</td>\n",
              "      <td>0</td>\n",
              "      <td>12294</td>\n",
              "      <td>13678</td>\n",
              "      <td>4</td>\n",
              "      <td>0</td>\n",
              "      <td>60</td>\n",
              "      <td>11</td>\n",
              "      <td>101</td>\n",
              "      <td>12</td>\n",
              "      <td>1994</td>\n",
              "      <td>288</td>\n",
              "      <td>3</td>\n",
              "      <td>2013</td>\n",
              "      <td>1384</td>\n",
              "      <td>130.0</td>\n",
              "      <td>346.00</td>\n",
              "      <td>0.0</td>\n",
              "    </tr>\n",
              "    <tr>\n",
              "      <th>2</th>\n",
              "      <td>train_Client_0</td>\n",
              "      <td>11</td>\n",
              "      <td>1335667</td>\n",
              "      <td>0</td>\n",
              "      <td>203</td>\n",
              "      <td>8</td>\n",
              "      <td>1</td>\n",
              "      <td>123</td>\n",
              "      <td>0</td>\n",
              "      <td>0</td>\n",
              "      <td>0</td>\n",
              "      <td>14624</td>\n",
              "      <td>14747</td>\n",
              "      <td>4</td>\n",
              "      <td>0</td>\n",
              "      <td>60</td>\n",
              "      <td>11</td>\n",
              "      <td>101</td>\n",
              "      <td>12</td>\n",
              "      <td>1994</td>\n",
              "      <td>288</td>\n",
              "      <td>3</td>\n",
              "      <td>2015</td>\n",
              "      <td>123</td>\n",
              "      <td>119.0</td>\n",
              "      <td>30.75</td>\n",
              "      <td>0.0</td>\n",
              "    </tr>\n",
              "    <tr>\n",
              "      <th>3</th>\n",
              "      <td>train_Client_0</td>\n",
              "      <td>11</td>\n",
              "      <td>1335667</td>\n",
              "      <td>0</td>\n",
              "      <td>207</td>\n",
              "      <td>8</td>\n",
              "      <td>1</td>\n",
              "      <td>102</td>\n",
              "      <td>0</td>\n",
              "      <td>0</td>\n",
              "      <td>0</td>\n",
              "      <td>14747</td>\n",
              "      <td>14849</td>\n",
              "      <td>4</td>\n",
              "      <td>0</td>\n",
              "      <td>60</td>\n",
              "      <td>11</td>\n",
              "      <td>101</td>\n",
              "      <td>12</td>\n",
              "      <td>1994</td>\n",
              "      <td>288</td>\n",
              "      <td>7</td>\n",
              "      <td>2015</td>\n",
              "      <td>102</td>\n",
              "      <td>117.0</td>\n",
              "      <td>25.50</td>\n",
              "      <td>0.0</td>\n",
              "    </tr>\n",
              "    <tr>\n",
              "      <th>4</th>\n",
              "      <td>train_Client_0</td>\n",
              "      <td>11</td>\n",
              "      <td>1335667</td>\n",
              "      <td>0</td>\n",
              "      <td>207</td>\n",
              "      <td>9</td>\n",
              "      <td>1</td>\n",
              "      <td>572</td>\n",
              "      <td>0</td>\n",
              "      <td>0</td>\n",
              "      <td>0</td>\n",
              "      <td>15066</td>\n",
              "      <td>15638</td>\n",
              "      <td>12</td>\n",
              "      <td>0</td>\n",
              "      <td>60</td>\n",
              "      <td>11</td>\n",
              "      <td>101</td>\n",
              "      <td>12</td>\n",
              "      <td>1994</td>\n",
              "      <td>288</td>\n",
              "      <td>11</td>\n",
              "      <td>2016</td>\n",
              "      <td>572</td>\n",
              "      <td>131.0</td>\n",
              "      <td>143.00</td>\n",
              "      <td>0.0</td>\n",
              "    </tr>\n",
              "    <tr>\n",
              "      <th>5</th>\n",
              "      <td>train_Client_0</td>\n",
              "      <td>11</td>\n",
              "      <td>1335667</td>\n",
              "      <td>0</td>\n",
              "      <td>207</td>\n",
              "      <td>9</td>\n",
              "      <td>1</td>\n",
              "      <td>314</td>\n",
              "      <td>0</td>\n",
              "      <td>0</td>\n",
              "      <td>0</td>\n",
              "      <td>15638</td>\n",
              "      <td>15952</td>\n",
              "      <td>8</td>\n",
              "      <td>0</td>\n",
              "      <td>60</td>\n",
              "      <td>11</td>\n",
              "      <td>101</td>\n",
              "      <td>12</td>\n",
              "      <td>1994</td>\n",
              "      <td>288</td>\n",
              "      <td>7</td>\n",
              "      <td>2017</td>\n",
              "      <td>314</td>\n",
              "      <td>121.0</td>\n",
              "      <td>78.50</td>\n",
              "      <td>0.0</td>\n",
              "    </tr>\n",
              "    <tr>\n",
              "      <th>6</th>\n",
              "      <td>train_Client_0</td>\n",
              "      <td>11</td>\n",
              "      <td>1335667</td>\n",
              "      <td>0</td>\n",
              "      <td>207</td>\n",
              "      <td>9</td>\n",
              "      <td>1</td>\n",
              "      <td>541</td>\n",
              "      <td>0</td>\n",
              "      <td>0</td>\n",
              "      <td>0</td>\n",
              "      <td>15952</td>\n",
              "      <td>16493</td>\n",
              "      <td>12</td>\n",
              "      <td>0</td>\n",
              "      <td>60</td>\n",
              "      <td>11</td>\n",
              "      <td>101</td>\n",
              "      <td>12</td>\n",
              "      <td>1994</td>\n",
              "      <td>288</td>\n",
              "      <td>12</td>\n",
              "      <td>2018</td>\n",
              "      <td>541</td>\n",
              "      <td>120.0</td>\n",
              "      <td>135.25</td>\n",
              "      <td>0.0</td>\n",
              "    </tr>\n",
              "    <tr>\n",
              "      <th>7</th>\n",
              "      <td>train_Client_0</td>\n",
              "      <td>11</td>\n",
              "      <td>1335667</td>\n",
              "      <td>0</td>\n",
              "      <td>207</td>\n",
              "      <td>9</td>\n",
              "      <td>1</td>\n",
              "      <td>585</td>\n",
              "      <td>0</td>\n",
              "      <td>0</td>\n",
              "      <td>0</td>\n",
              "      <td>16493</td>\n",
              "      <td>17078</td>\n",
              "      <td>8</td>\n",
              "      <td>0</td>\n",
              "      <td>60</td>\n",
              "      <td>11</td>\n",
              "      <td>101</td>\n",
              "      <td>12</td>\n",
              "      <td>1994</td>\n",
              "      <td>288</td>\n",
              "      <td>3</td>\n",
              "      <td>2019</td>\n",
              "      <td>585</td>\n",
              "      <td>71.0</td>\n",
              "      <td>146.25</td>\n",
              "      <td>0.0</td>\n",
              "    </tr>\n",
              "    <tr>\n",
              "      <th>8</th>\n",
              "      <td>train_Client_0</td>\n",
              "      <td>11</td>\n",
              "      <td>1335667</td>\n",
              "      <td>0</td>\n",
              "      <td>203</td>\n",
              "      <td>9</td>\n",
              "      <td>1</td>\n",
              "      <td>1200</td>\n",
              "      <td>186</td>\n",
              "      <td>0</td>\n",
              "      <td>0</td>\n",
              "      <td>7770</td>\n",
              "      <td>9156</td>\n",
              "      <td>4</td>\n",
              "      <td>0</td>\n",
              "      <td>60</td>\n",
              "      <td>11</td>\n",
              "      <td>101</td>\n",
              "      <td>12</td>\n",
              "      <td>1994</td>\n",
              "      <td>288</td>\n",
              "      <td>7</td>\n",
              "      <td>2011</td>\n",
              "      <td>1386</td>\n",
              "      <td>206.0</td>\n",
              "      <td>346.50</td>\n",
              "      <td>0.0</td>\n",
              "    </tr>\n",
              "    <tr>\n",
              "      <th>9</th>\n",
              "      <td>train_Client_0</td>\n",
              "      <td>11</td>\n",
              "      <td>1335667</td>\n",
              "      <td>0</td>\n",
              "      <td>203</td>\n",
              "      <td>6</td>\n",
              "      <td>1</td>\n",
              "      <td>1082</td>\n",
              "      <td>0</td>\n",
              "      <td>0</td>\n",
              "      <td>0</td>\n",
              "      <td>9156</td>\n",
              "      <td>10238</td>\n",
              "      <td>4</td>\n",
              "      <td>0</td>\n",
              "      <td>60</td>\n",
              "      <td>11</td>\n",
              "      <td>101</td>\n",
              "      <td>12</td>\n",
              "      <td>1994</td>\n",
              "      <td>288</td>\n",
              "      <td>11</td>\n",
              "      <td>2011</td>\n",
              "      <td>1082</td>\n",
              "      <td>120.0</td>\n",
              "      <td>270.50</td>\n",
              "      <td>0.0</td>\n",
              "    </tr>\n",
              "  </tbody>\n",
              "</table>\n",
              "</div>"
            ],
            "text/plain": [
              "        client_id tarif_type  ...  consommation_levels_mean target\n",
              "0  train_Client_0         11  ...                     20.50    0.0\n",
              "1  train_Client_0         11  ...                    346.00    0.0\n",
              "2  train_Client_0         11  ...                     30.75    0.0\n",
              "3  train_Client_0         11  ...                     25.50    0.0\n",
              "4  train_Client_0         11  ...                    143.00    0.0\n",
              "5  train_Client_0         11  ...                     78.50    0.0\n",
              "6  train_Client_0         11  ...                    135.25    0.0\n",
              "7  train_Client_0         11  ...                    146.25    0.0\n",
              "8  train_Client_0         11  ...                    346.50    0.0\n",
              "9  train_Client_0         11  ...                    270.50    0.0\n",
              "\n",
              "[10 rows x 27 columns]"
            ]
          },
          "metadata": {
            "tags": []
          },
          "execution_count": 49
        }
      ]
    },
    {
      "cell_type": "markdown",
      "metadata": {
        "id": "l22rJNXdrmS0"
      },
      "source": [
        "## Heatmap"
      ]
    },
    {
      "cell_type": "code",
      "metadata": {
        "id": "lgEWuFrtRmWL"
      },
      "source": [
        "plt.figure(figsize=(25, 10))\n",
        "g_1 = sns.heatmap(final_df.corr(), annot = True)"
      ],
      "execution_count": null,
      "outputs": []
    },
    {
      "cell_type": "markdown",
      "metadata": {
        "id": "mBe80IPnrtZ4"
      },
      "source": [
        "## Important Features"
      ]
    },
    {
      "cell_type": "code",
      "metadata": {
        "id": "Q55fofmP73zL"
      },
      "source": [
        "from sklearn.preprocessing import LabelEncoder\n",
        "\n",
        "final_df_target = final_df['target']\n",
        "final_df_features = merged_df\n",
        "le = LabelEncoder()\n",
        "for i in final_df_features.columns:\n",
        "    if final_df_features[i].dtype != 'int64' or final_df_features[i].dtype != 'float64':\n",
        "        final_df_features[i] = le.fit_transform(final_df_features[i])"
      ],
      "execution_count": null,
      "outputs": []
    },
    {
      "cell_type": "code",
      "metadata": {
        "id": "9d08owXVXuLx"
      },
      "source": [
        "visualizer = feature_correlation(merged_df, merged_df_target)\n",
        "plt.tight_layout()"
      ],
      "execution_count": null,
      "outputs": []
    },
    {
      "cell_type": "markdown",
      "metadata": {
        "id": "yHNVOJH7rwHz"
      },
      "source": [
        "## Target class Imbalance"
      ]
    },
    {
      "cell_type": "code",
      "metadata": {
        "id": "MC_vvSjmYXnr"
      },
      "source": [
        "g_2 = sns.histplot(data=final_df, x=\"target\")"
      ],
      "execution_count": null,
      "outputs": []
    },
    {
      "cell_type": "markdown",
      "metadata": {
        "id": "bLqoEGn-sWgz"
      },
      "source": [
        "## Basic Visualization"
      ]
    },
    {
      "cell_type": "code",
      "metadata": {
        "id": "q41VOpZer_1u"
      },
      "source": [
        "for col in ['disrict','region','client_catg']:\n",
        "    ds = final_df.groupby([col])['client_id'].count()\n",
        "    plt.bar(x = ds.index, height = ds.values)\n",
        "    plt.title(col+' distribution')\n",
        "    plt.show()"
      ],
      "execution_count": null,
      "outputs": []
    },
    {
      "cell_type": "code",
      "metadata": {
        "id": "AoBLeYKDBfG8"
      },
      "source": [
        "def plotPerColumnDistribution(df, nGraphShown, nGraphPerRow):\n",
        "    nunique = df.nunique()\n",
        "    df = df[[col for col in df if nunique[col] > 1 and nunique[col] < 50]]\n",
        "    nRow, nCol = df.shape\n",
        "    columnNames = list(df)\n",
        "    nGraphRow = (nCol + nGraphPerRow - 1) / nGraphPerRow\n",
        "    plt.figure(num = None, figsize = (6 * nGraphPerRow, 8 * nGraphRow), dpi = 80, facecolor = 'w', edgecolor = 'k')\n",
        "    for i in range(min(nCol, nGraphShown)):\n",
        "        plt.subplot(nGraphRow, nGraphPerRow, i + 1)\n",
        "        columnDf = df.iloc[:, i]\n",
        "        if (not np.issubdtype(type(columnDf.iloc[0]), np.number)):\n",
        "            valueCounts = columnDf.value_counts()\n",
        "            valueCounts.plot.bar()\n",
        "        else:\n",
        "            columnDf.hist()\n",
        "        plt.ylabel('counts')\n",
        "        plt.xticks(rotation = 90)\n",
        "        plt.title(f'{columnNames[i]} (column {i})')\n",
        "    plt.tight_layout(pad = 1.0, w_pad = 1.0, h_pad = 1.0)\n",
        "    plt.show()"
      ],
      "execution_count": null,
      "outputs": []
    },
    {
      "cell_type": "code",
      "metadata": {
        "id": "c_qQ7P2mB-LY"
      },
      "source": [
        "def plotScatterMatrix(df, plotSize, textSize):\n",
        "    df = df.select_dtypes(include =[np.number]) \n",
        "    df = df.dropna('columns')\n",
        "    df = df[[col for col in df if df[col].nunique() > 1]] \n",
        "    columnNames = list(df)\n",
        "    if len(columnNames) > 10: \n",
        "        columnNames = columnNames[:10]\n",
        "    df = df[columnNames]\n",
        "    ax = pd.plotting.scatter_matrix(df, alpha=0.75, figsize=[plotSize, plotSize], diagonal='kde')\n",
        "    corrs = df.corr().values\n",
        "    for i, j in zip(*plt.np.triu_indices_from(ax, k = 1)):\n",
        "        ax[i, j].annotate('Corr. coef = %.3f' % corrs[i, j], (0.8, 0.2), xycoords='axes fraction', ha='center', va='center', size=textSize)\n",
        "    plt.suptitle('Scatter and Density Plot')\n",
        "    plt.show()"
      ],
      "execution_count": null,
      "outputs": []
    },
    {
      "cell_type": "code",
      "metadata": {
        "id": "GBKBwFUuCHuK"
      },
      "source": [
        "plotScatterMatrix(client_train, 12, 10)"
      ],
      "execution_count": null,
      "outputs": []
    },
    {
      "cell_type": "code",
      "metadata": {
        "id": "qi6y5vOrCbAL"
      },
      "source": [
        "plotPerColumnDistribution(invoice_train_copy, 10, 5)"
      ],
      "execution_count": null,
      "outputs": []
    },
    {
      "cell_type": "code",
      "metadata": {
        "id": "Mgazk-mDCygg"
      },
      "source": [
        "# plotScatterMatrix(invoice_train_copy, 12, 10)"
      ],
      "execution_count": null,
      "outputs": []
    },
    {
      "cell_type": "markdown",
      "metadata": {
        "id": "YH-M1bvSsi5-"
      },
      "source": [
        "## Dropping columns that are less important"
      ]
    },
    {
      "cell_type": "code",
      "metadata": {
        "id": "03qAaWN15QSs"
      },
      "source": [
        "final_df = final_df.drop(labels=['client_id','invoice_year','creation_month','months_number','counter_code','new_index'],axis=1)"
      ],
      "execution_count": null,
      "outputs": []
    },
    {
      "cell_type": "markdown",
      "metadata": {
        "id": "GiD8Es9Ls4ks"
      },
      "source": [
        "## Defining X and Y"
      ]
    },
    {
      "cell_type": "code",
      "metadata": {
        "id": "wWwFPavy5YtK"
      },
      "source": [
        "X = final_df.iloc[:,:-1]\n",
        "y = final_df['target']"
      ],
      "execution_count": null,
      "outputs": []
    },
    {
      "cell_type": "code",
      "metadata": {
        "id": "OpvIVFRe5Yq1",
        "colab": {
          "base_uri": "https://localhost:8080/"
        },
        "outputId": "0b4437b3-1c70-4aca-d988-58ccea0d0963"
      },
      "source": [
        "print(\"The shape of X: \",X.shape)\n",
        "print(\"The shape of Y:\",y.shape)"
      ],
      "execution_count": null,
      "outputs": [
        {
          "output_type": "stream",
          "text": [
            "The shape of X:  (4476738, 26)\n",
            "The shape of Y: (4476738,)\n"
          ],
          "name": "stdout"
        }
      ]
    },
    {
      "cell_type": "code",
      "metadata": {
        "id": "Jv6ju4tU5YoH"
      },
      "source": [
        "X.head()"
      ],
      "execution_count": null,
      "outputs": []
    },
    {
      "cell_type": "code",
      "metadata": {
        "id": "o8idHWdmtihV"
      },
      "source": [
        "y.head()"
      ],
      "execution_count": null,
      "outputs": []
    },
    {
      "cell_type": "markdown",
      "metadata": {
        "id": "6JNIUslGtlHN"
      },
      "source": [
        "## Random Under Sampling: Balancing the dataset"
      ]
    },
    {
      "cell_type": "markdown",
      "metadata": {
        "id": "6YIrYzT_uDlj"
      },
      "source": [
        "### Implementing Logistic Regression, Linear SVM, Random Forest, XGBoost Classification, CatBoost Classification."
      ]
    },
    {
      "cell_type": "code",
      "metadata": {
        "colab": {
          "base_uri": "https://localhost:8080/"
        },
        "id": "R5xHpzumI-4L",
        "outputId": "c5c6c2c7-c09d-4dc6-e091-e1e158b1e994"
      },
      "source": [
        "rus = RandomUnderSampler(random_state=42, replacement=True)\n",
        "x_rus, y_rus = rus.fit_resample(X, y)\n",
        "print('Original dataset shape:', Counter(y))\n",
        "print('Resample dataset shape:', Counter(y_rus))"
      ],
      "execution_count": null,
      "outputs": [
        {
          "output_type": "stream",
          "text": [
            "/usr/local/lib/python3.7/dist-packages/sklearn/utils/deprecation.py:87: FutureWarning: Function safe_indexing is deprecated; safe_indexing is deprecated in version 0.22 and will be removed in version 0.24.\n",
            "  warnings.warn(msg, category=FutureWarning)\n"
          ],
          "name": "stderr"
        },
        {
          "output_type": "stream",
          "text": [
            "Original dataset shape: Counter({0.0: 4123629, 1.0: 353109})\n",
            "Resample dataset shape: Counter({0.0: 353109, 1.0: 353109})\n"
          ],
          "name": "stdout"
        }
      ]
    },
    {
      "cell_type": "code",
      "metadata": {
        "colab": {
          "base_uri": "https://localhost:8080/",
          "height": 392
        },
        "id": "xGtrGeNYKBTG",
        "outputId": "06e6bd08-03ba-4e95-da54-3b221fecc662"
      },
      "source": [
        "sns.countplot(x=y).set_title('Before under sampling:')"
      ],
      "execution_count": null,
      "outputs": [
        {
          "output_type": "execute_result",
          "data": {
            "text/plain": [
              "Text(0.5, 1.0, 'Before under sampling:')"
            ]
          },
          "metadata": {
            "tags": []
          },
          "execution_count": 55
        },
        {
          "output_type": "display_data",
          "data": {
            "image/png": "[encoded data removed]",
            "text/plain": [
              "<Figure size 576x396 with 1 Axes>"
            ]
          },
          "metadata": {
            "tags": [],
            "image/png": {
              "width": 496,
              "height": 358
            }
          }
        }
      ]
    },
    {
      "cell_type": "code",
      "metadata": {
        "colab": {
          "base_uri": "https://localhost:8080/",
          "height": 432
        },
        "id": "_vB494CnKHXv",
        "outputId": "53c42faa-4649-4501-ff7b-44da04d1505b"
      },
      "source": [
        "sns.countplot(y_rus).set_title('After Under Sampling:')"
      ],
      "execution_count": null,
      "outputs": [
        {
          "output_type": "stream",
          "text": [
            "/usr/local/lib/python3.7/dist-packages/seaborn/_decorators.py:43: FutureWarning: Pass the following variable as a keyword arg: x. From version 0.12, the only valid positional argument will be `data`, and passing other arguments without an explicit keyword will result in an error or misinterpretation.\n",
            "  FutureWarning\n"
          ],
          "name": "stderr"
        },
        {
          "output_type": "execute_result",
          "data": {
            "text/plain": [
              "Text(0.5, 1.0, 'After Under Sampling:')"
            ]
          },
          "metadata": {
            "tags": []
          },
          "execution_count": 56
        },
        {
          "output_type": "display_data",
          "data": {
            "image/png": "[encoded data removed]",
            "text/plain": [
              "<Figure size 576x396 with 1 Axes>"
            ]
          },
          "metadata": {
            "tags": [],
            "image/png": {
              "width": 515,
              "height": 344
            }
          }
        }
      ]
    },
    {
      "cell_type": "code",
      "metadata": {
        "id": "8mlSzP9OJ2vj"
      },
      "source": [
        ""
      ],
      "execution_count": null,
      "outputs": []
    },
    {
      "cell_type": "code",
      "metadata": {
        "id": "2kMa71bv5Ylx",
        "colab": {
          "base_uri": "https://localhost:8080/",
          "height": 1000
        },
        "outputId": "c77f55d7-aef9-4d8f-9c3f-45196f8c5413"
      },
      "source": [
        "\n",
        "xtrain, xtest, ytrain, ytest = train_test_split(x_rus, y_rus, random_state=1, test_size=0.2)\n",
        "scaler = StandardScaler()\n",
        "xtrain = scaler.fit_transform(xtrain)\n",
        "xtest = scaler.transform(xtest)\n",
        "def model(clf):\n",
        "  clf.fit(xtrain, ytrain)\n",
        "  print(\"Train Accuracy:\", clf.score(xtrain, ytrain),\"\\n\")\n",
        "  y_pred = clf.predict(xtest)\n",
        "  return y_pred\n",
        "lr = LogisticRegression(random_state=1,max_iter=100)\n",
        "svc = LinearSVC(random_state=1)\n",
        "rfc = RandomForestClassifier(n_estimators=200,random_state=1)\n",
        "xgb_c = xgb.XGBClassifier(objective=\"binary:logistic\", random_state=42)\n",
        "models = [lr,svc,rfc,xgb_c]\n",
        "\n",
        "for i in range(len(models)):\n",
        "    print(models[i])\n",
        "    y_pred = model(models[i])\n",
        "    acc = accuracy_score(ytest, y_pred)*100\n",
        "    print(f\"Test Accuracy: {acc}%\")\n",
        "    print()\n",
        "    print(classification_report(ytest, y_pred),\"\\n\")\n",
        "    \n",
        "    cm = confusion_matrix(ytest, y_pred)\n",
        "    g = sns.heatmap(cm, annot=True, fmt='g')\n",
        "    plt.show()\n",
        "    "
      ],
      "execution_count": null,
      "outputs": [
        {
          "output_type": "stream",
          "text": [
            "/usr/local/lib/python3.7/dist-packages/sklearn/utils/deprecation.py:87: FutureWarning: Function safe_indexing is deprecated; safe_indexing is deprecated in version 0.22 and will be removed in version 0.24.\n",
            "  warnings.warn(msg, category=FutureWarning)\n"
          ],
          "name": "stderr"
        },
        {
          "output_type": "stream",
          "text": [
            "Original dataset shape: Counter({0.0: 4123629, 1.0: 353109})\n",
            "Resample dataset shape: Counter({0.0: 353109, 1.0: 353109})\n",
            "LogisticRegression(C=1.0, class_weight=None, dual=False, fit_intercept=True,\n",
            "                   intercept_scaling=1, l1_ratio=None, max_iter=100,\n",
            "                   multi_class='auto', n_jobs=None, penalty='l2',\n",
            "                   random_state=1, solver='lbfgs', tol=0.0001, verbose=0,\n",
            "                   warm_start=False)\n",
            "Train Accuracy: 0.5916767851263952 \n",
            "\n",
            "Test Accuracy: 59.16357508991532%\n",
            "\n",
            "              precision    recall  f1-score   support\n",
            "\n",
            "         0.0       0.59      0.59      0.59     70165\n",
            "         1.0       0.60      0.59      0.59     71079\n",
            "\n",
            "    accuracy                           0.59    141244\n",
            "   macro avg       0.59      0.59      0.59    141244\n",
            "weighted avg       0.59      0.59      0.59    141244\n",
            " \n",
            "\n"
          ],
          "name": "stdout"
        },
        {
          "output_type": "display_data",
          "data": {
            "image/png": "[encoded data removed]",
            "text/plain": [
              "<Figure size 576x396 with 2 Axes>"
            ]
          },
          "metadata": {
            "tags": [],
            "image/png": {
              "width": 460,
              "height": 329
            }
          }
        },
        {
          "output_type": "stream",
          "text": [
            "LinearSVC(C=1.0, class_weight=None, dual=True, fit_intercept=True,\n",
            "          intercept_scaling=1, loss='squared_hinge', max_iter=1000,\n",
            "          multi_class='ovr', penalty='l2', random_state=1, tol=0.0001,\n",
            "          verbose=0)\n"
          ],
          "name": "stdout"
        },
        {
          "output_type": "stream",
          "text": [
            "/usr/local/lib/python3.7/dist-packages/sklearn/svm/_base.py:947: ConvergenceWarning: Liblinear failed to converge, increase the number of iterations.\n",
            "  \"the number of iterations.\", ConvergenceWarning)\n"
          ],
          "name": "stderr"
        },
        {
          "output_type": "stream",
          "text": [
            "Train Accuracy: 0.591878564323314 \n",
            "\n",
            "Test Accuracy: 59.20534677579224%\n",
            "\n",
            "              precision    recall  f1-score   support\n",
            "\n",
            "         0.0       0.59      0.60      0.59     70165\n",
            "         1.0       0.60      0.59      0.59     71079\n",
            "\n",
            "    accuracy                           0.59    141244\n",
            "   macro avg       0.59      0.59      0.59    141244\n",
            "weighted avg       0.59      0.59      0.59    141244\n",
            " \n",
            "\n"
          ],
          "name": "stdout"
        },
        {
          "output_type": "display_data",
          "data": {
            "image/png": "[encoded data removed]",
            "text/plain": [
              "<Figure size 576x396 with 2 Axes>"
            ]
          },
          "metadata": {
            "tags": [],
            "image/png": {
              "width": 460,
              "height": 329
            }
          }
        },
        {
          "output_type": "stream",
          "text": [
            "RandomForestClassifier(bootstrap=True, ccp_alpha=0.0, class_weight=None,\n",
            "                       criterion='gini', max_depth=None, max_features='auto',\n",
            "                       max_leaf_nodes=None, max_samples=None,\n",
            "                       min_impurity_decrease=0.0, min_impurity_split=None,\n",
            "                       min_samples_leaf=1, min_samples_split=2,\n",
            "                       min_weight_fraction_leaf=0.0, n_estimators=200,\n",
            "                       n_jobs=None, oob_score=False, random_state=1, verbose=0,\n",
            "                       warm_start=False)\n",
            "Train Accuracy: 0.9993132427332939 \n",
            "\n",
            "Test Accuracy: 77.99835745235197%\n",
            "\n",
            "              precision    recall  f1-score   support\n",
            "\n",
            "         0.0       0.78      0.77      0.78     70165\n",
            "         1.0       0.78      0.79      0.78     71079\n",
            "\n",
            "    accuracy                           0.78    141244\n",
            "   macro avg       0.78      0.78      0.78    141244\n",
            "weighted avg       0.78      0.78      0.78    141244\n",
            " \n",
            "\n"
          ],
          "name": "stdout"
        },
        {
          "output_type": "display_data",
          "data": {
            "image/png": "[encoded data removed]",
            "text/plain": [
              "<Figure size 576x396 with 2 Axes>"
            ]
          },
          "metadata": {
            "tags": [],
            "image/png": {
              "width": 460,
              "height": 329
            }
          }
        },
        {
          "output_type": "stream",
          "text": [
            "XGBClassifier(base_score=0.5, booster='gbtree', colsample_bylevel=1,\n",
            "              colsample_bynode=1, colsample_bytree=1, gamma=0,\n",
            "              learning_rate=0.1, max_delta_step=0, max_depth=3,\n",
            "              min_child_weight=1, missing=None, n_estimators=100, n_jobs=1,\n",
            "              nthread=None, objective='binary:logistic', random_state=42,\n",
            "              reg_alpha=0, reg_lambda=1, scale_pos_weight=1, seed=None,\n",
            "              silent=None, subsample=1, verbosity=1)\n",
            "Train Accuracy: 0.632915850994913 \n",
            "\n",
            "Test Accuracy: 63.21542861997678%\n",
            "\n",
            "              precision    recall  f1-score   support\n",
            "\n",
            "         0.0       0.64      0.61      0.62     70165\n",
            "         1.0       0.63      0.65      0.64     71079\n",
            "\n",
            "    accuracy                           0.63    141244\n",
            "   macro avg       0.63      0.63      0.63    141244\n",
            "weighted avg       0.63      0.63      0.63    141244\n",
            " \n",
            "\n"
          ],
          "name": "stdout"
        },
        {
          "output_type": "display_data",
          "data": {
            "image/png": "[encoded data removed]",
            "text/plain": [
              "<Figure size 576x396 with 2 Axes>"
            ]
          },
          "metadata": {
            "tags": [],
            "image/png": {
              "width": 460,
              "height": 329
            }
          }
        }
      ]
    },
    {
      "cell_type": "code",
      "metadata": {
        "id": "czH6qoD_2jsC"
      },
      "source": [
        "!pip3 install catboost\n",
        "from catboost import CatBoostClassifier, Pool\n",
        "\n",
        "print(final_df.info(),\"\\n\")\n",
        "category_cols = list(final_df.select_dtypes('category').columns)\n",
        "final_df[category_cols].head(10)\n",
        "print(category_cols,\"\\n\")\n",
        "columns = list(final_df.columns)\n",
        "del columns[-1]\n",
        "columns\n",
        "cb_train = pd.DataFrame(xtrain, columns = columns)\n",
        "cb_test = pd.DataFrame(xtest, columns=columns)\n",
        "cb_train[category_cols] = cb_train[category_cols].astype(np.int8)\n",
        "cb_train[category_cols] = cb_train[category_cols].astype('category')\n",
        "cb_test[category_cols] = cb_test[category_cols].astype(np.int8)\n",
        "cb_test[category_cols] = cb_test[category_cols].astype('category')\n",
        "print(cb_test.info(),\"\\n\")\n",
        "cb_ytrain = ytrain.astype('int8')\n",
        "cb_ytest = ytest.astype('int8')\n",
        "train_data = Pool(cb_train, cb_ytrain, cat_features=category_cols)\n",
        "test_data = Pool(cb_test, cb_ytest, cat_features=category_cols)\n",
        "def train_and_predict(clf, train, test, labels=None):\n",
        "  clf.fit(train, labels)\n",
        "  y_pred = clf.predict(test)\n",
        "  return y_pred\n",
        "\n",
        "def plot_results(y_pred, test, labels, clf):\n",
        "  print('Confusion Matrix:\\n')\n",
        "  clf_cm = confusion_matrix(labels, y_pred)\n",
        "  clf_hm = sns.heatmap(clf_cm,annot=True,fmt='g',cmap=\"Blues\")\n",
        "  print('Classification Report:\\n')\n",
        "  class_report = classification_report(labels, y_pred)\n",
        "  print(class_report)\n",
        "cb_clf = CatBoostClassifier(random_seed=1,task_type='GPU',depth=10, eval_metric='Accuracy',learning_rate=0.05)\n",
        "cb_clf_pred = train_and_predict(cb_clf, train_data, test_data)\n",
        "plot_results(y_pred=cb_clf_pred, test=cb_test, labels=cb_ytest, clf=cb_clf)"
      ],
      "execution_count": null,
      "outputs": []
    },
    {
      "cell_type": "markdown",
      "metadata": {
        "id": "L2PVwdgbusXg"
      },
      "source": [
        "## NearMiss: Balancing the dataset"
      ]
    },
    {
      "cell_type": "markdown",
      "metadata": {
        "id": "GOffzt6_uyJA"
      },
      "source": [
        "### Implementing Logistic Regression, Linear SVM, Random Forest, XGBoost Classification, CatBoost Classification."
      ]
    },
    {
      "cell_type": "code",
      "metadata": {
        "id": "SkL2QcxvKzQ1"
      },
      "source": [
        "X.drop('client_id', axis=1, inplace=True)"
      ],
      "execution_count": null,
      "outputs": []
    },
    {
      "cell_type": "code",
      "metadata": {
        "colab": {
          "base_uri": "https://localhost:8080/"
        },
        "id": "HDF5sRQHKp9h",
        "outputId": "cabf2f4b-98e3-43ac-f09d-21018fc9840a"
      },
      "source": [
        "from imblearn.under_sampling import NearMiss\n",
        "\n",
        "nm = NearMiss()\n",
        "x_nm, y_nm = nm.fit_resample(X, y)\n",
        "print('Original dataset shape:', Counter(y))\n",
        "print('Resample dataset shape:', Counter(y_nm))"
      ],
      "execution_count": null,
      "outputs": [
        {
          "output_type": "stream",
          "text": [
            "/usr/local/lib/python3.7/dist-packages/sklearn/utils/deprecation.py:87: FutureWarning: Function safe_indexing is deprecated; safe_indexing is deprecated in version 0.22 and will be removed in version 0.24.\n",
            "  warnings.warn(msg, category=FutureWarning)\n",
            "/usr/local/lib/python3.7/dist-packages/sklearn/utils/deprecation.py:87: FutureWarning: Function safe_indexing is deprecated; safe_indexing is deprecated in version 0.22 and will be removed in version 0.24.\n",
            "  warnings.warn(msg, category=FutureWarning)\n",
            "/usr/local/lib/python3.7/dist-packages/sklearn/utils/deprecation.py:87: FutureWarning: Function safe_indexing is deprecated; safe_indexing is deprecated in version 0.22 and will be removed in version 0.24.\n",
            "  warnings.warn(msg, category=FutureWarning)\n"
          ],
          "name": "stderr"
        },
        {
          "output_type": "stream",
          "text": [
            "Original dataset shape: Counter({0.0: 4123629, 1.0: 353109})\n",
            "Resample dataset shape: Counter({0.0: 353109, 1.0: 353109})\n"
          ],
          "name": "stdout"
        }
      ]
    },
    {
      "cell_type": "code",
      "metadata": {
        "colab": {
          "base_uri": "https://localhost:8080/",
          "height": 446
        },
        "id": "L7x2QV3lK5AW",
        "outputId": "3eac9b69-e6cf-46d4-e9c3-ecfb52493bb8"
      },
      "source": [
        "sns.countplot(y).set_title('Before Near Miss:')"
      ],
      "execution_count": null,
      "outputs": [
        {
          "output_type": "stream",
          "text": [
            "/usr/local/lib/python3.7/dist-packages/seaborn/_decorators.py:43: FutureWarning: Pass the following variable as a keyword arg: x. From version 0.12, the only valid positional argument will be `data`, and passing other arguments without an explicit keyword will result in an error or misinterpretation.\n",
            "  FutureWarning\n"
          ],
          "name": "stderr"
        },
        {
          "output_type": "execute_result",
          "data": {
            "text/plain": [
              "Text(0.5, 1.0, 'Before Near Miss:')"
            ]
          },
          "metadata": {
            "tags": []
          },
          "execution_count": 61
        },
        {
          "output_type": "display_data",
          "data": {
            "image/png": "[encoded data removed]",
            "text/plain": [
              "<Figure size 576x396 with 1 Axes>"
            ]
          },
          "metadata": {
            "tags": [],
            "image/png": {
              "width": 496,
              "height": 358
            }
          }
        }
      ]
    },
    {
      "cell_type": "code",
      "metadata": {
        "colab": {
          "base_uri": "https://localhost:8080/",
          "height": 432
        },
        "id": "ETG4eWq1LbZZ",
        "outputId": "c4ddfb95-5aff-45f5-aa4d-d40a7ea8eda9"
      },
      "source": [
        "sns.countplot(y_nm).set_title('After applying Near Miss:')"
      ],
      "execution_count": null,
      "outputs": [
        {
          "output_type": "stream",
          "text": [
            "/usr/local/lib/python3.7/dist-packages/seaborn/_decorators.py:43: FutureWarning: Pass the following variable as a keyword arg: x. From version 0.12, the only valid positional argument will be `data`, and passing other arguments without an explicit keyword will result in an error or misinterpretation.\n",
            "  FutureWarning\n"
          ],
          "name": "stderr"
        },
        {
          "output_type": "execute_result",
          "data": {
            "text/plain": [
              "Text(0.5, 1.0, 'After applying Near Miss:')"
            ]
          },
          "metadata": {
            "tags": []
          },
          "execution_count": 62
        },
        {
          "output_type": "display_data",
          "data": {
            "image/png": "[encoded data removed]",
            "text/plain": [
              "<Figure size 576x396 with 1 Axes>"
            ]
          },
          "metadata": {
            "tags": [],
            "image/png": {
              "width": 515,
              "height": 344
            }
          }
        }
      ]
    },
    {
      "cell_type": "code",
      "metadata": {
        "colab": {
          "base_uri": "https://localhost:8080/",
          "height": 224
        },
        "id": "M7_Nnb06KquP",
        "outputId": "ca908ba5-ab0f-4da3-8c3d-da09e8b6d09f"
      },
      "source": [
        "X.head()"
      ],
      "execution_count": null,
      "outputs": [
        {
          "output_type": "execute_result",
          "data": {
            "text/html": [
              "<div>\n",
              "<style scoped>\n",
              "    .dataframe tbody tr th:only-of-type {\n",
              "        vertical-align: middle;\n",
              "    }\n",
              "\n",
              "    .dataframe tbody tr th {\n",
              "        vertical-align: top;\n",
              "    }\n",
              "\n",
              "    .dataframe thead th {\n",
              "        text-align: right;\n",
              "    }\n",
              "</style>\n",
              "<table border=\"1\" class=\"dataframe\">\n",
              "  <thead>\n",
              "    <tr style=\"text-align: right;\">\n",
              "      <th></th>\n",
              "      <th>client_id</th>\n",
              "      <th>tarif_type</th>\n",
              "      <th>counter_number</th>\n",
              "      <th>counter_statue</th>\n",
              "      <th>counter_code</th>\n",
              "      <th>reading_remarque</th>\n",
              "      <th>counter_coefficient</th>\n",
              "      <th>consommation_level_1</th>\n",
              "      <th>consommation_level_2</th>\n",
              "      <th>consommation_level_3</th>\n",
              "      <th>consommation_level_4</th>\n",
              "      <th>old_index</th>\n",
              "      <th>new_index</th>\n",
              "      <th>months_number</th>\n",
              "      <th>counter_type</th>\n",
              "      <th>disrict</th>\n",
              "      <th>client_catg</th>\n",
              "      <th>region</th>\n",
              "      <th>creation_month</th>\n",
              "      <th>creation_year</th>\n",
              "      <th>acc_creation_time</th>\n",
              "      <th>invoice_month</th>\n",
              "      <th>invoice_year</th>\n",
              "      <th>change_in_index</th>\n",
              "      <th>delta_time</th>\n",
              "      <th>consommation_levels_mean</th>\n",
              "    </tr>\n",
              "  </thead>\n",
              "  <tbody>\n",
              "    <tr>\n",
              "      <th>0</th>\n",
              "      <td>train_Client_0</td>\n",
              "      <td>11</td>\n",
              "      <td>1335667</td>\n",
              "      <td>0</td>\n",
              "      <td>203</td>\n",
              "      <td>8</td>\n",
              "      <td>1</td>\n",
              "      <td>82</td>\n",
              "      <td>0</td>\n",
              "      <td>0</td>\n",
              "      <td>0</td>\n",
              "      <td>14302</td>\n",
              "      <td>14384</td>\n",
              "      <td>4</td>\n",
              "      <td>0</td>\n",
              "      <td>60</td>\n",
              "      <td>11</td>\n",
              "      <td>101</td>\n",
              "      <td>12</td>\n",
              "      <td>1994</td>\n",
              "      <td>288</td>\n",
              "      <td>3</td>\n",
              "      <td>2014</td>\n",
              "      <td>82</td>\n",
              "      <td>130.0</td>\n",
              "      <td>20.50</td>\n",
              "    </tr>\n",
              "    <tr>\n",
              "      <th>1</th>\n",
              "      <td>train_Client_0</td>\n",
              "      <td>11</td>\n",
              "      <td>1335667</td>\n",
              "      <td>0</td>\n",
              "      <td>203</td>\n",
              "      <td>6</td>\n",
              "      <td>1</td>\n",
              "      <td>1200</td>\n",
              "      <td>184</td>\n",
              "      <td>0</td>\n",
              "      <td>0</td>\n",
              "      <td>12294</td>\n",
              "      <td>13678</td>\n",
              "      <td>4</td>\n",
              "      <td>0</td>\n",
              "      <td>60</td>\n",
              "      <td>11</td>\n",
              "      <td>101</td>\n",
              "      <td>12</td>\n",
              "      <td>1994</td>\n",
              "      <td>288</td>\n",
              "      <td>3</td>\n",
              "      <td>2013</td>\n",
              "      <td>1384</td>\n",
              "      <td>130.0</td>\n",
              "      <td>346.00</td>\n",
              "    </tr>\n",
              "    <tr>\n",
              "      <th>2</th>\n",
              "      <td>train_Client_0</td>\n",
              "      <td>11</td>\n",
              "      <td>1335667</td>\n",
              "      <td>0</td>\n",
              "      <td>203</td>\n",
              "      <td>8</td>\n",
              "      <td>1</td>\n",
              "      <td>123</td>\n",
              "      <td>0</td>\n",
              "      <td>0</td>\n",
              "      <td>0</td>\n",
              "      <td>14624</td>\n",
              "      <td>14747</td>\n",
              "      <td>4</td>\n",
              "      <td>0</td>\n",
              "      <td>60</td>\n",
              "      <td>11</td>\n",
              "      <td>101</td>\n",
              "      <td>12</td>\n",
              "      <td>1994</td>\n",
              "      <td>288</td>\n",
              "      <td>3</td>\n",
              "      <td>2015</td>\n",
              "      <td>123</td>\n",
              "      <td>119.0</td>\n",
              "      <td>30.75</td>\n",
              "    </tr>\n",
              "    <tr>\n",
              "      <th>3</th>\n",
              "      <td>train_Client_0</td>\n",
              "      <td>11</td>\n",
              "      <td>1335667</td>\n",
              "      <td>0</td>\n",
              "      <td>207</td>\n",
              "      <td>8</td>\n",
              "      <td>1</td>\n",
              "      <td>102</td>\n",
              "      <td>0</td>\n",
              "      <td>0</td>\n",
              "      <td>0</td>\n",
              "      <td>14747</td>\n",
              "      <td>14849</td>\n",
              "      <td>4</td>\n",
              "      <td>0</td>\n",
              "      <td>60</td>\n",
              "      <td>11</td>\n",
              "      <td>101</td>\n",
              "      <td>12</td>\n",
              "      <td>1994</td>\n",
              "      <td>288</td>\n",
              "      <td>7</td>\n",
              "      <td>2015</td>\n",
              "      <td>102</td>\n",
              "      <td>117.0</td>\n",
              "      <td>25.50</td>\n",
              "    </tr>\n",
              "    <tr>\n",
              "      <th>4</th>\n",
              "      <td>train_Client_0</td>\n",
              "      <td>11</td>\n",
              "      <td>1335667</td>\n",
              "      <td>0</td>\n",
              "      <td>207</td>\n",
              "      <td>9</td>\n",
              "      <td>1</td>\n",
              "      <td>572</td>\n",
              "      <td>0</td>\n",
              "      <td>0</td>\n",
              "      <td>0</td>\n",
              "      <td>15066</td>\n",
              "      <td>15638</td>\n",
              "      <td>12</td>\n",
              "      <td>0</td>\n",
              "      <td>60</td>\n",
              "      <td>11</td>\n",
              "      <td>101</td>\n",
              "      <td>12</td>\n",
              "      <td>1994</td>\n",
              "      <td>288</td>\n",
              "      <td>11</td>\n",
              "      <td>2016</td>\n",
              "      <td>572</td>\n",
              "      <td>131.0</td>\n",
              "      <td>143.00</td>\n",
              "    </tr>\n",
              "  </tbody>\n",
              "</table>\n",
              "</div>"
            ],
            "text/plain": [
              "        client_id tarif_type  ...  delta_time consommation_levels_mean\n",
              "0  train_Client_0         11  ...       130.0                    20.50\n",
              "1  train_Client_0         11  ...       130.0                   346.00\n",
              "2  train_Client_0         11  ...       119.0                    30.75\n",
              "3  train_Client_0         11  ...       117.0                    25.50\n",
              "4  train_Client_0         11  ...       131.0                   143.00\n",
              "\n",
              "[5 rows x 26 columns]"
            ]
          },
          "metadata": {
            "tags": []
          },
          "execution_count": 58
        }
      ]
    },
    {
      "cell_type": "code",
      "metadata": {
        "id": "IpfRTgi_5YjW",
        "colab": {
          "base_uri": "https://localhost:8080/",
          "height": 1000
        },
        "outputId": "715ba08d-6d45-4f38-cf06-e4e21bb71127"
      },
      "source": [
        "from imblearn.under_sampling import NearMiss\n",
        "\n",
        "nm = NearMiss()\n",
        "x_nm, y_nm = nm.fit_resample(X, y)\n",
        "print('Original dataset shape:', Counter(y))\n",
        "print('Resample dataset shape:', Counter(y_nm))\n",
        "\n",
        "X_train, X_test, y_train, y_test = train_test_split(x_nm, y_nm, random_state=1, test_size=0.2)\n",
        "scaler = StandardScaler()\n",
        "X_train = scaler.fit_transform(X_train)\n",
        "X_test = scaler.transform(X_test)\n",
        "def model(clf):\n",
        "  clf.fit(X_train, y_train)\n",
        "  print(\"Train Accuracy:\", clf.score(X_train, y_train),\"\\n\")\n",
        "  y_pred_nm = clf.predict(X_test)\n",
        "  return y_pred_nm\n",
        "lr = LogisticRegression(random_state=1,max_iter=100)\n",
        "svc = LinearSVC(random_state=1)\n",
        "rfc = RandomForestClassifier(n_estimators=200,random_state=1)\n",
        "xgb_c = xgb.XGBClassifier(objective=\"binary:logistic\", random_state=42)\n",
        "models = [lr,svc,rfc,xgb_c]\n",
        "\n",
        "for i in range(len(models)):\n",
        "    print(models[i])\n",
        "    y_pred_nm = model(models[i])\n",
        "    print(classification_report(y_test, y_pred_nm),\"\\n\")\n",
        "    acc = accuracy_score(y_test, y_pred_nm)*100\n",
        "    print(f\"Test Accuracy: {acc}%\")\n",
        "    cm = confusion_matrix(y_test, y_pred_nm)\n",
        "    g = sns.heatmap(cm, annot=True, fmt='g')\n",
        "    plt.show()\n",
        "    print()\n",
        "    "
      ],
      "execution_count": null,
      "outputs": [
        {
          "output_type": "stream",
          "text": [
            "/usr/local/lib/python3.7/dist-packages/sklearn/utils/deprecation.py:87: FutureWarning: Function safe_indexing is deprecated; safe_indexing is deprecated in version 0.22 and will be removed in version 0.24.\n",
            "  warnings.warn(msg, category=FutureWarning)\n",
            "/usr/local/lib/python3.7/dist-packages/sklearn/utils/deprecation.py:87: FutureWarning: Function safe_indexing is deprecated; safe_indexing is deprecated in version 0.22 and will be removed in version 0.24.\n",
            "  warnings.warn(msg, category=FutureWarning)\n",
            "/usr/local/lib/python3.7/dist-packages/sklearn/utils/deprecation.py:87: FutureWarning: Function safe_indexing is deprecated; safe_indexing is deprecated in version 0.22 and will be removed in version 0.24.\n",
            "  warnings.warn(msg, category=FutureWarning)\n"
          ],
          "name": "stderr"
        },
        {
          "output_type": "stream",
          "text": [
            "Original dataset shape: Counter({0.0: 4123629, 1.0: 353109})\n",
            "Resample dataset shape: Counter({0.0: 353109, 1.0: 353109})\n",
            "LogisticRegression(C=1.0, class_weight=None, dual=False, fit_intercept=True,\n",
            "                   intercept_scaling=1, l1_ratio=None, max_iter=100,\n",
            "                   multi_class='auto', n_jobs=None, penalty='l2',\n",
            "                   random_state=1, solver='lbfgs', tol=0.0001, verbose=0,\n",
            "                   warm_start=False)\n"
          ],
          "name": "stdout"
        },
        {
          "output_type": "stream",
          "text": [
            "/usr/local/lib/python3.7/dist-packages/sklearn/linear_model/_logistic.py:940: ConvergenceWarning: lbfgs failed to converge (status=1):\n",
            "STOP: TOTAL NO. of ITERATIONS REACHED LIMIT.\n",
            "\n",
            "Increase the number of iterations (max_iter) or scale the data as shown in:\n",
            "    https://scikit-learn.org/stable/modules/preprocessing.html\n",
            "Please also refer to the documentation for alternative solver options:\n",
            "    https://scikit-learn.org/stable/modules/linear_model.html#logistic-regression\n",
            "  extra_warning_msg=_LOGISTIC_SOLVER_CONVERGENCE_MSG)\n"
          ],
          "name": "stderr"
        },
        {
          "output_type": "stream",
          "text": [
            "Train Accuracy: 0.8554942351329442 \n",
            "\n",
            "              precision    recall  f1-score   support\n",
            "\n",
            "         0.0       0.80      0.95      0.87     70165\n",
            "         1.0       0.94      0.76      0.84     71079\n",
            "\n",
            "    accuracy                           0.85    141244\n",
            "   macro avg       0.87      0.86      0.85    141244\n",
            "weighted avg       0.87      0.85      0.85    141244\n",
            " \n",
            "\n",
            "Test Accuracy: 85.45495737872051%\n"
          ],
          "name": "stdout"
        },
        {
          "output_type": "display_data",
          "data": {
            "image/png": "[encoded data removed]",
            "text/plain": [
              "<Figure size 576x396 with 2 Axes>"
            ]
          },
          "metadata": {
            "tags": [],
            "image/png": {
              "width": 460,
              "height": 329
            }
          }
        },
        {
          "output_type": "stream",
          "text": [
            "\n",
            "LinearSVC(C=1.0, class_weight=None, dual=True, fit_intercept=True,\n",
            "          intercept_scaling=1, loss='squared_hinge', max_iter=1000,\n",
            "          multi_class='ovr', penalty='l2', random_state=1, tol=0.0001,\n",
            "          verbose=0)\n"
          ],
          "name": "stdout"
        },
        {
          "output_type": "stream",
          "text": [
            "/usr/local/lib/python3.7/dist-packages/sklearn/svm/_base.py:947: ConvergenceWarning: Liblinear failed to converge, increase the number of iterations.\n",
            "  \"the number of iterations.\", ConvergenceWarning)\n"
          ],
          "name": "stderr"
        },
        {
          "output_type": "stream",
          "text": [
            "Train Accuracy: 0.8526533964394821 \n",
            "\n",
            "              precision    recall  f1-score   support\n",
            "\n",
            "         0.0       0.79      0.96      0.87     70165\n",
            "         1.0       0.95      0.75      0.84     71079\n",
            "\n",
            "    accuracy                           0.85    141244\n",
            "   macro avg       0.87      0.85      0.85    141244\n",
            "weighted avg       0.87      0.85      0.85    141244\n",
            " \n",
            "\n",
            "Test Accuracy: 85.20149528475545%\n"
          ],
          "name": "stdout"
        },
        {
          "output_type": "display_data",
          "data": {
            "image/png": "[encoded data removed]",
            "text/plain": [
              "<Figure size 576x396 with 2 Axes>"
            ]
          },
          "metadata": {
            "tags": [],
            "image/png": {
              "width": 460,
              "height": 329
            }
          }
        },
        {
          "output_type": "stream",
          "text": [
            "\n",
            "RandomForestClassifier(bootstrap=True, ccp_alpha=0.0, class_weight=None,\n",
            "                       criterion='gini', max_depth=None, max_features='auto',\n",
            "                       max_leaf_nodes=None, max_samples=None,\n",
            "                       min_impurity_decrease=0.0, min_impurity_split=None,\n",
            "                       min_samples_leaf=1, min_samples_split=2,\n",
            "                       min_weight_fraction_leaf=0.0, n_estimators=200,\n",
            "                       n_jobs=None, oob_score=False, random_state=1, verbose=0,\n",
            "                       warm_start=False)\n",
            "Train Accuracy: 0.9966600232931073 \n",
            "\n",
            "              precision    recall  f1-score   support\n",
            "\n",
            "         0.0       0.86      0.94      0.90     70165\n",
            "         1.0       0.94      0.85      0.89     71079\n",
            "\n",
            "    accuracy                           0.90    141244\n",
            "   macro avg       0.90      0.90      0.90    141244\n",
            "weighted avg       0.90      0.90      0.90    141244\n",
            " \n",
            "\n",
            "Test Accuracy: 89.5230947863272%\n"
          ],
          "name": "stdout"
        },
        {
          "output_type": "display_data",
          "data": {
            "image/png": "[encoded data removed]",
            "text/plain": [
              "<Figure size 576x396 with 2 Axes>"
            ]
          },
          "metadata": {
            "tags": [],
            "image/png": {
              "width": 460,
              "height": 329
            }
          }
        },
        {
          "output_type": "stream",
          "text": [
            "\n",
            "XGBClassifier(base_score=0.5, booster='gbtree', colsample_bylevel=1,\n",
            "              colsample_bynode=1, colsample_bytree=1, gamma=0,\n",
            "              learning_rate=0.1, max_delta_step=0, max_depth=3,\n",
            "              min_child_weight=1, missing=None, n_estimators=100, n_jobs=1,\n",
            "              nthread=None, objective='binary:logistic', random_state=42,\n",
            "              reg_alpha=0, reg_lambda=1, scale_pos_weight=1, seed=None,\n",
            "              silent=None, subsample=1, verbosity=1)\n",
            "Train Accuracy: 0.857147408553314 \n",
            "\n",
            "              precision    recall  f1-score   support\n",
            "\n",
            "         0.0       0.80      0.95      0.87     70165\n",
            "         1.0       0.94      0.77      0.84     71079\n",
            "\n",
            "    accuracy                           0.86    141244\n",
            "   macro avg       0.87      0.86      0.86    141244\n",
            "weighted avg       0.87      0.86      0.86    141244\n",
            " \n",
            "\n",
            "Test Accuracy: 85.61921214352468%\n"
          ],
          "name": "stdout"
        },
        {
          "output_type": "display_data",
          "data": {
            "image/png": "[encoded data removed]",
            "text/plain": [
              "<Figure size 576x396 with 2 Axes>"
            ]
          },
          "metadata": {
            "tags": [],
            "image/png": {
              "width": 460,
              "height": 329
            }
          }
        },
        {
          "output_type": "stream",
          "text": [
            "\n"
          ],
          "name": "stdout"
        }
      ]
    },
    {
      "cell_type": "code",
      "metadata": {
        "id": "gomYo9pB4z5l",
        "colab": {
          "base_uri": "https://localhost:8080/",
          "height": 1000
        },
        "outputId": "09feed1e-6245-4e4e-97bf-2a3f5bf85741"
      },
      "source": [
        "from catboost import CatBoostClassifier, Pool\n",
        "\n",
        "print(final_df.info(),\"\\n\")\n",
        "category_cols_1 = list(final_df.select_dtypes('category').columns)\n",
        "final_df[category_cols_1].head(10)\n",
        "print(category_cols_1,\"\\n\")\n",
        "columns_1 = list(final_df.columns)\n",
        "del columns_1[-1]\n",
        "print(columns_1)\n",
        "cb_train = pd.DataFrame(X_train, columns = columns_1)\n",
        "cb_test = pd.DataFrame(X_test, columns=columns)\n",
        "cb_train[category_cols] = cb_train[category_cols].astype(np.int8)\n",
        "cb_train[category_cols] = cb_train[category_cols].astype('category')\n",
        "cb_test[category_cols] = cb_test[category_cols].astype(np.int8)\n",
        "cb_test[category_cols] = cb_test[category_cols].astype('category')\n",
        "print(cb_test.info(),\"\\n\")\n",
        "cb_ytrain = y_train.astype('int8')\n",
        "cb_ytest = y_test.astype('int8')\n",
        "train_data = Pool(cb_train, cb_ytrain, cat_features=category_cols_1)\n",
        "test_data = Pool(cb_test, cb_ytest, cat_features=category_cols_1)\n",
        "def train_and_predict(clf, train, test, labels=None):\n",
        "  clf.fit(train, labels)\n",
        "  y_pred = clf.predict(test)\n",
        "  return y_pred\n",
        "\n",
        "def plot_results(y_pred, test, labels, clf):\n",
        "  print('Confusion Matrix:\\n')\n",
        "  clf_cm = confusion_matrix(labels, y_pred)\n",
        "  clf_hm = sns.heatmap(clf_cm,annot=True,fmt='g',cmap=\"Blues\")\n",
        "  print('Classification Report:\\n')\n",
        "  class_report = classification_report(labels, y_pred)\n",
        "  print(class_report)\n",
        "cb_clf = CatBoostClassifier(random_seed=1,task_type='GPU',depth=10, eval_metric='Accuracy',learning_rate=0.05)\n",
        "cb_clf_pred = train_and_predict(cb_clf, train_data, test_data)\n",
        "plot_results(y_pred=cb_clf_pred, test=cb_test, labels=cb_ytest, clf=cb_clf)"
      ],
      "execution_count": null,
      "outputs": [
        {
          "output_type": "stream",
          "text": [
            "<class 'pandas.core.frame.DataFrame'>\n",
            "Int64Index: 4476738 entries, 0 to 4476737\n",
            "Data columns (total 21 columns):\n",
            " #   Column                    Dtype   \n",
            "---  ------                    -----   \n",
            " 0   tarif_type                category\n",
            " 1   counter_number            int64   \n",
            " 2   counter_statue            category\n",
            " 3   reading_remarque          category\n",
            " 4   counter_coefficient       category\n",
            " 5   consommation_level_1      int64   \n",
            " 6   consommation_level_2      int64   \n",
            " 7   consommation_level_3      int64   \n",
            " 8   consommation_level_4      int64   \n",
            " 9   old_index                 int64   \n",
            " 10  counter_type              category\n",
            " 11  disrict                   category\n",
            " 12  client_catg               category\n",
            " 13  region                    int64   \n",
            " 14  creation_year             int64   \n",
            " 15  acc_creation_time         int64   \n",
            " 16  invoice_month             int64   \n",
            " 17  change_in_index           int64   \n",
            " 18  delta_time                float64 \n",
            " 19  consommation_levels_mean  float64 \n",
            " 20  target                    float64 \n",
            "dtypes: category(7), float64(3), int64(11)\n",
            "memory usage: 542.2 MB\n",
            "None \n",
            "\n",
            "['tarif_type', 'counter_statue', 'reading_remarque', 'counter_coefficient', 'counter_type', 'disrict', 'client_catg'] \n",
            "\n",
            "['tarif_type', 'counter_number', 'counter_statue', 'reading_remarque', 'counter_coefficient', 'consommation_level_1', 'consommation_level_2', 'consommation_level_3', 'consommation_level_4', 'old_index', 'counter_type', 'disrict', 'client_catg', 'region', 'creation_year', 'acc_creation_time', 'invoice_month', 'change_in_index', 'delta_time', 'consommation_levels_mean']\n",
            "<class 'pandas.core.frame.DataFrame'>\n",
            "RangeIndex: 141244 entries, 0 to 141243\n",
            "Data columns (total 20 columns):\n",
            " #   Column                    Non-Null Count   Dtype   \n",
            "---  ------                    --------------   -----   \n",
            " 0   tarif_type                141244 non-null  category\n",
            " 1   counter_number            141244 non-null  float64 \n",
            " 2   counter_statue            141244 non-null  category\n",
            " 3   reading_remarque          141244 non-null  category\n",
            " 4   counter_coefficient       141244 non-null  category\n",
            " 5   consommation_level_1      141244 non-null  float64 \n",
            " 6   consommation_level_2      141244 non-null  float64 \n",
            " 7   consommation_level_3      141244 non-null  float64 \n",
            " 8   consommation_level_4      141244 non-null  float64 \n",
            " 9   old_index                 141244 non-null  float64 \n",
            " 10  counter_type              141244 non-null  category\n",
            " 11  disrict                   141244 non-null  category\n",
            " 12  client_catg               141244 non-null  category\n",
            " 13  region                    141244 non-null  float64 \n",
            " 14  creation_year             141244 non-null  float64 \n",
            " 15  acc_creation_time         141244 non-null  float64 \n",
            " 16  invoice_month             141244 non-null  float64 \n",
            " 17  change_in_index           141244 non-null  float64 \n",
            " 18  delta_time                141244 non-null  float64 \n",
            " 19  consommation_levels_mean  141244 non-null  float64 \n",
            "dtypes: category(7), float64(13)\n",
            "memory usage: 15.0 MB\n",
            "None \n",
            "\n",
            "0:\tlearn: 0.7935427\ttotal: 103ms\tremaining: 1m 42s\n",
            "1:\tlearn: 0.7935427\ttotal: 197ms\tremaining: 1m 38s\n",
            "2:\tlearn: 0.7935516\ttotal: 292ms\tremaining: 1m 37s\n",
            "3:\tlearn: 0.7935498\ttotal: 385ms\tremaining: 1m 35s\n",
            "4:\tlearn: 0.7935445\ttotal: 479ms\tremaining: 1m 35s\n",
            "5:\tlearn: 0.7935463\ttotal: 573ms\tremaining: 1m 34s\n",
            "6:\tlearn: 0.7940489\ttotal: 674ms\tremaining: 1m 35s\n",
            "7:\tlearn: 0.8153083\ttotal: 776ms\tremaining: 1m 36s\n",
            "8:\tlearn: 0.8155083\ttotal: 876ms\tremaining: 1m 36s\n",
            "9:\tlearn: 0.8162871\ttotal: 976ms\tremaining: 1m 36s\n",
            "10:\tlearn: 0.8201917\ttotal: 1.08s\tremaining: 1m 36s\n",
            "11:\tlearn: 0.8214856\ttotal: 1.18s\tremaining: 1m 37s\n",
            "12:\tlearn: 0.8215175\ttotal: 1.27s\tremaining: 1m 36s\n",
            "13:\tlearn: 0.8223175\ttotal: 1.37s\tremaining: 1m 36s\n",
            "14:\tlearn: 0.8223989\ttotal: 1.47s\tremaining: 1m 36s\n",
            "15:\tlearn: 0.8229742\ttotal: 1.57s\tremaining: 1m 36s\n",
            "16:\tlearn: 0.8230096\ttotal: 1.67s\tremaining: 1m 36s\n",
            "17:\tlearn: 0.8226963\ttotal: 1.77s\tremaining: 1m 36s\n",
            "18:\tlearn: 0.8293444\ttotal: 1.87s\tremaining: 1m 36s\n",
            "19:\tlearn: 0.8294116\ttotal: 1.97s\tremaining: 1m 36s\n",
            "20:\tlearn: 0.8294187\ttotal: 2.06s\tremaining: 1m 36s\n",
            "21:\tlearn: 0.8295957\ttotal: 2.16s\tremaining: 1m 36s\n",
            "22:\tlearn: 0.8295975\ttotal: 2.26s\tremaining: 1m 36s\n",
            "23:\tlearn: 0.8300594\ttotal: 2.36s\tremaining: 1m 36s\n",
            "24:\tlearn: 0.8300718\ttotal: 2.46s\tremaining: 1m 35s\n",
            "25:\tlearn: 0.8300701\ttotal: 2.56s\tremaining: 1m 35s\n",
            "26:\tlearn: 0.8300718\ttotal: 2.66s\tremaining: 1m 35s\n",
            "27:\tlearn: 0.8303975\ttotal: 2.76s\tremaining: 1m 35s\n",
            "28:\tlearn: 0.8304648\ttotal: 2.86s\tremaining: 1m 35s\n",
            "29:\tlearn: 0.8311055\ttotal: 2.96s\tremaining: 1m 35s\n",
            "30:\tlearn: 0.8364987\ttotal: 3.06s\tremaining: 1m 35s\n",
            "31:\tlearn: 0.8366173\ttotal: 3.16s\tremaining: 1m 35s\n",
            "32:\tlearn: 0.8365677\ttotal: 3.26s\tremaining: 1m 35s\n",
            "33:\tlearn: 0.8366863\ttotal: 3.36s\tremaining: 1m 35s\n",
            "34:\tlearn: 0.8376226\ttotal: 3.46s\tremaining: 1m 35s\n",
            "35:\tlearn: 0.8376598\ttotal: 3.56s\tremaining: 1m 35s\n",
            "36:\tlearn: 0.8375111\ttotal: 3.66s\tremaining: 1m 35s\n",
            "37:\tlearn: 0.8385324\ttotal: 3.76s\tremaining: 1m 35s\n",
            "38:\tlearn: 0.8391165\ttotal: 3.86s\tremaining: 1m 35s\n",
            "39:\tlearn: 0.8399466\ttotal: 3.96s\tremaining: 1m 35s\n",
            "40:\tlearn: 0.8400953\ttotal: 4.06s\tremaining: 1m 35s\n",
            "41:\tlearn: 0.8470266\ttotal: 4.17s\tremaining: 1m 35s\n",
            "42:\tlearn: 0.8483382\ttotal: 4.27s\tremaining: 1m 35s\n",
            "43:\tlearn: 0.8489311\ttotal: 4.37s\tremaining: 1m 34s\n",
            "44:\tlearn: 0.8496515\ttotal: 4.47s\tremaining: 1m 34s\n",
            "45:\tlearn: 0.8501807\ttotal: 4.57s\tremaining: 1m 34s\n",
            "46:\tlearn: 0.8530322\ttotal: 4.67s\tremaining: 1m 34s\n",
            "47:\tlearn: 0.8509507\ttotal: 4.77s\tremaining: 1m 34s\n",
            "48:\tlearn: 0.8508392\ttotal: 4.87s\tremaining: 1m 34s\n",
            "49:\tlearn: 0.8513879\ttotal: 4.97s\tremaining: 1m 34s\n",
            "50:\tlearn: 0.8517719\ttotal: 5.08s\tremaining: 1m 34s\n",
            "51:\tlearn: 0.8533331\ttotal: 5.18s\tremaining: 1m 34s\n",
            "52:\tlearn: 0.8533685\ttotal: 5.28s\tremaining: 1m 34s\n",
            "53:\tlearn: 0.8535083\ttotal: 5.38s\tremaining: 1m 34s\n",
            "54:\tlearn: 0.8541437\ttotal: 5.48s\tremaining: 1m 34s\n",
            "55:\tlearn: 0.8536552\ttotal: 5.58s\tremaining: 1m 34s\n",
            "56:\tlearn: 0.8543915\ttotal: 5.68s\tremaining: 1m 34s\n",
            "57:\tlearn: 0.8538375\ttotal: 5.78s\tremaining: 1m 33s\n",
            "58:\tlearn: 0.8544393\ttotal: 5.89s\tremaining: 1m 33s\n",
            "59:\tlearn: 0.8549154\ttotal: 5.99s\tremaining: 1m 33s\n",
            "60:\tlearn: 0.8550677\ttotal: 6.09s\tremaining: 1m 33s\n",
            "61:\tlearn: 0.8551774\ttotal: 6.2s\tremaining: 1m 33s\n",
            "62:\tlearn: 0.8552429\ttotal: 6.3s\tremaining: 1m 33s\n",
            "63:\tlearn: 0.8553792\ttotal: 6.4s\tremaining: 1m 33s\n",
            "64:\tlearn: 0.8555827\ttotal: 6.51s\tremaining: 1m 33s\n",
            "65:\tlearn: 0.8556411\ttotal: 6.61s\tremaining: 1m 33s\n",
            "66:\tlearn: 0.8557420\ttotal: 6.71s\tremaining: 1m 33s\n",
            "67:\tlearn: 0.8559668\ttotal: 6.82s\tremaining: 1m 33s\n",
            "68:\tlearn: 0.8560022\ttotal: 6.92s\tremaining: 1m 33s\n",
            "69:\tlearn: 0.8560783\ttotal: 7.02s\tremaining: 1m 33s\n",
            "70:\tlearn: 0.8561775\ttotal: 7.13s\tremaining: 1m 33s\n",
            "71:\tlearn: 0.8562394\ttotal: 7.22s\tremaining: 1m 33s\n",
            "72:\tlearn: 0.8566182\ttotal: 7.33s\tremaining: 1m 33s\n",
            "73:\tlearn: 0.8566447\ttotal: 7.43s\tremaining: 1m 32s\n",
            "74:\tlearn: 0.8565421\ttotal: 7.53s\tremaining: 1m 32s\n",
            "75:\tlearn: 0.8567757\ttotal: 7.63s\tremaining: 1m 32s\n",
            "76:\tlearn: 0.8567775\ttotal: 7.73s\tremaining: 1m 32s\n",
            "77:\tlearn: 0.8567651\ttotal: 7.83s\tremaining: 1m 32s\n",
            "78:\tlearn: 0.8569208\ttotal: 7.94s\tremaining: 1m 32s\n",
            "79:\tlearn: 0.8567580\ttotal: 8.04s\tremaining: 1m 32s\n",
            "80:\tlearn: 0.8568430\ttotal: 8.14s\tremaining: 1m 32s\n",
            "81:\tlearn: 0.8569368\ttotal: 8.24s\tremaining: 1m 32s\n",
            "82:\tlearn: 0.8570164\ttotal: 8.34s\tremaining: 1m 32s\n",
            "83:\tlearn: 0.8570182\ttotal: 8.44s\tremaining: 1m 32s\n",
            "84:\tlearn: 0.8571350\ttotal: 8.55s\tremaining: 1m 32s\n",
            "85:\tlearn: 0.8574200\ttotal: 8.65s\tremaining: 1m 31s\n",
            "86:\tlearn: 0.8574926\ttotal: 8.75s\tremaining: 1m 31s\n",
            "87:\tlearn: 0.8575580\ttotal: 8.85s\tremaining: 1m 31s\n",
            "88:\tlearn: 0.8576235\ttotal: 8.96s\tremaining: 1m 31s\n",
            "89:\tlearn: 0.8577032\ttotal: 9.06s\tremaining: 1m 31s\n",
            "90:\tlearn: 0.8577173\ttotal: 9.16s\tremaining: 1m 31s\n",
            "91:\tlearn: 0.8577722\ttotal: 9.26s\tremaining: 1m 31s\n",
            "92:\tlearn: 0.8577881\ttotal: 9.36s\tremaining: 1m 31s\n",
            "93:\tlearn: 0.8579935\ttotal: 9.46s\tremaining: 1m 31s\n",
            "94:\tlearn: 0.8580395\ttotal: 9.57s\tremaining: 1m 31s\n",
            "95:\tlearn: 0.8580944\ttotal: 9.67s\tremaining: 1m 31s\n",
            "96:\tlearn: 0.8581244\ttotal: 9.77s\tremaining: 1m 30s\n",
            "97:\tlearn: 0.8582395\ttotal: 9.87s\tremaining: 1m 30s\n",
            "98:\tlearn: 0.8582997\ttotal: 9.97s\tremaining: 1m 30s\n",
            "99:\tlearn: 0.8586519\ttotal: 10.1s\tremaining: 1m 30s\n",
            "100:\tlearn: 0.8587121\ttotal: 10.2s\tremaining: 1m 30s\n",
            "101:\tlearn: 0.8587758\ttotal: 10.3s\tremaining: 1m 30s\n",
            "102:\tlearn: 0.8588484\ttotal: 10.4s\tremaining: 1m 30s\n",
            "103:\tlearn: 0.8589528\ttotal: 10.5s\tremaining: 1m 30s\n",
            "104:\tlearn: 0.8589847\ttotal: 10.6s\tremaining: 1m 30s\n",
            "105:\tlearn: 0.8588767\ttotal: 10.7s\tremaining: 1m 30s\n",
            "106:\tlearn: 0.8590979\ttotal: 10.8s\tremaining: 1m 29s\n",
            "107:\tlearn: 0.8589086\ttotal: 10.9s\tremaining: 1m 29s\n",
            "108:\tlearn: 0.8589740\ttotal: 11s\tremaining: 1m 29s\n",
            "109:\tlearn: 0.8591935\ttotal: 11.1s\tremaining: 1m 29s\n",
            "110:\tlearn: 0.8591794\ttotal: 11.2s\tremaining: 1m 29s\n",
            "111:\tlearn: 0.8594130\ttotal: 11.3s\tremaining: 1m 29s\n",
            "112:\tlearn: 0.8594130\ttotal: 11.4s\tremaining: 1m 29s\n",
            "113:\tlearn: 0.8592165\ttotal: 11.5s\tremaining: 1m 29s\n",
            "114:\tlearn: 0.8594962\ttotal: 11.6s\tremaining: 1m 29s\n",
            "115:\tlearn: 0.8596944\ttotal: 11.7s\tremaining: 1m 29s\n",
            "116:\tlearn: 0.8596909\ttotal: 11.8s\tremaining: 1m 29s\n",
            "117:\tlearn: 0.8597210\ttotal: 11.9s\tremaining: 1m 28s\n",
            "118:\tlearn: 0.8598201\ttotal: 12s\tremaining: 1m 28s\n",
            "119:\tlearn: 0.8598803\ttotal: 12.1s\tremaining: 1m 28s\n",
            "120:\tlearn: 0.8598785\ttotal: 12.2s\tremaining: 1m 28s\n",
            "121:\tlearn: 0.8597458\ttotal: 12.3s\tremaining: 1m 28s\n",
            "122:\tlearn: 0.8597511\ttotal: 12.4s\tremaining: 1m 28s\n",
            "123:\tlearn: 0.8598166\ttotal: 12.5s\tremaining: 1m 28s\n",
            "124:\tlearn: 0.8599228\ttotal: 12.6s\tremaining: 1m 28s\n",
            "125:\tlearn: 0.8600343\ttotal: 12.7s\tremaining: 1m 28s\n",
            "126:\tlearn: 0.8600431\ttotal: 12.8s\tremaining: 1m 28s\n",
            "127:\tlearn: 0.8601723\ttotal: 12.9s\tremaining: 1m 28s\n",
            "128:\tlearn: 0.8602520\ttotal: 13s\tremaining: 1m 27s\n",
            "129:\tlearn: 0.8603759\ttotal: 13.1s\tremaining: 1m 27s\n",
            "130:\tlearn: 0.8605723\ttotal: 13.2s\tremaining: 1m 27s\n",
            "131:\tlearn: 0.8604343\ttotal: 13.3s\tremaining: 1m 27s\n",
            "132:\tlearn: 0.8604484\ttotal: 13.4s\tremaining: 1m 27s\n",
            "133:\tlearn: 0.8604378\ttotal: 13.5s\tremaining: 1m 27s\n",
            "134:\tlearn: 0.8604520\ttotal: 13.6s\tremaining: 1m 27s\n",
            "135:\tlearn: 0.8604821\ttotal: 13.7s\tremaining: 1m 27s\n",
            "136:\tlearn: 0.8606148\ttotal: 13.8s\tremaining: 1m 27s\n",
            "137:\tlearn: 0.8608042\ttotal: 13.9s\tremaining: 1m 27s\n",
            "138:\tlearn: 0.8607847\ttotal: 14s\tremaining: 1m 26s\n",
            "139:\tlearn: 0.8611653\ttotal: 14.1s\tremaining: 1m 26s\n",
            "140:\tlearn: 0.8610113\ttotal: 14.2s\tremaining: 1m 26s\n",
            "141:\tlearn: 0.8609741\ttotal: 14.3s\tremaining: 1m 26s\n",
            "142:\tlearn: 0.8612609\ttotal: 14.4s\tremaining: 1m 26s\n",
            "143:\tlearn: 0.8613069\ttotal: 14.5s\tremaining: 1m 26s\n",
            "144:\tlearn: 0.8613388\ttotal: 14.6s\tremaining: 1m 26s\n",
            "145:\tlearn: 0.8613919\ttotal: 14.7s\tremaining: 1m 26s\n",
            "146:\tlearn: 0.8614538\ttotal: 14.9s\tremaining: 1m 26s\n",
            "147:\tlearn: 0.8614963\ttotal: 15s\tremaining: 1m 26s\n",
            "148:\tlearn: 0.8615512\ttotal: 15.1s\tremaining: 1m 26s\n",
            "149:\tlearn: 0.8616662\ttotal: 15.2s\tremaining: 1m 25s\n",
            "150:\tlearn: 0.8617016\ttotal: 15.3s\tremaining: 1m 25s\n",
            "151:\tlearn: 0.8617936\ttotal: 15.4s\tremaining: 1m 25s\n",
            "152:\tlearn: 0.8618520\ttotal: 15.5s\tremaining: 1m 25s\n",
            "153:\tlearn: 0.8619211\ttotal: 15.6s\tremaining: 1m 25s\n",
            "154:\tlearn: 0.8619547\ttotal: 15.7s\tremaining: 1m 25s\n",
            "155:\tlearn: 0.8619158\ttotal: 15.8s\tremaining: 1m 25s\n",
            "156:\tlearn: 0.8619777\ttotal: 15.9s\tremaining: 1m 25s\n",
            "157:\tlearn: 0.8619848\ttotal: 16s\tremaining: 1m 25s\n",
            "158:\tlearn: 0.8620149\ttotal: 16.1s\tremaining: 1m 25s\n",
            "159:\tlearn: 0.8620149\ttotal: 16.2s\tremaining: 1m 24s\n",
            "160:\tlearn: 0.8620786\ttotal: 16.3s\tremaining: 1m 24s\n",
            "161:\tlearn: 0.8621512\ttotal: 16.4s\tremaining: 1m 24s\n",
            "162:\tlearn: 0.8621954\ttotal: 16.5s\tremaining: 1m 24s\n",
            "163:\tlearn: 0.8622308\ttotal: 16.6s\tremaining: 1m 24s\n",
            "164:\tlearn: 0.8623299\ttotal: 16.7s\tremaining: 1m 24s\n",
            "165:\tlearn: 0.8623990\ttotal: 16.8s\tremaining: 1m 24s\n",
            "166:\tlearn: 0.8625158\ttotal: 16.9s\tremaining: 1m 24s\n",
            "167:\tlearn: 0.8625423\ttotal: 17s\tremaining: 1m 24s\n",
            "168:\tlearn: 0.8625441\ttotal: 17.1s\tremaining: 1m 24s\n",
            "169:\tlearn: 0.8625813\ttotal: 17.2s\tremaining: 1m 24s\n",
            "170:\tlearn: 0.8625636\ttotal: 17.3s\tremaining: 1m 23s\n",
            "171:\tlearn: 0.8626326\ttotal: 17.4s\tremaining: 1m 23s\n",
            "172:\tlearn: 0.8627070\ttotal: 17.5s\tremaining: 1m 23s\n",
            "173:\tlearn: 0.8627070\ttotal: 17.6s\tremaining: 1m 23s\n",
            "174:\tlearn: 0.8627689\ttotal: 17.7s\tremaining: 1m 23s\n",
            "175:\tlearn: 0.8628291\ttotal: 17.8s\tremaining: 1m 23s\n",
            "176:\tlearn: 0.8628840\ttotal: 17.9s\tremaining: 1m 23s\n",
            "177:\tlearn: 0.8628946\ttotal: 18s\tremaining: 1m 23s\n",
            "178:\tlearn: 0.8629317\ttotal: 18.2s\tremaining: 1m 23s\n",
            "179:\tlearn: 0.8629459\ttotal: 18.3s\tremaining: 1m 23s\n",
            "180:\tlearn: 0.8629866\ttotal: 18.4s\tremaining: 1m 23s\n",
            "181:\tlearn: 0.8629919\ttotal: 18.5s\tremaining: 1m 22s\n",
            "182:\tlearn: 0.8630238\ttotal: 18.6s\tremaining: 1m 22s\n",
            "183:\tlearn: 0.8630592\ttotal: 18.7s\tremaining: 1m 22s\n",
            "184:\tlearn: 0.8630751\ttotal: 18.8s\tremaining: 1m 22s\n",
            "185:\tlearn: 0.8631123\ttotal: 18.9s\tremaining: 1m 22s\n",
            "186:\tlearn: 0.8631211\ttotal: 19s\tremaining: 1m 22s\n",
            "187:\tlearn: 0.8631795\ttotal: 19.1s\tremaining: 1m 22s\n",
            "188:\tlearn: 0.8631689\ttotal: 19.2s\tremaining: 1m 22s\n",
            "189:\tlearn: 0.8632167\ttotal: 19.3s\tremaining: 1m 22s\n",
            "190:\tlearn: 0.8632273\ttotal: 19.4s\tremaining: 1m 22s\n",
            "191:\tlearn: 0.8632486\ttotal: 19.5s\tremaining: 1m 21s\n",
            "192:\tlearn: 0.8632645\ttotal: 19.6s\tremaining: 1m 21s\n",
            "193:\tlearn: 0.8632521\ttotal: 19.7s\tremaining: 1m 21s\n",
            "194:\tlearn: 0.8632326\ttotal: 19.8s\tremaining: 1m 21s\n",
            "195:\tlearn: 0.8633619\ttotal: 19.9s\tremaining: 1m 21s\n",
            "196:\tlearn: 0.8634415\ttotal: 20s\tremaining: 1m 21s\n",
            "197:\tlearn: 0.8635371\ttotal: 20.1s\tremaining: 1m 21s\n",
            "198:\tlearn: 0.8635619\ttotal: 20.2s\tremaining: 1m 21s\n",
            "199:\tlearn: 0.8636734\ttotal: 20.3s\tremaining: 1m 21s\n",
            "200:\tlearn: 0.8637530\ttotal: 20.4s\tremaining: 1m 21s\n",
            "201:\tlearn: 0.8637583\ttotal: 20.5s\tremaining: 1m 21s\n",
            "202:\tlearn: 0.8637495\ttotal: 20.6s\tremaining: 1m 20s\n",
            "203:\tlearn: 0.8637548\ttotal: 20.7s\tremaining: 1m 20s\n",
            "204:\tlearn: 0.8637336\ttotal: 20.8s\tremaining: 1m 20s\n",
            "205:\tlearn: 0.8637442\ttotal: 20.9s\tremaining: 1m 20s\n",
            "206:\tlearn: 0.8637601\ttotal: 21s\tremaining: 1m 20s\n",
            "207:\tlearn: 0.8637406\ttotal: 21.1s\tremaining: 1m 20s\n",
            "208:\tlearn: 0.8637583\ttotal: 21.2s\tremaining: 1m 20s\n",
            "209:\tlearn: 0.8637583\ttotal: 21.3s\tremaining: 1m 20s\n",
            "210:\tlearn: 0.8638114\ttotal: 21.4s\tremaining: 1m 20s\n",
            "211:\tlearn: 0.8638274\ttotal: 21.5s\tremaining: 1m 20s\n",
            "212:\tlearn: 0.8638433\ttotal: 21.6s\tremaining: 1m 19s\n",
            "213:\tlearn: 0.8638964\ttotal: 21.7s\tremaining: 1m 19s\n",
            "214:\tlearn: 0.8639336\ttotal: 21.8s\tremaining: 1m 19s\n",
            "215:\tlearn: 0.8640291\ttotal: 21.9s\tremaining: 1m 19s\n",
            "216:\tlearn: 0.8640663\ttotal: 22.1s\tremaining: 1m 19s\n",
            "217:\tlearn: 0.8640911\ttotal: 22.2s\tremaining: 1m 19s\n",
            "218:\tlearn: 0.8640999\ttotal: 22.3s\tremaining: 1m 19s\n",
            "219:\tlearn: 0.8640946\ttotal: 22.4s\tremaining: 1m 19s\n",
            "220:\tlearn: 0.8640840\ttotal: 22.5s\tremaining: 1m 19s\n",
            "221:\tlearn: 0.8641849\ttotal: 22.6s\tremaining: 1m 19s\n",
            "222:\tlearn: 0.8642115\ttotal: 22.7s\tremaining: 1m 19s\n",
            "223:\tlearn: 0.8642451\ttotal: 22.8s\tremaining: 1m 18s\n",
            "224:\tlearn: 0.8642592\ttotal: 22.9s\tremaining: 1m 18s\n",
            "225:\tlearn: 0.8643300\ttotal: 23s\tremaining: 1m 18s\n",
            "226:\tlearn: 0.8643212\ttotal: 23.1s\tremaining: 1m 18s\n",
            "227:\tlearn: 0.8643300\ttotal: 23.2s\tremaining: 1m 18s\n",
            "228:\tlearn: 0.8643194\ttotal: 23.3s\tremaining: 1m 18s\n",
            "229:\tlearn: 0.8643194\ttotal: 23.4s\tremaining: 1m 18s\n",
            "230:\tlearn: 0.8643654\ttotal: 23.5s\tremaining: 1m 18s\n",
            "231:\tlearn: 0.8643902\ttotal: 23.6s\tremaining: 1m 18s\n",
            "232:\tlearn: 0.8643884\ttotal: 23.7s\tremaining: 1m 18s\n",
            "233:\tlearn: 0.8644327\ttotal: 23.8s\tremaining: 1m 17s\n",
            "234:\tlearn: 0.8644345\ttotal: 23.9s\tremaining: 1m 17s\n",
            "235:\tlearn: 0.8644168\ttotal: 24s\tremaining: 1m 17s\n",
            "236:\tlearn: 0.8644327\ttotal: 24.1s\tremaining: 1m 17s\n",
            "237:\tlearn: 0.8644433\ttotal: 24.2s\tremaining: 1m 17s\n",
            "238:\tlearn: 0.8644345\ttotal: 24.3s\tremaining: 1m 17s\n",
            "239:\tlearn: 0.8644398\ttotal: 24.4s\tremaining: 1m 17s\n",
            "240:\tlearn: 0.8644522\ttotal: 24.5s\tremaining: 1m 17s\n",
            "241:\tlearn: 0.8645159\ttotal: 24.6s\tremaining: 1m 17s\n",
            "242:\tlearn: 0.8645283\ttotal: 24.7s\tremaining: 1m 17s\n",
            "243:\tlearn: 0.8645566\ttotal: 24.8s\tremaining: 1m 16s\n",
            "244:\tlearn: 0.8645991\ttotal: 24.9s\tremaining: 1m 16s\n",
            "245:\tlearn: 0.8646079\ttotal: 25s\tremaining: 1m 16s\n",
            "246:\tlearn: 0.8646398\ttotal: 25.1s\tremaining: 1m 16s\n",
            "247:\tlearn: 0.8646292\ttotal: 25.2s\tremaining: 1m 16s\n",
            "248:\tlearn: 0.8646345\ttotal: 25.3s\tremaining: 1m 16s\n",
            "249:\tlearn: 0.8646911\ttotal: 25.4s\tremaining: 1m 16s\n",
            "250:\tlearn: 0.8646893\ttotal: 25.6s\tremaining: 1m 16s\n",
            "251:\tlearn: 0.8647106\ttotal: 25.7s\tremaining: 1m 16s\n",
            "252:\tlearn: 0.8647336\ttotal: 25.8s\tremaining: 1m 16s\n",
            "253:\tlearn: 0.8647389\ttotal: 25.9s\tremaining: 1m 15s\n",
            "254:\tlearn: 0.8647442\ttotal: 26s\tremaining: 1m 15s\n",
            "255:\tlearn: 0.8647548\ttotal: 26.1s\tremaining: 1m 15s\n",
            "256:\tlearn: 0.8647708\ttotal: 26.2s\tremaining: 1m 15s\n",
            "257:\tlearn: 0.8648062\ttotal: 26.3s\tremaining: 1m 15s\n",
            "258:\tlearn: 0.8648327\ttotal: 26.4s\tremaining: 1m 15s\n",
            "259:\tlearn: 0.8648451\ttotal: 26.5s\tremaining: 1m 15s\n",
            "260:\tlearn: 0.8648752\ttotal: 26.6s\tremaining: 1m 15s\n",
            "261:\tlearn: 0.8648681\ttotal: 26.7s\tremaining: 1m 15s\n",
            "262:\tlearn: 0.8649283\ttotal: 26.8s\tremaining: 1m 15s\n",
            "263:\tlearn: 0.8650416\ttotal: 26.9s\tremaining: 1m 14s\n",
            "264:\tlearn: 0.8650433\ttotal: 27s\tremaining: 1m 14s\n",
            "265:\tlearn: 0.8650699\ttotal: 27.1s\tremaining: 1m 14s\n",
            "266:\tlearn: 0.8650487\ttotal: 27.2s\tremaining: 1m 14s\n",
            "267:\tlearn: 0.8650540\ttotal: 27.3s\tremaining: 1m 14s\n",
            "268:\tlearn: 0.8650593\ttotal: 27.4s\tremaining: 1m 14s\n",
            "269:\tlearn: 0.8650345\ttotal: 27.5s\tremaining: 1m 14s\n",
            "270:\tlearn: 0.8650610\ttotal: 27.6s\tremaining: 1m 14s\n",
            "271:\tlearn: 0.8650681\ttotal: 27.7s\tremaining: 1m 14s\n",
            "272:\tlearn: 0.8650681\ttotal: 27.8s\tremaining: 1m 14s\n",
            "273:\tlearn: 0.8651177\ttotal: 27.9s\tremaining: 1m 14s\n",
            "274:\tlearn: 0.8651460\ttotal: 28s\tremaining: 1m 13s\n",
            "275:\tlearn: 0.8651531\ttotal: 28.1s\tremaining: 1m 13s\n",
            "276:\tlearn: 0.8651672\ttotal: 28.2s\tremaining: 1m 13s\n",
            "277:\tlearn: 0.8651832\ttotal: 28.3s\tremaining: 1m 13s\n",
            "278:\tlearn: 0.8652062\ttotal: 28.5s\tremaining: 1m 13s\n",
            "279:\tlearn: 0.8652133\ttotal: 28.6s\tremaining: 1m 13s\n",
            "280:\tlearn: 0.8652363\ttotal: 28.7s\tremaining: 1m 13s\n",
            "281:\tlearn: 0.8652540\ttotal: 28.8s\tremaining: 1m 13s\n",
            "282:\tlearn: 0.8652717\ttotal: 28.9s\tremaining: 1m 13s\n",
            "283:\tlearn: 0.8653230\ttotal: 29s\tremaining: 1m 13s\n",
            "284:\tlearn: 0.8653088\ttotal: 29.1s\tremaining: 1m 12s\n",
            "285:\tlearn: 0.8653000\ttotal: 29.2s\tremaining: 1m 12s\n",
            "286:\tlearn: 0.8653283\ttotal: 29.3s\tremaining: 1m 12s\n",
            "287:\tlearn: 0.8653407\ttotal: 29.4s\tremaining: 1m 12s\n",
            "288:\tlearn: 0.8653389\ttotal: 29.5s\tremaining: 1m 12s\n",
            "289:\tlearn: 0.8653372\ttotal: 29.6s\tremaining: 1m 12s\n",
            "290:\tlearn: 0.8653743\ttotal: 29.7s\tremaining: 1m 12s\n",
            "291:\tlearn: 0.8654062\ttotal: 29.8s\tremaining: 1m 12s\n",
            "292:\tlearn: 0.8654522\ttotal: 29.9s\tremaining: 1m 12s\n",
            "293:\tlearn: 0.8654540\ttotal: 30s\tremaining: 1m 12s\n",
            "294:\tlearn: 0.8654699\ttotal: 30.1s\tremaining: 1m 11s\n",
            "295:\tlearn: 0.8654398\ttotal: 30.2s\tremaining: 1m 11s\n",
            "296:\tlearn: 0.8654469\ttotal: 30.3s\tremaining: 1m 11s\n",
            "297:\tlearn: 0.8654504\ttotal: 30.4s\tremaining: 1m 11s\n",
            "298:\tlearn: 0.8654540\ttotal: 30.5s\tremaining: 1m 11s\n",
            "299:\tlearn: 0.8654805\ttotal: 30.6s\tremaining: 1m 11s\n",
            "300:\tlearn: 0.8654841\ttotal: 30.7s\tremaining: 1m 11s\n",
            "301:\tlearn: 0.8655283\ttotal: 30.9s\tremaining: 1m 11s\n",
            "302:\tlearn: 0.8655478\ttotal: 31s\tremaining: 1m 11s\n",
            "303:\tlearn: 0.8655407\ttotal: 31.1s\tremaining: 1m 11s\n",
            "304:\tlearn: 0.8655673\ttotal: 31.2s\tremaining: 1m 11s\n",
            "305:\tlearn: 0.8655885\ttotal: 31.3s\tremaining: 1m 10s\n",
            "306:\tlearn: 0.8656186\ttotal: 31.4s\tremaining: 1m 10s\n",
            "307:\tlearn: 0.8656044\ttotal: 31.5s\tremaining: 1m 10s\n",
            "308:\tlearn: 0.8656151\ttotal: 31.6s\tremaining: 1m 10s\n",
            "309:\tlearn: 0.8656841\ttotal: 31.7s\tremaining: 1m 10s\n",
            "310:\tlearn: 0.8657336\ttotal: 31.8s\tremaining: 1m 10s\n",
            "311:\tlearn: 0.8657089\ttotal: 31.9s\tremaining: 1m 10s\n",
            "312:\tlearn: 0.8657106\ttotal: 32s\tremaining: 1m 10s\n",
            "313:\tlearn: 0.8657283\ttotal: 32.1s\tremaining: 1m 10s\n",
            "314:\tlearn: 0.8657549\ttotal: 32.2s\tremaining: 1m 10s\n",
            "315:\tlearn: 0.8657779\ttotal: 32.3s\tremaining: 1m 9s\n",
            "316:\tlearn: 0.8657708\ttotal: 32.4s\tremaining: 1m 9s\n",
            "317:\tlearn: 0.8657708\ttotal: 32.5s\tremaining: 1m 9s\n",
            "318:\tlearn: 0.8657690\ttotal: 32.6s\tremaining: 1m 9s\n",
            "319:\tlearn: 0.8657956\ttotal: 32.7s\tremaining: 1m 9s\n",
            "320:\tlearn: 0.8658257\ttotal: 32.8s\tremaining: 1m 9s\n",
            "321:\tlearn: 0.8658204\ttotal: 32.9s\tremaining: 1m 9s\n",
            "322:\tlearn: 0.8658098\ttotal: 33.1s\tremaining: 1m 9s\n",
            "323:\tlearn: 0.8658151\ttotal: 33.2s\tremaining: 1m 9s\n",
            "324:\tlearn: 0.8658345\ttotal: 33.3s\tremaining: 1m 9s\n",
            "325:\tlearn: 0.8658257\ttotal: 33.4s\tremaining: 1m 8s\n",
            "326:\tlearn: 0.8658221\ttotal: 33.5s\tremaining: 1m 8s\n",
            "327:\tlearn: 0.8658487\ttotal: 33.6s\tremaining: 1m 8s\n",
            "328:\tlearn: 0.8658611\ttotal: 33.7s\tremaining: 1m 8s\n",
            "329:\tlearn: 0.8659018\ttotal: 33.8s\tremaining: 1m 8s\n",
            "330:\tlearn: 0.8659177\ttotal: 33.9s\tremaining: 1m 8s\n",
            "331:\tlearn: 0.8659142\ttotal: 34s\tremaining: 1m 8s\n",
            "332:\tlearn: 0.8659124\ttotal: 34.1s\tremaining: 1m 8s\n",
            "333:\tlearn: 0.8659283\ttotal: 34.2s\tremaining: 1m 8s\n",
            "334:\tlearn: 0.8659319\ttotal: 34.3s\tremaining: 1m 8s\n",
            "335:\tlearn: 0.8659443\ttotal: 34.4s\tremaining: 1m 8s\n",
            "336:\tlearn: 0.8659584\ttotal: 34.5s\tremaining: 1m 7s\n",
            "337:\tlearn: 0.8659726\ttotal: 34.6s\tremaining: 1m 7s\n",
            "338:\tlearn: 0.8659903\ttotal: 34.7s\tremaining: 1m 7s\n",
            "339:\tlearn: 0.8660027\ttotal: 34.8s\tremaining: 1m 7s\n",
            "340:\tlearn: 0.8660133\ttotal: 34.9s\tremaining: 1m 7s\n",
            "341:\tlearn: 0.8660310\ttotal: 35s\tremaining: 1m 7s\n",
            "342:\tlearn: 0.8660664\ttotal: 35.1s\tremaining: 1m 7s\n",
            "343:\tlearn: 0.8661230\ttotal: 35.3s\tremaining: 1m 7s\n",
            "344:\tlearn: 0.8661496\ttotal: 35.4s\tremaining: 1m 7s\n",
            "345:\tlearn: 0.8661372\ttotal: 35.5s\tremaining: 1m 7s\n",
            "346:\tlearn: 0.8661461\ttotal: 35.6s\tremaining: 1m 6s\n",
            "347:\tlearn: 0.8661531\ttotal: 35.7s\tremaining: 1m 6s\n",
            "348:\tlearn: 0.8661868\ttotal: 35.8s\tremaining: 1m 6s\n",
            "349:\tlearn: 0.8662328\ttotal: 35.9s\tremaining: 1m 6s\n",
            "350:\tlearn: 0.8662257\ttotal: 36s\tremaining: 1m 6s\n",
            "351:\tlearn: 0.8662204\ttotal: 36.1s\tremaining: 1m 6s\n",
            "352:\tlearn: 0.8662452\ttotal: 36.2s\tremaining: 1m 6s\n",
            "353:\tlearn: 0.8662328\ttotal: 36.3s\tremaining: 1m 6s\n",
            "354:\tlearn: 0.8662399\ttotal: 36.4s\tremaining: 1m 6s\n",
            "355:\tlearn: 0.8662523\ttotal: 36.5s\tremaining: 1m 6s\n",
            "356:\tlearn: 0.8662947\ttotal: 36.6s\tremaining: 1m 5s\n",
            "357:\tlearn: 0.8662965\ttotal: 36.7s\tremaining: 1m 5s\n",
            "358:\tlearn: 0.8663018\ttotal: 36.8s\tremaining: 1m 5s\n",
            "359:\tlearn: 0.8663691\ttotal: 36.9s\tremaining: 1m 5s\n",
            "360:\tlearn: 0.8663885\ttotal: 37s\tremaining: 1m 5s\n",
            "361:\tlearn: 0.8663956\ttotal: 37.1s\tremaining: 1m 5s\n",
            "362:\tlearn: 0.8664151\ttotal: 37.2s\tremaining: 1m 5s\n",
            "363:\tlearn: 0.8664080\ttotal: 37.3s\tremaining: 1m 5s\n",
            "364:\tlearn: 0.8664222\ttotal: 37.4s\tremaining: 1m 5s\n",
            "365:\tlearn: 0.8664328\ttotal: 37.5s\tremaining: 1m 5s\n",
            "366:\tlearn: 0.8664416\ttotal: 37.7s\tremaining: 1m 4s\n",
            "367:\tlearn: 0.8664363\ttotal: 37.8s\tremaining: 1m 4s\n",
            "368:\tlearn: 0.8665425\ttotal: 37.9s\tremaining: 1m 4s\n",
            "369:\tlearn: 0.8665372\ttotal: 38s\tremaining: 1m 4s\n",
            "370:\tlearn: 0.8665408\ttotal: 38.1s\tremaining: 1m 4s\n",
            "371:\tlearn: 0.8665726\ttotal: 38.2s\tremaining: 1m 4s\n",
            "372:\tlearn: 0.8665939\ttotal: 38.3s\tremaining: 1m 4s\n",
            "373:\tlearn: 0.8666151\ttotal: 38.4s\tremaining: 1m 4s\n",
            "374:\tlearn: 0.8666151\ttotal: 38.5s\tremaining: 1m 4s\n",
            "375:\tlearn: 0.8666151\ttotal: 38.6s\tremaining: 1m 4s\n",
            "376:\tlearn: 0.8666222\ttotal: 38.7s\tremaining: 1m 3s\n",
            "377:\tlearn: 0.8666293\ttotal: 38.8s\tremaining: 1m 3s\n",
            "378:\tlearn: 0.8666328\ttotal: 38.9s\tremaining: 1m 3s\n",
            "379:\tlearn: 0.8666487\ttotal: 39s\tremaining: 1m 3s\n",
            "380:\tlearn: 0.8666753\ttotal: 39.1s\tremaining: 1m 3s\n",
            "381:\tlearn: 0.8666965\ttotal: 39.2s\tremaining: 1m 3s\n",
            "382:\tlearn: 0.8667142\ttotal: 39.3s\tremaining: 1m 3s\n",
            "383:\tlearn: 0.8667195\ttotal: 39.4s\tremaining: 1m 3s\n",
            "384:\tlearn: 0.8667036\ttotal: 39.5s\tremaining: 1m 3s\n",
            "385:\tlearn: 0.8667302\ttotal: 39.6s\tremaining: 1m 3s\n",
            "386:\tlearn: 0.8667319\ttotal: 39.7s\tremaining: 1m 2s\n",
            "387:\tlearn: 0.8667443\ttotal: 39.8s\tremaining: 1m 2s\n",
            "388:\tlearn: 0.8667408\ttotal: 39.9s\tremaining: 1m 2s\n",
            "389:\tlearn: 0.8667496\ttotal: 40s\tremaining: 1m 2s\n",
            "390:\tlearn: 0.8667638\ttotal: 40.1s\tremaining: 1m 2s\n",
            "391:\tlearn: 0.8667602\ttotal: 40.2s\tremaining: 1m 2s\n",
            "392:\tlearn: 0.8667709\ttotal: 40.3s\tremaining: 1m 2s\n",
            "393:\tlearn: 0.8667886\ttotal: 40.4s\tremaining: 1m 2s\n",
            "394:\tlearn: 0.8667886\ttotal: 40.6s\tremaining: 1m 2s\n",
            "395:\tlearn: 0.8667956\ttotal: 40.7s\tremaining: 1m 2s\n",
            "396:\tlearn: 0.8667656\ttotal: 40.8s\tremaining: 1m 1s\n",
            "397:\tlearn: 0.8667762\ttotal: 40.9s\tremaining: 1m 1s\n",
            "398:\tlearn: 0.8667726\ttotal: 41s\tremaining: 1m 1s\n",
            "399:\tlearn: 0.8667886\ttotal: 41.1s\tremaining: 1m 1s\n",
            "400:\tlearn: 0.8667903\ttotal: 41.2s\tremaining: 1m 1s\n",
            "401:\tlearn: 0.8668133\ttotal: 41.3s\tremaining: 1m 1s\n",
            "402:\tlearn: 0.8668098\ttotal: 41.4s\tremaining: 1m 1s\n",
            "403:\tlearn: 0.8668346\ttotal: 41.5s\tremaining: 1m 1s\n",
            "404:\tlearn: 0.8668328\ttotal: 41.6s\tremaining: 1m 1s\n",
            "405:\tlearn: 0.8668487\ttotal: 41.7s\tremaining: 1m 1s\n",
            "406:\tlearn: 0.8668381\ttotal: 41.8s\tremaining: 1m\n",
            "407:\tlearn: 0.8668240\ttotal: 41.9s\tremaining: 1m\n",
            "408:\tlearn: 0.8668222\ttotal: 42s\tremaining: 1m\n",
            "409:\tlearn: 0.8668629\ttotal: 42.1s\tremaining: 1m\n",
            "410:\tlearn: 0.8668629\ttotal: 42.2s\tremaining: 1m\n",
            "411:\tlearn: 0.8668505\ttotal: 42.3s\tremaining: 1m\n",
            "412:\tlearn: 0.8668629\ttotal: 42.4s\tremaining: 1m\n",
            "413:\tlearn: 0.8668647\ttotal: 42.5s\tremaining: 1m\n",
            "414:\tlearn: 0.8668753\ttotal: 42.6s\tremaining: 1m\n",
            "415:\tlearn: 0.8668912\ttotal: 42.7s\tremaining: 60s\n",
            "416:\tlearn: 0.8669054\ttotal: 42.8s\tremaining: 59.9s\n",
            "417:\tlearn: 0.8669390\ttotal: 42.9s\tremaining: 59.8s\n",
            "418:\tlearn: 0.8669939\ttotal: 43s\tremaining: 59.7s\n",
            "419:\tlearn: 0.8670098\ttotal: 43.2s\tremaining: 59.6s\n",
            "420:\tlearn: 0.8670098\ttotal: 43.3s\tremaining: 59.5s\n",
            "421:\tlearn: 0.8670346\ttotal: 43.4s\tremaining: 59.4s\n",
            "422:\tlearn: 0.8670895\ttotal: 43.5s\tremaining: 59.3s\n",
            "423:\tlearn: 0.8671744\ttotal: 43.6s\tremaining: 59.2s\n",
            "424:\tlearn: 0.8671514\ttotal: 43.7s\tremaining: 59.1s\n",
            "425:\tlearn: 0.8671585\ttotal: 43.8s\tremaining: 59s\n",
            "426:\tlearn: 0.8671620\ttotal: 43.9s\tremaining: 58.9s\n",
            "427:\tlearn: 0.8671496\ttotal: 44s\tremaining: 58.8s\n",
            "428:\tlearn: 0.8671532\ttotal: 44.1s\tremaining: 58.7s\n",
            "429:\tlearn: 0.8671762\ttotal: 44.2s\tremaining: 58.6s\n",
            "430:\tlearn: 0.8671780\ttotal: 44.3s\tremaining: 58.5s\n",
            "431:\tlearn: 0.8671620\ttotal: 44.4s\tremaining: 58.4s\n",
            "432:\tlearn: 0.8671709\ttotal: 44.5s\tremaining: 58.3s\n",
            "433:\tlearn: 0.8672010\ttotal: 44.6s\tremaining: 58.2s\n",
            "434:\tlearn: 0.8672080\ttotal: 44.7s\tremaining: 58.1s\n",
            "435:\tlearn: 0.8671850\ttotal: 44.8s\tremaining: 58s\n",
            "436:\tlearn: 0.8672311\ttotal: 44.9s\tremaining: 57.9s\n",
            "437:\tlearn: 0.8672417\ttotal: 45s\tremaining: 57.8s\n",
            "438:\tlearn: 0.8672417\ttotal: 45.1s\tremaining: 57.7s\n",
            "439:\tlearn: 0.8672505\ttotal: 45.2s\tremaining: 57.6s\n",
            "440:\tlearn: 0.8672523\ttotal: 45.3s\tremaining: 57.5s\n",
            "441:\tlearn: 0.8672452\ttotal: 45.4s\tremaining: 57.4s\n",
            "442:\tlearn: 0.8672523\ttotal: 45.5s\tremaining: 57.3s\n",
            "443:\tlearn: 0.8672665\ttotal: 45.6s\tremaining: 57.2s\n",
            "444:\tlearn: 0.8672718\ttotal: 45.7s\tremaining: 57.1s\n",
            "445:\tlearn: 0.8672965\ttotal: 45.9s\tremaining: 57s\n",
            "446:\tlearn: 0.8672859\ttotal: 46s\tremaining: 56.9s\n",
            "447:\tlearn: 0.8672983\ttotal: 46.1s\tremaining: 56.8s\n",
            "448:\tlearn: 0.8673054\ttotal: 46.2s\tremaining: 56.6s\n",
            "449:\tlearn: 0.8673142\ttotal: 46.3s\tremaining: 56.5s\n",
            "450:\tlearn: 0.8673178\ttotal: 46.4s\tremaining: 56.4s\n",
            "451:\tlearn: 0.8673266\ttotal: 46.5s\tremaining: 56.3s\n",
            "452:\tlearn: 0.8673496\ttotal: 46.6s\tremaining: 56.2s\n",
            "453:\tlearn: 0.8673550\ttotal: 46.7s\tremaining: 56.1s\n",
            "454:\tlearn: 0.8673337\ttotal: 46.8s\tremaining: 56s\n",
            "455:\tlearn: 0.8673373\ttotal: 46.9s\tremaining: 55.9s\n",
            "456:\tlearn: 0.8673390\ttotal: 47s\tremaining: 55.8s\n",
            "457:\tlearn: 0.8673443\ttotal: 47.1s\tremaining: 55.7s\n",
            "458:\tlearn: 0.8673656\ttotal: 47.2s\tremaining: 55.6s\n",
            "459:\tlearn: 0.8673727\ttotal: 47.3s\tremaining: 55.5s\n",
            "460:\tlearn: 0.8673762\ttotal: 47.4s\tremaining: 55.4s\n",
            "461:\tlearn: 0.8673673\ttotal: 47.5s\tremaining: 55.3s\n",
            "462:\tlearn: 0.8673709\ttotal: 47.6s\tremaining: 55.2s\n",
            "463:\tlearn: 0.8673620\ttotal: 47.7s\tremaining: 55.1s\n",
            "464:\tlearn: 0.8673868\ttotal: 47.8s\tremaining: 55s\n",
            "465:\tlearn: 0.8673992\ttotal: 47.9s\tremaining: 54.9s\n",
            "466:\tlearn: 0.8674081\ttotal: 48s\tremaining: 54.8s\n",
            "467:\tlearn: 0.8674098\ttotal: 48.1s\tremaining: 54.7s\n",
            "468:\tlearn: 0.8674169\ttotal: 48.2s\tremaining: 54.6s\n",
            "469:\tlearn: 0.8674151\ttotal: 48.3s\tremaining: 54.5s\n",
            "470:\tlearn: 0.8674346\ttotal: 48.4s\tremaining: 54.4s\n",
            "471:\tlearn: 0.8674665\ttotal: 48.5s\tremaining: 54.3s\n",
            "472:\tlearn: 0.8674806\ttotal: 48.6s\tremaining: 54.2s\n",
            "473:\tlearn: 0.8674859\ttotal: 48.7s\tremaining: 54.1s\n",
            "474:\tlearn: 0.8674842\ttotal: 48.8s\tremaining: 54s\n",
            "475:\tlearn: 0.8674877\ttotal: 49s\tremaining: 53.9s\n",
            "476:\tlearn: 0.8675019\ttotal: 49.1s\tremaining: 53.8s\n",
            "477:\tlearn: 0.8674983\ttotal: 49.2s\tremaining: 53.7s\n",
            "478:\tlearn: 0.8675036\ttotal: 49.3s\tremaining: 53.6s\n",
            "479:\tlearn: 0.8675567\ttotal: 49.4s\tremaining: 53.5s\n",
            "480:\tlearn: 0.8675585\ttotal: 49.5s\tremaining: 53.4s\n",
            "481:\tlearn: 0.8675638\ttotal: 49.6s\tremaining: 53.3s\n",
            "482:\tlearn: 0.8675674\ttotal: 49.7s\tremaining: 53.2s\n",
            "483:\tlearn: 0.8675709\ttotal: 49.8s\tremaining: 53.1s\n",
            "484:\tlearn: 0.8676010\ttotal: 49.9s\tremaining: 53s\n",
            "485:\tlearn: 0.8676063\ttotal: 50s\tremaining: 52.9s\n",
            "486:\tlearn: 0.8676187\ttotal: 50.1s\tremaining: 52.8s\n",
            "487:\tlearn: 0.8676505\ttotal: 50.2s\tremaining: 52.7s\n",
            "488:\tlearn: 0.8676505\ttotal: 50.3s\tremaining: 52.6s\n",
            "489:\tlearn: 0.8676541\ttotal: 50.4s\tremaining: 52.5s\n",
            "490:\tlearn: 0.8676505\ttotal: 50.5s\tremaining: 52.4s\n",
            "491:\tlearn: 0.8676665\ttotal: 50.6s\tremaining: 52.3s\n",
            "492:\tlearn: 0.8676736\ttotal: 50.7s\tremaining: 52.2s\n",
            "493:\tlearn: 0.8677143\ttotal: 50.8s\tremaining: 52.1s\n",
            "494:\tlearn: 0.8677691\ttotal: 50.9s\tremaining: 52s\n",
            "495:\tlearn: 0.8677603\ttotal: 51s\tremaining: 51.9s\n",
            "496:\tlearn: 0.8677851\ttotal: 51.1s\tremaining: 51.8s\n",
            "497:\tlearn: 0.8678028\ttotal: 51.2s\tremaining: 51.7s\n",
            "498:\tlearn: 0.8678169\ttotal: 51.3s\tremaining: 51.6s\n",
            "499:\tlearn: 0.8678275\ttotal: 51.5s\tremaining: 51.5s\n",
            "500:\tlearn: 0.8678205\ttotal: 51.6s\tremaining: 51.3s\n",
            "501:\tlearn: 0.8678222\ttotal: 51.7s\tremaining: 51.2s\n",
            "502:\tlearn: 0.8678559\ttotal: 51.8s\tremaining: 51.1s\n",
            "503:\tlearn: 0.8678966\ttotal: 51.9s\tremaining: 51s\n",
            "504:\tlearn: 0.8678913\ttotal: 52s\tremaining: 50.9s\n",
            "505:\tlearn: 0.8679037\ttotal: 52.1s\tremaining: 50.8s\n",
            "506:\tlearn: 0.8679196\ttotal: 52.2s\tremaining: 50.7s\n",
            "507:\tlearn: 0.8679514\ttotal: 52.3s\tremaining: 50.6s\n",
            "508:\tlearn: 0.8679603\ttotal: 52.4s\tremaining: 50.5s\n",
            "509:\tlearn: 0.8679656\ttotal: 52.5s\tremaining: 50.4s\n",
            "510:\tlearn: 0.8680063\ttotal: 52.6s\tremaining: 50.3s\n",
            "511:\tlearn: 0.8680081\ttotal: 52.7s\tremaining: 50.2s\n",
            "512:\tlearn: 0.8680152\ttotal: 52.8s\tremaining: 50.1s\n",
            "513:\tlearn: 0.8680081\ttotal: 52.9s\tremaining: 50s\n",
            "514:\tlearn: 0.8680329\ttotal: 53s\tremaining: 49.9s\n",
            "515:\tlearn: 0.8680116\ttotal: 53.1s\tremaining: 49.8s\n",
            "516:\tlearn: 0.8680222\ttotal: 53.2s\tremaining: 49.7s\n",
            "517:\tlearn: 0.8680329\ttotal: 53.3s\tremaining: 49.6s\n",
            "518:\tlearn: 0.8680488\ttotal: 53.4s\tremaining: 49.5s\n",
            "519:\tlearn: 0.8680718\ttotal: 53.5s\tremaining: 49.4s\n",
            "520:\tlearn: 0.8680541\ttotal: 53.6s\tremaining: 49.3s\n",
            "521:\tlearn: 0.8680824\ttotal: 53.7s\tremaining: 49.2s\n",
            "522:\tlearn: 0.8681001\ttotal: 53.8s\tremaining: 49.1s\n",
            "523:\tlearn: 0.8681107\ttotal: 53.9s\tremaining: 49s\n",
            "524:\tlearn: 0.8681090\ttotal: 54.1s\tremaining: 48.9s\n",
            "525:\tlearn: 0.8681391\ttotal: 54.2s\tremaining: 48.8s\n",
            "526:\tlearn: 0.8681373\ttotal: 54.3s\tremaining: 48.7s\n",
            "527:\tlearn: 0.8681515\ttotal: 54.4s\tremaining: 48.6s\n",
            "528:\tlearn: 0.8681373\ttotal: 54.5s\tremaining: 48.5s\n",
            "529:\tlearn: 0.8681284\ttotal: 54.6s\tremaining: 48.4s\n",
            "530:\tlearn: 0.8681479\ttotal: 54.7s\tremaining: 48.3s\n",
            "531:\tlearn: 0.8681656\ttotal: 54.8s\tremaining: 48.2s\n",
            "532:\tlearn: 0.8682046\ttotal: 54.9s\tremaining: 48.1s\n",
            "533:\tlearn: 0.8682240\ttotal: 55s\tremaining: 48s\n",
            "534:\tlearn: 0.8682329\ttotal: 55.1s\tremaining: 47.9s\n",
            "535:\tlearn: 0.8682807\ttotal: 55.2s\tremaining: 47.8s\n",
            "536:\tlearn: 0.8682718\ttotal: 55.3s\tremaining: 47.7s\n",
            "537:\tlearn: 0.8682700\ttotal: 55.4s\tremaining: 47.6s\n",
            "538:\tlearn: 0.8682718\ttotal: 55.5s\tremaining: 47.5s\n",
            "539:\tlearn: 0.8682594\ttotal: 55.6s\tremaining: 47.4s\n",
            "540:\tlearn: 0.8682931\ttotal: 55.7s\tremaining: 47.3s\n",
            "541:\tlearn: 0.8682984\ttotal: 55.8s\tremaining: 47.2s\n",
            "542:\tlearn: 0.8682895\ttotal: 55.9s\tremaining: 47.1s\n",
            "543:\tlearn: 0.8683267\ttotal: 56s\tremaining: 47s\n",
            "544:\tlearn: 0.8683267\ttotal: 56.1s\tremaining: 46.9s\n",
            "545:\tlearn: 0.8683267\ttotal: 56.2s\tremaining: 46.8s\n",
            "546:\tlearn: 0.8683267\ttotal: 56.3s\tremaining: 46.7s\n",
            "547:\tlearn: 0.8683338\ttotal: 56.4s\tremaining: 46.6s\n",
            "548:\tlearn: 0.8683302\ttotal: 56.5s\tremaining: 46.5s\n",
            "549:\tlearn: 0.8683320\ttotal: 56.6s\tremaining: 46.3s\n",
            "550:\tlearn: 0.8683338\ttotal: 56.8s\tremaining: 46.2s\n",
            "551:\tlearn: 0.8683515\ttotal: 56.9s\tremaining: 46.1s\n",
            "552:\tlearn: 0.8683462\ttotal: 57s\tremaining: 46s\n",
            "553:\tlearn: 0.8683426\ttotal: 57.1s\tremaining: 45.9s\n",
            "554:\tlearn: 0.8683550\ttotal: 57.2s\tremaining: 45.8s\n",
            "555:\tlearn: 0.8683745\ttotal: 57.3s\tremaining: 45.7s\n",
            "556:\tlearn: 0.8683709\ttotal: 57.4s\tremaining: 45.6s\n",
            "557:\tlearn: 0.8683975\ttotal: 57.5s\tremaining: 45.5s\n",
            "558:\tlearn: 0.8684665\ttotal: 57.6s\tremaining: 45.4s\n",
            "559:\tlearn: 0.8684736\ttotal: 57.7s\tremaining: 45.3s\n",
            "560:\tlearn: 0.8684824\ttotal: 57.8s\tremaining: 45.2s\n",
            "561:\tlearn: 0.8685037\ttotal: 57.9s\tremaining: 45.1s\n",
            "562:\tlearn: 0.8685178\ttotal: 58s\tremaining: 45s\n",
            "563:\tlearn: 0.8685214\ttotal: 58.1s\tremaining: 44.9s\n",
            "564:\tlearn: 0.8685479\ttotal: 58.2s\tremaining: 44.8s\n",
            "565:\tlearn: 0.8685586\ttotal: 58.3s\tremaining: 44.7s\n",
            "566:\tlearn: 0.8685993\ttotal: 58.4s\tremaining: 44.6s\n",
            "567:\tlearn: 0.8685957\ttotal: 58.5s\tremaining: 44.5s\n",
            "568:\tlearn: 0.8685780\ttotal: 58.6s\tremaining: 44.4s\n",
            "569:\tlearn: 0.8685816\ttotal: 58.7s\tremaining: 44.3s\n",
            "570:\tlearn: 0.8686063\ttotal: 58.8s\tremaining: 44.2s\n",
            "571:\tlearn: 0.8686294\ttotal: 58.9s\tremaining: 44.1s\n",
            "572:\tlearn: 0.8686541\ttotal: 59.1s\tremaining: 44s\n",
            "573:\tlearn: 0.8686718\ttotal: 59.2s\tremaining: 43.9s\n",
            "574:\tlearn: 0.8686878\ttotal: 59.3s\tremaining: 43.8s\n",
            "575:\tlearn: 0.8686966\ttotal: 59.4s\tremaining: 43.7s\n",
            "576:\tlearn: 0.8687143\ttotal: 59.5s\tremaining: 43.6s\n",
            "577:\tlearn: 0.8687232\ttotal: 59.6s\tremaining: 43.5s\n",
            "578:\tlearn: 0.8687426\ttotal: 59.7s\tremaining: 43.4s\n",
            "579:\tlearn: 0.8687479\ttotal: 59.8s\tremaining: 43.3s\n",
            "580:\tlearn: 0.8687338\ttotal: 59.9s\tremaining: 43.2s\n",
            "581:\tlearn: 0.8687426\ttotal: 60s\tremaining: 43.1s\n",
            "582:\tlearn: 0.8687462\ttotal: 1m\tremaining: 43s\n",
            "583:\tlearn: 0.8687462\ttotal: 1m\tremaining: 42.9s\n",
            "584:\tlearn: 0.8687603\ttotal: 1m\tremaining: 42.8s\n",
            "585:\tlearn: 0.8687568\ttotal: 1m\tremaining: 42.7s\n",
            "586:\tlearn: 0.8687656\ttotal: 1m\tremaining: 42.6s\n",
            "587:\tlearn: 0.8687993\ttotal: 1m\tremaining: 42.5s\n",
            "588:\tlearn: 0.8687940\ttotal: 1m\tremaining: 42.4s\n",
            "589:\tlearn: 0.8687780\ttotal: 1m\tremaining: 42.3s\n",
            "590:\tlearn: 0.8687833\ttotal: 1m\tremaining: 42.2s\n",
            "591:\tlearn: 0.8687763\ttotal: 1m 1s\tremaining: 42.1s\n",
            "592:\tlearn: 0.8688187\ttotal: 1m 1s\tremaining: 42s\n",
            "593:\tlearn: 0.8688276\ttotal: 1m 1s\tremaining: 41.9s\n",
            "594:\tlearn: 0.8688435\ttotal: 1m 1s\tremaining: 41.8s\n",
            "595:\tlearn: 0.8688488\ttotal: 1m 1s\tremaining: 41.7s\n",
            "596:\tlearn: 0.8688311\ttotal: 1m 1s\tremaining: 41.6s\n",
            "597:\tlearn: 0.8688630\ttotal: 1m 1s\tremaining: 41.5s\n",
            "598:\tlearn: 0.8688736\ttotal: 1m 1s\tremaining: 41.4s\n",
            "599:\tlearn: 0.8689019\ttotal: 1m 1s\tremaining: 41.3s\n",
            "600:\tlearn: 0.8689196\ttotal: 1m 2s\tremaining: 41.2s\n",
            "601:\tlearn: 0.8688913\ttotal: 1m 2s\tremaining: 41.1s\n",
            "602:\tlearn: 0.8688984\ttotal: 1m 2s\tremaining: 41s\n",
            "603:\tlearn: 0.8689072\ttotal: 1m 2s\tremaining: 40.9s\n",
            "604:\tlearn: 0.8689037\ttotal: 1m 2s\tremaining: 40.8s\n",
            "605:\tlearn: 0.8689072\ttotal: 1m 2s\tremaining: 40.7s\n",
            "606:\tlearn: 0.8689108\ttotal: 1m 2s\tremaining: 40.5s\n",
            "607:\tlearn: 0.8689072\ttotal: 1m 2s\tremaining: 40.4s\n",
            "608:\tlearn: 0.8689108\ttotal: 1m 2s\tremaining: 40.3s\n",
            "609:\tlearn: 0.8689285\ttotal: 1m 2s\tremaining: 40.2s\n",
            "610:\tlearn: 0.8689267\ttotal: 1m 3s\tremaining: 40.1s\n",
            "611:\tlearn: 0.8689621\ttotal: 1m 3s\tremaining: 40s\n",
            "612:\tlearn: 0.8689550\ttotal: 1m 3s\tremaining: 39.9s\n",
            "613:\tlearn: 0.8689798\ttotal: 1m 3s\tremaining: 39.8s\n",
            "614:\tlearn: 0.8690117\ttotal: 1m 3s\tremaining: 39.7s\n",
            "615:\tlearn: 0.8689922\ttotal: 1m 3s\tremaining: 39.6s\n",
            "616:\tlearn: 0.8689993\ttotal: 1m 3s\tremaining: 39.5s\n",
            "617:\tlearn: 0.8690099\ttotal: 1m 3s\tremaining: 39.4s\n",
            "618:\tlearn: 0.8690258\ttotal: 1m 3s\tremaining: 39.3s\n",
            "619:\tlearn: 0.8689957\ttotal: 1m 3s\tremaining: 39.2s\n",
            "620:\tlearn: 0.8690011\ttotal: 1m 4s\tremaining: 39.1s\n",
            "621:\tlearn: 0.8690081\ttotal: 1m 4s\tremaining: 39s\n",
            "622:\tlearn: 0.8690152\ttotal: 1m 4s\tremaining: 38.9s\n",
            "623:\tlearn: 0.8690170\ttotal: 1m 4s\tremaining: 38.8s\n",
            "624:\tlearn: 0.8690382\ttotal: 1m 4s\tremaining: 38.7s\n",
            "625:\tlearn: 0.8690382\ttotal: 1m 4s\tremaining: 38.6s\n",
            "626:\tlearn: 0.8690683\ttotal: 1m 4s\tremaining: 38.5s\n",
            "627:\tlearn: 0.8690683\ttotal: 1m 4s\tremaining: 38.4s\n",
            "628:\tlearn: 0.8690772\ttotal: 1m 4s\tremaining: 38.3s\n",
            "629:\tlearn: 0.8690595\ttotal: 1m 5s\tremaining: 38.2s\n",
            "630:\tlearn: 0.8690754\ttotal: 1m 5s\tremaining: 38.1s\n",
            "631:\tlearn: 0.8690754\ttotal: 1m 5s\tremaining: 38s\n",
            "632:\tlearn: 0.8690896\ttotal: 1m 5s\tremaining: 37.9s\n",
            "633:\tlearn: 0.8690984\ttotal: 1m 5s\tremaining: 37.8s\n",
            "634:\tlearn: 0.8690878\ttotal: 1m 5s\tremaining: 37.7s\n",
            "635:\tlearn: 0.8691285\ttotal: 1m 5s\tremaining: 37.6s\n",
            "636:\tlearn: 0.8691427\ttotal: 1m 5s\tremaining: 37.5s\n",
            "637:\tlearn: 0.8691391\ttotal: 1m 5s\tremaining: 37.4s\n",
            "638:\tlearn: 0.8691462\ttotal: 1m 5s\tremaining: 37.3s\n",
            "639:\tlearn: 0.8691285\ttotal: 1m 6s\tremaining: 37.2s\n",
            "640:\tlearn: 0.8691692\ttotal: 1m 6s\tremaining: 37.1s\n",
            "641:\tlearn: 0.8691887\ttotal: 1m 6s\tremaining: 37s\n",
            "642:\tlearn: 0.8691922\ttotal: 1m 6s\tremaining: 36.9s\n",
            "643:\tlearn: 0.8691922\ttotal: 1m 6s\tremaining: 36.8s\n",
            "644:\tlearn: 0.8691904\ttotal: 1m 6s\tremaining: 36.6s\n",
            "645:\tlearn: 0.8691975\ttotal: 1m 6s\tremaining: 36.5s\n",
            "646:\tlearn: 0.8692081\ttotal: 1m 6s\tremaining: 36.4s\n",
            "647:\tlearn: 0.8692064\ttotal: 1m 6s\tremaining: 36.3s\n",
            "648:\tlearn: 0.8692028\ttotal: 1m 7s\tremaining: 36.2s\n",
            "649:\tlearn: 0.8692241\ttotal: 1m 7s\tremaining: 36.1s\n",
            "650:\tlearn: 0.8692223\ttotal: 1m 7s\tremaining: 36s\n",
            "651:\tlearn: 0.8692223\ttotal: 1m 7s\tremaining: 35.9s\n",
            "652:\tlearn: 0.8692258\ttotal: 1m 7s\tremaining: 35.8s\n",
            "653:\tlearn: 0.8692329\ttotal: 1m 7s\tremaining: 35.7s\n",
            "654:\tlearn: 0.8692188\ttotal: 1m 7s\tremaining: 35.6s\n",
            "655:\tlearn: 0.8692772\ttotal: 1m 7s\tremaining: 35.5s\n",
            "656:\tlearn: 0.8692825\ttotal: 1m 7s\tremaining: 35.4s\n",
            "657:\tlearn: 0.8692913\ttotal: 1m 7s\tremaining: 35.3s\n",
            "658:\tlearn: 0.8693055\ttotal: 1m 8s\tremaining: 35.2s\n",
            "659:\tlearn: 0.8693126\ttotal: 1m 8s\tremaining: 35.1s\n",
            "660:\tlearn: 0.8693267\ttotal: 1m 8s\tremaining: 35s\n",
            "661:\tlearn: 0.8693285\ttotal: 1m 8s\tremaining: 34.9s\n",
            "662:\tlearn: 0.8693285\ttotal: 1m 8s\tremaining: 34.8s\n",
            "663:\tlearn: 0.8693267\ttotal: 1m 8s\tremaining: 34.7s\n",
            "664:\tlearn: 0.8693586\ttotal: 1m 8s\tremaining: 34.6s\n",
            "665:\tlearn: 0.8693922\ttotal: 1m 8s\tremaining: 34.5s\n",
            "666:\tlearn: 0.8694011\ttotal: 1m 8s\tremaining: 34.4s\n",
            "667:\tlearn: 0.8693922\ttotal: 1m 8s\tremaining: 34.3s\n",
            "668:\tlearn: 0.8694205\ttotal: 1m 9s\tremaining: 34.2s\n",
            "669:\tlearn: 0.8694223\ttotal: 1m 9s\tremaining: 34.1s\n",
            "670:\tlearn: 0.8694524\ttotal: 1m 9s\tremaining: 34s\n",
            "671:\tlearn: 0.8694365\ttotal: 1m 9s\tremaining: 33.9s\n",
            "672:\tlearn: 0.8694435\ttotal: 1m 9s\tremaining: 33.8s\n",
            "673:\tlearn: 0.8694931\ttotal: 1m 9s\tremaining: 33.7s\n",
            "674:\tlearn: 0.8694913\ttotal: 1m 9s\tremaining: 33.6s\n",
            "675:\tlearn: 0.8695108\ttotal: 1m 9s\tremaining: 33.5s\n",
            "676:\tlearn: 0.8695002\ttotal: 1m 9s\tremaining: 33.4s\n",
            "677:\tlearn: 0.8695020\ttotal: 1m 10s\tremaining: 33.3s\n",
            "678:\tlearn: 0.8695055\ttotal: 1m 10s\tremaining: 33.2s\n",
            "679:\tlearn: 0.8695143\ttotal: 1m 10s\tremaining: 33.1s\n",
            "680:\tlearn: 0.8695374\ttotal: 1m 10s\tremaining: 33s\n",
            "681:\tlearn: 0.8695214\ttotal: 1m 10s\tremaining: 32.8s\n",
            "682:\tlearn: 0.8695197\ttotal: 1m 10s\tremaining: 32.7s\n",
            "683:\tlearn: 0.8695320\ttotal: 1m 10s\tremaining: 32.6s\n",
            "684:\tlearn: 0.8695533\ttotal: 1m 10s\tremaining: 32.5s\n",
            "685:\tlearn: 0.8695639\ttotal: 1m 10s\tremaining: 32.4s\n",
            "686:\tlearn: 0.8696135\ttotal: 1m 10s\tremaining: 32.3s\n",
            "687:\tlearn: 0.8696170\ttotal: 1m 11s\tremaining: 32.2s\n",
            "688:\tlearn: 0.8696188\ttotal: 1m 11s\tremaining: 32.1s\n",
            "689:\tlearn: 0.8696931\ttotal: 1m 11s\tremaining: 32s\n",
            "690:\tlearn: 0.8697002\ttotal: 1m 11s\tremaining: 31.9s\n",
            "691:\tlearn: 0.8697214\ttotal: 1m 11s\tremaining: 31.8s\n",
            "692:\tlearn: 0.8697161\ttotal: 1m 11s\tremaining: 31.7s\n",
            "693:\tlearn: 0.8697321\ttotal: 1m 11s\tremaining: 31.6s\n",
            "694:\tlearn: 0.8697267\ttotal: 1m 11s\tremaining: 31.5s\n",
            "695:\tlearn: 0.8697533\ttotal: 1m 11s\tremaining: 31.4s\n",
            "696:\tlearn: 0.8697480\ttotal: 1m 12s\tremaining: 31.3s\n",
            "697:\tlearn: 0.8697551\ttotal: 1m 12s\tremaining: 31.2s\n",
            "698:\tlearn: 0.8697621\ttotal: 1m 12s\tremaining: 31.1s\n",
            "699:\tlearn: 0.8697568\ttotal: 1m 12s\tremaining: 31s\n",
            "700:\tlearn: 0.8697657\ttotal: 1m 12s\tremaining: 30.9s\n",
            "701:\tlearn: 0.8697816\ttotal: 1m 12s\tremaining: 30.8s\n",
            "702:\tlearn: 0.8697745\ttotal: 1m 12s\tremaining: 30.7s\n",
            "703:\tlearn: 0.8697798\ttotal: 1m 12s\tremaining: 30.6s\n",
            "704:\tlearn: 0.8698294\ttotal: 1m 12s\tremaining: 30.5s\n",
            "705:\tlearn: 0.8698542\ttotal: 1m 12s\tremaining: 30.4s\n",
            "706:\tlearn: 0.8698630\ttotal: 1m 13s\tremaining: 30.3s\n",
            "707:\tlearn: 0.8698896\ttotal: 1m 13s\tremaining: 30.2s\n",
            "708:\tlearn: 0.8698825\ttotal: 1m 13s\tremaining: 30.1s\n",
            "709:\tlearn: 0.8698984\ttotal: 1m 13s\tremaining: 30s\n",
            "710:\tlearn: 0.8699144\ttotal: 1m 13s\tremaining: 29.9s\n",
            "711:\tlearn: 0.8699091\ttotal: 1m 13s\tremaining: 29.8s\n",
            "712:\tlearn: 0.8699356\ttotal: 1m 13s\tremaining: 29.7s\n",
            "713:\tlearn: 0.8699391\ttotal: 1m 13s\tremaining: 29.6s\n",
            "714:\tlearn: 0.8699445\ttotal: 1m 13s\tremaining: 29.5s\n",
            "715:\tlearn: 0.8700630\ttotal: 1m 14s\tremaining: 29.4s\n",
            "716:\tlearn: 0.8701038\ttotal: 1m 14s\tremaining: 29.3s\n",
            "717:\tlearn: 0.8701250\ttotal: 1m 14s\tremaining: 29.1s\n",
            "718:\tlearn: 0.8701144\ttotal: 1m 14s\tremaining: 29s\n",
            "719:\tlearn: 0.8701126\ttotal: 1m 14s\tremaining: 28.9s\n",
            "720:\tlearn: 0.8701108\ttotal: 1m 14s\tremaining: 28.8s\n",
            "721:\tlearn: 0.8701144\ttotal: 1m 14s\tremaining: 28.7s\n",
            "722:\tlearn: 0.8700896\ttotal: 1m 14s\tremaining: 28.6s\n",
            "723:\tlearn: 0.8700949\ttotal: 1m 14s\tremaining: 28.5s\n",
            "724:\tlearn: 0.8701055\ttotal: 1m 14s\tremaining: 28.4s\n",
            "725:\tlearn: 0.8701179\ttotal: 1m 15s\tremaining: 28.3s\n",
            "726:\tlearn: 0.8701356\ttotal: 1m 15s\tremaining: 28.2s\n",
            "727:\tlearn: 0.8701356\ttotal: 1m 15s\tremaining: 28.1s\n",
            "728:\tlearn: 0.8702046\ttotal: 1m 15s\tremaining: 28s\n",
            "729:\tlearn: 0.8701958\ttotal: 1m 15s\tremaining: 27.9s\n",
            "730:\tlearn: 0.8702294\ttotal: 1m 15s\tremaining: 27.8s\n",
            "731:\tlearn: 0.8702330\ttotal: 1m 15s\tremaining: 27.7s\n",
            "732:\tlearn: 0.8702383\ttotal: 1m 15s\tremaining: 27.6s\n",
            "733:\tlearn: 0.8703002\ttotal: 1m 15s\tremaining: 27.5s\n",
            "734:\tlearn: 0.8703020\ttotal: 1m 16s\tremaining: 27.4s\n",
            "735:\tlearn: 0.8702931\ttotal: 1m 16s\tremaining: 27.3s\n",
            "736:\tlearn: 0.8702949\ttotal: 1m 16s\tremaining: 27.2s\n",
            "737:\tlearn: 0.8702861\ttotal: 1m 16s\tremaining: 27.1s\n",
            "738:\tlearn: 0.8702949\ttotal: 1m 16s\tremaining: 27s\n",
            "739:\tlearn: 0.8703144\ttotal: 1m 16s\tremaining: 26.9s\n",
            "740:\tlearn: 0.8703498\ttotal: 1m 16s\tremaining: 26.8s\n",
            "741:\tlearn: 0.8703533\ttotal: 1m 16s\tremaining: 26.7s\n",
            "742:\tlearn: 0.8703498\ttotal: 1m 16s\tremaining: 26.6s\n",
            "743:\tlearn: 0.8703675\ttotal: 1m 16s\tremaining: 26.5s\n",
            "744:\tlearn: 0.8703763\ttotal: 1m 17s\tremaining: 26.4s\n",
            "745:\tlearn: 0.8703976\ttotal: 1m 17s\tremaining: 26.3s\n",
            "746:\tlearn: 0.8704153\ttotal: 1m 17s\tremaining: 26.2s\n",
            "747:\tlearn: 0.8704153\ttotal: 1m 17s\tremaining: 26.1s\n",
            "748:\tlearn: 0.8704471\ttotal: 1m 17s\tremaining: 26s\n",
            "749:\tlearn: 0.8704737\ttotal: 1m 17s\tremaining: 25.9s\n",
            "750:\tlearn: 0.8704666\ttotal: 1m 17s\tremaining: 25.8s\n",
            "751:\tlearn: 0.8704507\ttotal: 1m 17s\tremaining: 25.7s\n",
            "752:\tlearn: 0.8704613\ttotal: 1m 17s\tremaining: 25.5s\n",
            "753:\tlearn: 0.8704719\ttotal: 1m 17s\tremaining: 25.4s\n",
            "754:\tlearn: 0.8704790\ttotal: 1m 18s\tremaining: 25.3s\n",
            "755:\tlearn: 0.8704861\ttotal: 1m 18s\tremaining: 25.2s\n",
            "756:\tlearn: 0.8704684\ttotal: 1m 18s\tremaining: 25.1s\n",
            "757:\tlearn: 0.8704666\ttotal: 1m 18s\tremaining: 25s\n",
            "758:\tlearn: 0.8704825\ttotal: 1m 18s\tremaining: 24.9s\n",
            "759:\tlearn: 0.8704808\ttotal: 1m 18s\tremaining: 24.8s\n",
            "760:\tlearn: 0.8704861\ttotal: 1m 18s\tremaining: 24.7s\n",
            "761:\tlearn: 0.8704985\ttotal: 1m 18s\tremaining: 24.6s\n",
            "762:\tlearn: 0.8705569\ttotal: 1m 18s\tremaining: 24.5s\n",
            "763:\tlearn: 0.8705852\ttotal: 1m 19s\tremaining: 24.4s\n",
            "764:\tlearn: 0.8705923\ttotal: 1m 19s\tremaining: 24.3s\n",
            "765:\tlearn: 0.8706064\ttotal: 1m 19s\tremaining: 24.2s\n",
            "766:\tlearn: 0.8706365\ttotal: 1m 19s\tremaining: 24.1s\n",
            "767:\tlearn: 0.8706259\ttotal: 1m 19s\tremaining: 24s\n",
            "768:\tlearn: 0.8706259\ttotal: 1m 19s\tremaining: 23.9s\n",
            "769:\tlearn: 0.8706312\ttotal: 1m 19s\tremaining: 23.8s\n",
            "770:\tlearn: 0.8706489\ttotal: 1m 19s\tremaining: 23.7s\n",
            "771:\tlearn: 0.8706507\ttotal: 1m 19s\tremaining: 23.6s\n",
            "772:\tlearn: 0.8706418\ttotal: 1m 19s\tremaining: 23.5s\n",
            "773:\tlearn: 0.8706808\ttotal: 1m 20s\tremaining: 23.4s\n",
            "774:\tlearn: 0.8706879\ttotal: 1m 20s\tremaining: 23.3s\n",
            "775:\tlearn: 0.8706896\ttotal: 1m 20s\tremaining: 23.2s\n",
            "776:\tlearn: 0.8706914\ttotal: 1m 20s\tremaining: 23.1s\n",
            "777:\tlearn: 0.8707073\ttotal: 1m 20s\tremaining: 23s\n",
            "778:\tlearn: 0.8707250\ttotal: 1m 20s\tremaining: 22.9s\n",
            "779:\tlearn: 0.8707321\ttotal: 1m 20s\tremaining: 22.8s\n",
            "780:\tlearn: 0.8707197\ttotal: 1m 20s\tremaining: 22.7s\n",
            "781:\tlearn: 0.8707215\ttotal: 1m 20s\tremaining: 22.6s\n",
            "782:\tlearn: 0.8707339\ttotal: 1m 21s\tremaining: 22.5s\n",
            "783:\tlearn: 0.8707533\ttotal: 1m 21s\tremaining: 22.3s\n",
            "784:\tlearn: 0.8707498\ttotal: 1m 21s\tremaining: 22.2s\n",
            "785:\tlearn: 0.8707710\ttotal: 1m 21s\tremaining: 22.1s\n",
            "786:\tlearn: 0.8707728\ttotal: 1m 21s\tremaining: 22s\n",
            "787:\tlearn: 0.8707852\ttotal: 1m 21s\tremaining: 21.9s\n",
            "788:\tlearn: 0.8707834\ttotal: 1m 21s\tremaining: 21.8s\n",
            "789:\tlearn: 0.8707923\ttotal: 1m 21s\tremaining: 21.7s\n",
            "790:\tlearn: 0.8707958\ttotal: 1m 21s\tremaining: 21.6s\n",
            "791:\tlearn: 0.8707994\ttotal: 1m 21s\tremaining: 21.5s\n",
            "792:\tlearn: 0.8707799\ttotal: 1m 22s\tremaining: 21.4s\n",
            "793:\tlearn: 0.8707764\ttotal: 1m 22s\tremaining: 21.3s\n",
            "794:\tlearn: 0.8707870\ttotal: 1m 22s\tremaining: 21.2s\n",
            "795:\tlearn: 0.8708153\ttotal: 1m 22s\tremaining: 21.1s\n",
            "796:\tlearn: 0.8708100\ttotal: 1m 22s\tremaining: 21s\n",
            "797:\tlearn: 0.8708100\ttotal: 1m 22s\tremaining: 20.9s\n",
            "798:\tlearn: 0.8708312\ttotal: 1m 22s\tremaining: 20.8s\n",
            "799:\tlearn: 0.8708277\ttotal: 1m 22s\tremaining: 20.7s\n",
            "800:\tlearn: 0.8708348\ttotal: 1m 22s\tremaining: 20.6s\n",
            "801:\tlearn: 0.8708436\ttotal: 1m 23s\tremaining: 20.5s\n",
            "802:\tlearn: 0.8708613\ttotal: 1m 23s\tremaining: 20.4s\n",
            "803:\tlearn: 0.8708595\ttotal: 1m 23s\tremaining: 20.3s\n",
            "804:\tlearn: 0.8708719\ttotal: 1m 23s\tremaining: 20.2s\n",
            "805:\tlearn: 0.8708737\ttotal: 1m 23s\tremaining: 20.1s\n",
            "806:\tlearn: 0.8708755\ttotal: 1m 23s\tremaining: 20s\n",
            "807:\tlearn: 0.8708595\ttotal: 1m 23s\tremaining: 19.9s\n",
            "808:\tlearn: 0.8708755\ttotal: 1m 23s\tremaining: 19.8s\n",
            "809:\tlearn: 0.8708790\ttotal: 1m 23s\tremaining: 19.7s\n",
            "810:\tlearn: 0.8708985\ttotal: 1m 23s\tremaining: 19.6s\n",
            "811:\tlearn: 0.8708843\ttotal: 1m 24s\tremaining: 19.5s\n",
            "812:\tlearn: 0.8708896\ttotal: 1m 24s\tremaining: 19.4s\n",
            "813:\tlearn: 0.8708843\ttotal: 1m 24s\tremaining: 19.3s\n",
            "814:\tlearn: 0.8708790\ttotal: 1m 24s\tremaining: 19.2s\n",
            "815:\tlearn: 0.8708737\ttotal: 1m 24s\tremaining: 19s\n",
            "816:\tlearn: 0.8708879\ttotal: 1m 24s\tremaining: 18.9s\n",
            "817:\tlearn: 0.8709180\ttotal: 1m 24s\tremaining: 18.8s\n",
            "818:\tlearn: 0.8709286\ttotal: 1m 24s\tremaining: 18.7s\n",
            "819:\tlearn: 0.8709357\ttotal: 1m 24s\tremaining: 18.6s\n",
            "820:\tlearn: 0.8709410\ttotal: 1m 24s\tremaining: 18.5s\n",
            "821:\tlearn: 0.8709534\ttotal: 1m 25s\tremaining: 18.4s\n",
            "822:\tlearn: 0.8709587\ttotal: 1m 25s\tremaining: 18.3s\n",
            "823:\tlearn: 0.8709587\ttotal: 1m 25s\tremaining: 18.2s\n",
            "824:\tlearn: 0.8709427\ttotal: 1m 25s\tremaining: 18.1s\n",
            "825:\tlearn: 0.8709445\ttotal: 1m 25s\tremaining: 18s\n",
            "826:\tlearn: 0.8709587\ttotal: 1m 25s\tremaining: 17.9s\n",
            "827:\tlearn: 0.8709569\ttotal: 1m 25s\tremaining: 17.8s\n",
            "828:\tlearn: 0.8709817\ttotal: 1m 25s\tremaining: 17.7s\n",
            "829:\tlearn: 0.8709781\ttotal: 1m 25s\tremaining: 17.6s\n",
            "830:\tlearn: 0.8709958\ttotal: 1m 26s\tremaining: 17.5s\n",
            "831:\tlearn: 0.8710100\ttotal: 1m 26s\tremaining: 17.4s\n",
            "832:\tlearn: 0.8710082\ttotal: 1m 26s\tremaining: 17.3s\n",
            "833:\tlearn: 0.8710047\ttotal: 1m 26s\tremaining: 17.2s\n",
            "834:\tlearn: 0.8710135\ttotal: 1m 26s\tremaining: 17.1s\n",
            "835:\tlearn: 0.8710065\ttotal: 1m 26s\tremaining: 17s\n",
            "836:\tlearn: 0.8710082\ttotal: 1m 26s\tremaining: 16.9s\n",
            "837:\tlearn: 0.8710011\ttotal: 1m 26s\tremaining: 16.8s\n",
            "838:\tlearn: 0.8710065\ttotal: 1m 26s\tremaining: 16.7s\n",
            "839:\tlearn: 0.8710206\ttotal: 1m 26s\tremaining: 16.6s\n",
            "840:\tlearn: 0.8710171\ttotal: 1m 27s\tremaining: 16.5s\n",
            "841:\tlearn: 0.8710401\ttotal: 1m 27s\tremaining: 16.4s\n",
            "842:\tlearn: 0.8710507\ttotal: 1m 27s\tremaining: 16.3s\n",
            "843:\tlearn: 0.8710472\ttotal: 1m 27s\tremaining: 16.2s\n",
            "844:\tlearn: 0.8710277\ttotal: 1m 27s\tremaining: 16.1s\n",
            "845:\tlearn: 0.8710365\ttotal: 1m 27s\tremaining: 15.9s\n",
            "846:\tlearn: 0.8710312\ttotal: 1m 27s\tremaining: 15.8s\n",
            "847:\tlearn: 0.8710507\ttotal: 1m 27s\tremaining: 15.7s\n",
            "848:\tlearn: 0.8710737\ttotal: 1m 27s\tremaining: 15.6s\n",
            "849:\tlearn: 0.8710719\ttotal: 1m 28s\tremaining: 15.5s\n",
            "850:\tlearn: 0.8711587\ttotal: 1m 28s\tremaining: 15.4s\n",
            "851:\tlearn: 0.8711781\ttotal: 1m 28s\tremaining: 15.3s\n",
            "852:\tlearn: 0.8711622\ttotal: 1m 28s\tremaining: 15.2s\n",
            "853:\tlearn: 0.8711640\ttotal: 1m 28s\tremaining: 15.1s\n",
            "854:\tlearn: 0.8711622\ttotal: 1m 28s\tremaining: 15s\n",
            "855:\tlearn: 0.8711481\ttotal: 1m 28s\tremaining: 14.9s\n",
            "856:\tlearn: 0.8711604\ttotal: 1m 28s\tremaining: 14.8s\n",
            "857:\tlearn: 0.8711498\ttotal: 1m 28s\tremaining: 14.7s\n",
            "858:\tlearn: 0.8711711\ttotal: 1m 28s\tremaining: 14.6s\n",
            "859:\tlearn: 0.8711675\ttotal: 1m 29s\tremaining: 14.5s\n",
            "860:\tlearn: 0.8711675\ttotal: 1m 29s\tremaining: 14.4s\n",
            "861:\tlearn: 0.8711746\ttotal: 1m 29s\tremaining: 14.3s\n",
            "862:\tlearn: 0.8711799\ttotal: 1m 29s\tremaining: 14.2s\n",
            "863:\tlearn: 0.8711728\ttotal: 1m 29s\tremaining: 14.1s\n",
            "864:\tlearn: 0.8712100\ttotal: 1m 29s\tremaining: 14s\n",
            "865:\tlearn: 0.8712118\ttotal: 1m 29s\tremaining: 13.9s\n",
            "866:\tlearn: 0.8712135\ttotal: 1m 29s\tremaining: 13.8s\n",
            "867:\tlearn: 0.8712100\ttotal: 1m 29s\tremaining: 13.7s\n",
            "868:\tlearn: 0.8712118\ttotal: 1m 29s\tremaining: 13.6s\n",
            "869:\tlearn: 0.8712100\ttotal: 1m 30s\tremaining: 13.5s\n",
            "870:\tlearn: 0.8711994\ttotal: 1m 30s\tremaining: 13.4s\n",
            "871:\tlearn: 0.8712065\ttotal: 1m 30s\tremaining: 13.3s\n",
            "872:\tlearn: 0.8712135\ttotal: 1m 30s\tremaining: 13.2s\n",
            "873:\tlearn: 0.8712047\ttotal: 1m 30s\tremaining: 13s\n",
            "874:\tlearn: 0.8712295\ttotal: 1m 30s\tremaining: 12.9s\n",
            "875:\tlearn: 0.8712224\ttotal: 1m 30s\tremaining: 12.8s\n",
            "876:\tlearn: 0.8712330\ttotal: 1m 30s\tremaining: 12.7s\n",
            "877:\tlearn: 0.8712242\ttotal: 1m 30s\tremaining: 12.6s\n",
            "878:\tlearn: 0.8712295\ttotal: 1m 31s\tremaining: 12.5s\n",
            "879:\tlearn: 0.8712277\ttotal: 1m 31s\tremaining: 12.4s\n",
            "880:\tlearn: 0.8712330\ttotal: 1m 31s\tremaining: 12.3s\n",
            "881:\tlearn: 0.8712419\ttotal: 1m 31s\tremaining: 12.2s\n",
            "882:\tlearn: 0.8712507\ttotal: 1m 31s\tremaining: 12.1s\n",
            "883:\tlearn: 0.8712489\ttotal: 1m 31s\tremaining: 12s\n",
            "884:\tlearn: 0.8712436\ttotal: 1m 31s\tremaining: 11.9s\n",
            "885:\tlearn: 0.8712489\ttotal: 1m 31s\tremaining: 11.8s\n",
            "886:\tlearn: 0.8712543\ttotal: 1m 31s\tremaining: 11.7s\n",
            "887:\tlearn: 0.8713127\ttotal: 1m 31s\tremaining: 11.6s\n",
            "888:\tlearn: 0.8713215\ttotal: 1m 32s\tremaining: 11.5s\n",
            "889:\tlearn: 0.8713357\ttotal: 1m 32s\tremaining: 11.4s\n",
            "890:\tlearn: 0.8713357\ttotal: 1m 32s\tremaining: 11.3s\n",
            "891:\tlearn: 0.8713516\ttotal: 1m 32s\tremaining: 11.2s\n",
            "892:\tlearn: 0.8713481\ttotal: 1m 32s\tremaining: 11.1s\n",
            "893:\tlearn: 0.8713569\ttotal: 1m 32s\tremaining: 11s\n",
            "894:\tlearn: 0.8713746\ttotal: 1m 32s\tremaining: 10.9s\n",
            "895:\tlearn: 0.8713728\ttotal: 1m 32s\tremaining: 10.8s\n",
            "896:\tlearn: 0.8713764\ttotal: 1m 32s\tremaining: 10.7s\n",
            "897:\tlearn: 0.8713799\ttotal: 1m 33s\tremaining: 10.6s\n",
            "898:\tlearn: 0.8713994\ttotal: 1m 33s\tremaining: 10.5s\n",
            "899:\tlearn: 0.8714029\ttotal: 1m 33s\tremaining: 10.4s\n",
            "900:\tlearn: 0.8714047\ttotal: 1m 33s\tremaining: 10.3s\n",
            "901:\tlearn: 0.8714224\ttotal: 1m 33s\tremaining: 10.2s\n",
            "902:\tlearn: 0.8714029\ttotal: 1m 33s\tremaining: 10.1s\n",
            "903:\tlearn: 0.8714224\ttotal: 1m 33s\tremaining: 9.95s\n",
            "904:\tlearn: 0.8714259\ttotal: 1m 33s\tremaining: 9.85s\n",
            "905:\tlearn: 0.8714242\ttotal: 1m 33s\tremaining: 9.74s\n",
            "906:\tlearn: 0.8714454\ttotal: 1m 34s\tremaining: 9.64s\n",
            "907:\tlearn: 0.8714525\ttotal: 1m 34s\tremaining: 9.54s\n",
            "908:\tlearn: 0.8714649\ttotal: 1m 34s\tremaining: 9.43s\n",
            "909:\tlearn: 0.8714578\ttotal: 1m 34s\tremaining: 9.33s\n",
            "910:\tlearn: 0.8714525\ttotal: 1m 34s\tremaining: 9.22s\n",
            "911:\tlearn: 0.8714401\ttotal: 1m 34s\tremaining: 9.12s\n",
            "912:\tlearn: 0.8714578\ttotal: 1m 34s\tremaining: 9.02s\n",
            "913:\tlearn: 0.8714525\ttotal: 1m 34s\tremaining: 8.91s\n",
            "914:\tlearn: 0.8714790\ttotal: 1m 34s\tremaining: 8.81s\n",
            "915:\tlearn: 0.8714808\ttotal: 1m 34s\tremaining: 8.71s\n",
            "916:\tlearn: 0.8714755\ttotal: 1m 35s\tremaining: 8.6s\n",
            "917:\tlearn: 0.8714808\ttotal: 1m 35s\tremaining: 8.5s\n",
            "918:\tlearn: 0.8714932\ttotal: 1m 35s\tremaining: 8.4s\n",
            "919:\tlearn: 0.8714879\ttotal: 1m 35s\tremaining: 8.29s\n",
            "920:\tlearn: 0.8714897\ttotal: 1m 35s\tremaining: 8.19s\n",
            "921:\tlearn: 0.8714914\ttotal: 1m 35s\tremaining: 8.09s\n",
            "922:\tlearn: 0.8715127\ttotal: 1m 35s\tremaining: 7.98s\n",
            "923:\tlearn: 0.8715074\ttotal: 1m 35s\tremaining: 7.88s\n",
            "924:\tlearn: 0.8715109\ttotal: 1m 35s\tremaining: 7.77s\n",
            "925:\tlearn: 0.8715162\ttotal: 1m 35s\tremaining: 7.67s\n",
            "926:\tlearn: 0.8715127\ttotal: 1m 36s\tremaining: 7.57s\n",
            "927:\tlearn: 0.8715428\ttotal: 1m 36s\tremaining: 7.46s\n",
            "928:\tlearn: 0.8715410\ttotal: 1m 36s\tremaining: 7.36s\n",
            "929:\tlearn: 0.8715463\ttotal: 1m 36s\tremaining: 7.26s\n",
            "930:\tlearn: 0.8715906\ttotal: 1m 36s\tremaining: 7.15s\n",
            "931:\tlearn: 0.8715870\ttotal: 1m 36s\tremaining: 7.05s\n",
            "932:\tlearn: 0.8715994\ttotal: 1m 36s\tremaining: 6.95s\n",
            "933:\tlearn: 0.8716029\ttotal: 1m 36s\tremaining: 6.84s\n",
            "934:\tlearn: 0.8716012\ttotal: 1m 36s\tremaining: 6.74s\n",
            "935:\tlearn: 0.8715906\ttotal: 1m 37s\tremaining: 6.63s\n",
            "936:\tlearn: 0.8715941\ttotal: 1m 37s\tremaining: 6.53s\n",
            "937:\tlearn: 0.8716189\ttotal: 1m 37s\tremaining: 6.43s\n",
            "938:\tlearn: 0.8716242\ttotal: 1m 37s\tremaining: 6.32s\n",
            "939:\tlearn: 0.8716260\ttotal: 1m 37s\tremaining: 6.22s\n",
            "940:\tlearn: 0.8716313\ttotal: 1m 37s\tremaining: 6.12s\n",
            "941:\tlearn: 0.8716437\ttotal: 1m 37s\tremaining: 6.01s\n",
            "942:\tlearn: 0.8716383\ttotal: 1m 37s\tremaining: 5.91s\n",
            "943:\tlearn: 0.8716543\ttotal: 1m 37s\tremaining: 5.81s\n",
            "944:\tlearn: 0.8716560\ttotal: 1m 37s\tremaining: 5.7s\n",
            "945:\tlearn: 0.8716560\ttotal: 1m 38s\tremaining: 5.6s\n",
            "946:\tlearn: 0.8716578\ttotal: 1m 38s\tremaining: 5.49s\n",
            "947:\tlearn: 0.8716525\ttotal: 1m 38s\tremaining: 5.39s\n",
            "948:\tlearn: 0.8716543\ttotal: 1m 38s\tremaining: 5.29s\n",
            "949:\tlearn: 0.8716560\ttotal: 1m 38s\tremaining: 5.18s\n",
            "950:\tlearn: 0.8716702\ttotal: 1m 38s\tremaining: 5.08s\n",
            "951:\tlearn: 0.8716968\ttotal: 1m 38s\tremaining: 4.98s\n",
            "952:\tlearn: 0.8716950\ttotal: 1m 38s\tremaining: 4.87s\n",
            "953:\tlearn: 0.8716897\ttotal: 1m 38s\tremaining: 4.77s\n",
            "954:\tlearn: 0.8716968\ttotal: 1m 39s\tremaining: 4.67s\n",
            "955:\tlearn: 0.8716914\ttotal: 1m 39s\tremaining: 4.56s\n",
            "956:\tlearn: 0.8717127\ttotal: 1m 39s\tremaining: 4.46s\n",
            "957:\tlearn: 0.8717286\ttotal: 1m 39s\tremaining: 4.36s\n",
            "958:\tlearn: 0.8717198\ttotal: 1m 39s\tremaining: 4.25s\n",
            "959:\tlearn: 0.8717215\ttotal: 1m 39s\tremaining: 4.15s\n",
            "960:\tlearn: 0.8717180\ttotal: 1m 39s\tremaining: 4.04s\n",
            "961:\tlearn: 0.8717056\ttotal: 1m 39s\tremaining: 3.94s\n",
            "962:\tlearn: 0.8717162\ttotal: 1m 39s\tremaining: 3.84s\n",
            "963:\tlearn: 0.8717286\ttotal: 1m 39s\tremaining: 3.73s\n",
            "964:\tlearn: 0.8717481\ttotal: 1m 40s\tremaining: 3.63s\n",
            "965:\tlearn: 0.8717392\ttotal: 1m 40s\tremaining: 3.53s\n",
            "966:\tlearn: 0.8717463\ttotal: 1m 40s\tremaining: 3.42s\n",
            "967:\tlearn: 0.8717552\ttotal: 1m 40s\tremaining: 3.32s\n",
            "968:\tlearn: 0.8717587\ttotal: 1m 40s\tremaining: 3.21s\n",
            "969:\tlearn: 0.8717976\ttotal: 1m 40s\tremaining: 3.11s\n",
            "970:\tlearn: 0.8718012\ttotal: 1m 40s\tremaining: 3.01s\n",
            "971:\tlearn: 0.8717782\ttotal: 1m 40s\tremaining: 2.9s\n",
            "972:\tlearn: 0.8717799\ttotal: 1m 40s\tremaining: 2.8s\n",
            "973:\tlearn: 0.8717906\ttotal: 1m 41s\tremaining: 2.7s\n",
            "974:\tlearn: 0.8718100\ttotal: 1m 41s\tremaining: 2.59s\n",
            "975:\tlearn: 0.8718065\ttotal: 1m 41s\tremaining: 2.49s\n",
            "976:\tlearn: 0.8718171\ttotal: 1m 41s\tremaining: 2.38s\n",
            "977:\tlearn: 0.8718153\ttotal: 1m 41s\tremaining: 2.28s\n",
            "978:\tlearn: 0.8718189\ttotal: 1m 41s\tremaining: 2.18s\n",
            "979:\tlearn: 0.8718189\ttotal: 1m 41s\tremaining: 2.07s\n",
            "980:\tlearn: 0.8718702\ttotal: 1m 41s\tremaining: 1.97s\n",
            "981:\tlearn: 0.8718791\ttotal: 1m 41s\tremaining: 1.87s\n",
            "982:\tlearn: 0.8718861\ttotal: 1m 41s\tremaining: 1.76s\n",
            "983:\tlearn: 0.8719375\ttotal: 1m 42s\tremaining: 1.66s\n",
            "984:\tlearn: 0.8719375\ttotal: 1m 42s\tremaining: 1.56s\n",
            "985:\tlearn: 0.8719428\ttotal: 1m 42s\tremaining: 1.45s\n",
            "986:\tlearn: 0.8719534\ttotal: 1m 42s\tremaining: 1.35s\n",
            "987:\tlearn: 0.8719410\ttotal: 1m 42s\tremaining: 1.25s\n",
            "988:\tlearn: 0.8719410\ttotal: 1m 42s\tremaining: 1.14s\n",
            "989:\tlearn: 0.8719410\ttotal: 1m 42s\tremaining: 1.04s\n",
            "990:\tlearn: 0.8719676\ttotal: 1m 42s\tremaining: 934ms\n",
            "991:\tlearn: 0.8719799\ttotal: 1m 42s\tremaining: 830ms\n",
            "992:\tlearn: 0.8719817\ttotal: 1m 43s\tremaining: 726ms\n",
            "993:\tlearn: 0.8719835\ttotal: 1m 43s\tremaining: 623ms\n",
            "994:\tlearn: 0.8719870\ttotal: 1m 43s\tremaining: 519ms\n",
            "995:\tlearn: 0.8719923\ttotal: 1m 43s\tremaining: 415ms\n",
            "996:\tlearn: 0.8719799\ttotal: 1m 43s\tremaining: 311ms\n",
            "997:\tlearn: 0.8719817\ttotal: 1m 43s\tremaining: 208ms\n",
            "998:\tlearn: 0.8719853\ttotal: 1m 43s\tremaining: 104ms\n",
            "999:\tlearn: 0.8720012\ttotal: 1m 43s\tremaining: 0us\n",
            "Confusion Matrix:\n",
            "\n",
            "Classification Report:\n",
            "\n",
            "              precision    recall  f1-score   support\n",
            "\n",
            "           0       0.82      0.94      0.88     70165\n",
            "           1       0.93      0.80      0.86     71079\n",
            "\n",
            "    accuracy                           0.87    141244\n",
            "   macro avg       0.88      0.87      0.87    141244\n",
            "weighted avg       0.88      0.87      0.87    141244\n",
            "\n"
          ],
          "name": "stdout"
        },
        {
          "output_type": "display_data",
          "data": {
            "image/png": "[encoded data removed]",
            "text/plain": [
              "<Figure size 576x396 with 2 Axes>"
            ]
          },
          "metadata": {
            "tags": [],
            "image/png": {
              "width": 460,
              "height": 329
            }
          }
        }
      ]
    }
  ]
}